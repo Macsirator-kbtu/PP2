{
 "cells": [
  {
   "cell_type": "code",
   "execution_count": 97,
   "id": "6e6ae3d0-c9f4-4105-bb58-a9ac8b49f20a",
   "metadata": {},
   "outputs": [
    {
     "name": "stdout",
     "output_type": "stream",
     "text": [
      "Interface Status\n",
      "================================================================================\n",
      "DN                                                 Description           Speed    MTU  \n",
      "-------------------------------------------------- --------------------  ------  ------\n",
      "topology/pod-1/node-201/sys/phys-[eth1/33]                              inherit   9150\n",
      "topology/pod-1/node-201/sys/phys-[eth1/34]                              inherit   9150\n",
      "topology/pod-1/node-201/sys/phys-[eth1/35]                              inherit   9150\n",
      "topology/pod-1/node-201/sys/phys-[eth1/36]                              inherit   9150\n",
      "topology/pod-1/node-201/sys/phys-[eth1/1]                               inherit   9150\n",
      "topology/pod-1/node-201/sys/phys-[eth1/2]                               inherit   9150\n",
      "topology/pod-1/node-201/sys/phys-[eth1/3]                               inherit   9150\n",
      "topology/pod-1/node-201/sys/phys-[eth1/4]                               inherit   9150\n",
      "topology/pod-1/node-201/sys/phys-[eth1/5]                               inherit   9150\n",
      "topology/pod-1/node-201/sys/phys-[eth1/6]                               inherit   9150\n",
      "topology/pod-1/node-201/sys/phys-[eth1/7]                               inherit   9150\n",
      "topology/pod-1/node-201/sys/phys-[eth1/8]                               inherit   9150\n",
      "topology/pod-1/node-201/sys/phys-[eth1/9]                               inherit   9150\n",
      "topology/pod-1/node-201/sys/phys-[eth1/10]                              inherit   9150\n",
      "topology/pod-1/node-201/sys/phys-[eth1/11]                              inherit   9150\n",
      "topology/pod-1/node-201/sys/phys-[eth1/12]                              inherit   9150\n",
      "topology/pod-1/node-201/sys/phys-[eth1/13]                              inherit   9150\n",
      "topology/pod-1/node-201/sys/phys-[eth1/14]                              inherit   9150\n"
     ]
    }
   ],
   "source": [
    "import json\n",
    "\n",
    "x = open(\"sample-data.json\")\n",
    "y = json.load(x)\n",
    "\n",
    "print(\"Interface Status\")\n",
    "print(\"================================================================================\")\n",
    "print(\"DN                                                 Description           Speed    MTU  \")\n",
    "print(\"-------------------------------------------------- --------------------  ------  ------\")\n",
    "\n",
    "for b in y['imdata']:\n",
    "    f = b['l1PhysIf']['attributes']\n",
    "\n",
    "    dn = f['dn']\n",
    "    description = f['descr']\n",
    "    speed = f['speed']\n",
    "    mtu = f['mtu']\n",
    "    \n",
    "    print(dn, \" \"*(51-len(dn)), description, \" \"*(17-len(description)), speed,\" \", mtu)"
   ]
  },
  {
   "cell_type": "code",
   "execution_count": 93,
   "id": "4c08397f-a83e-4f45-9b18-983522836b75",
   "metadata": {},
   "outputs": [
    {
     "name": "stdout",
     "output_type": "stream",
     "text": [
      "5 days ago was: 2025-02-14\n"
     ]
    }
   ],
   "source": [
    "import datetime\n",
    "\n",
    "today = datetime.date.today()\n",
    "nottoday = today - datetime.timedelta(days=5)\n",
    "\n",
    "print(\"5 days ago was:\", nottoday)"
   ]
  },
  {
   "cell_type": "code",
   "execution_count": 95,
   "id": "7d3eef97-8d2c-4706-b934-0ac04a63a0cf",
   "metadata": {},
   "outputs": [
    {
     "name": "stdout",
     "output_type": "stream",
     "text": [
      "2025-02-18\n",
      "2025-02-19\n",
      "2025-02-20\n"
     ]
    }
   ],
   "source": [
    "import datetime\n",
    "\n",
    "today= datetime.date.today()\n",
    "yesterday = today - datetime.timedelta(days=1)\n",
    "tomorrow = today - datetime.timedelta(days=-1)\n",
    "\n",
    "print(yesterday)\n",
    "print(today)\n",
    "print(tomorrow)"
   ]
  },
  {
   "cell_type": "code",
   "execution_count": 109,
   "id": "7e9ac687-466c-422b-b4ab-10be604fd437",
   "metadata": {},
   "outputs": [
    {
     "name": "stdout",
     "output_type": "stream",
     "text": [
      "2025-02-19 20:54:13\n"
     ]
    }
   ],
   "source": [
    "import datetime\n",
    "\n",
    "time = datetime.datetime.now()\n",
    "print(time.replace(microsecond=0))"
   ]
  },
  {
   "cell_type": "code",
   "execution_count": 223,
   "id": "83cb495f-a5e0-43b6-af72-10eda0532c4b",
   "metadata": {},
   "outputs": [
    {
     "name": "stdin",
     "output_type": "stream",
     "text": [
      "Enter the first date (YYYY-MM-DD HH:MM:SS):  2006-01-30 11:50:39\n",
      "Enter the second date (YYYY-MM-DD HH:MM:SS):  2021-09-18 12:00:00\n"
     ]
    },
    {
     "name": "stdout",
     "output_type": "stream",
     "text": [
      "The difference between the two dates is 493344561.0 seconds.\n"
     ]
    }
   ],
   "source": [
    "from datetime import datetime\n",
    "date1 = input(\"Enter the first date (YYYY-MM-DD HH:MM:SS): \")\n",
    "date2 = input(\"Enter the second date (YYYY-MM-DD HH:MM:SS): \")\n",
    "\n",
    "date_format = \"%Y-%m-%d %H:%M:%S\"\n",
    "datetime1 = datetime.strptime(date1, date_format)\n",
    "datetime2 = datetime.strptime(date2, date_format)\n",
    "difference = datetime2 - datetime1\n",
    "difference_in_seconds = difference.total_seconds()\n",
    "\n",
    "print(f\"The difference between the two dates is {difference_in_seconds} seconds.\")\n",
    "\n",
    "#example dates: \n",
    "#2006-01-30 11:50:39\n",
    "#2021-09-18 12:00:00\n"
   ]
  },
  {
   "cell_type": "code",
   "execution_count": 131,
   "id": "7bdceb91-7958-4192-9e22-cb917f35c6c5",
   "metadata": {},
   "outputs": [
    {
     "name": "stdin",
     "output_type": "stream",
     "text": [
      "Input Degree 15\n"
     ]
    },
    {
     "name": "stdout",
     "output_type": "stream",
     "text": [
      "0.2617993877991494\n"
     ]
    }
   ],
   "source": [
    "import math\n",
    "\n",
    "degree=int(input(\"Input Degree:\"))\n",
    "print(math.radians(degree))"
   ]
  },
  {
   "cell_type": "code",
   "execution_count": 135,
   "id": "bb4b62e1-736b-4e7a-9501-a9fd702aa9df",
   "metadata": {},
   "outputs": [
    {
     "name": "stdin",
     "output_type": "stream",
     "text": [
      "Input Height 5\n",
      "first value 5\n",
      "second value 6\n"
     ]
    },
    {
     "name": "stdout",
     "output_type": "stream",
     "text": [
      "27.5\n"
     ]
    }
   ],
   "source": [
    "import math\n",
    "\n",
    "height=int(input(\"Input Height:\"))\n",
    "x=int(input(\"first value:\"))\n",
    "y=int(input(\"second value:\"))\n",
    "\n",
    "area = ((x+y)*height)/2\n",
    "print(area)"
   ]
  },
  {
   "cell_type": "code",
   "execution_count": 155,
   "id": "405aa787-3df2-48f3-863e-931a2f28d3f5",
   "metadata": {},
   "outputs": [
    {
     "name": "stdin",
     "output_type": "stream",
     "text": [
      "Input number of sides 4\n",
      "Input the length of a side 25\n"
     ]
    },
    {
     "name": "stdout",
     "output_type": "stream",
     "text": [
      "625.0000000000001\n"
     ]
    }
   ],
   "source": [
    "import math\n",
    "\n",
    "sides=int(input(\"Input number of sides:\"))\n",
    "x=float(input(\"Input the length of a side:\"))\n",
    "area = (sides * x**2) / (4 * math.tan(math.pi / sides))\n",
    "print(area)"
   ]
  },
  {
   "cell_type": "code",
   "execution_count": 157,
   "id": "b24686e1-fac8-4765-8f7f-756e6666cd92",
   "metadata": {},
   "outputs": [
    {
     "name": "stdin",
     "output_type": "stream",
     "text": [
      "Length of base: 5\n",
      "Height of parallelogram: 6\n"
     ]
    },
    {
     "name": "stdout",
     "output_type": "stream",
     "text": [
      "30\n"
     ]
    }
   ],
   "source": [
    "import math\n",
    "\n",
    "length=int(input(\"Length of base\n",
    ";\"))\n",
    "height=int(input(\"Height of parallelogram:\"))\n",
    "area=length*height\n",
    "print(area)"
   ]
  },
  {
   "cell_type": "code",
   "execution_count": 167,
   "id": "666b220e-8e10-4475-9496-34d35619e7b1",
   "metadata": {},
   "outputs": [
    {
     "name": "stdin",
     "output_type": "stream",
     "text": [
      " 5\n"
     ]
    },
    {
     "name": "stdout",
     "output_type": "stream",
     "text": [
      "1\n",
      "4\n",
      "9\n",
      "16\n"
     ]
    }
   ],
   "source": [
    "def squares(N):\n",
    "    for i in range(1,N):\n",
    "        yield i ** 2\n",
    "\n",
    "N = int(input(\"number:\"))\n",
    "for square in squares(N):\n",
    "    print(square)"
   ]
  },
  {
   "cell_type": "code",
   "execution_count": 203,
   "id": "8f4ebe00-66b2-4ac0-a574-6688a29c9445",
   "metadata": {},
   "outputs": [
    {
     "name": "stdin",
     "output_type": "stream",
     "text": [
      "Enter a number:  10\n"
     ]
    },
    {
     "name": "stdout",
     "output_type": "stream",
     "text": [
      "0, 2, 4, 6, 8, 10, \n"
     ]
    }
   ],
   "source": [
    "def evennumbers(n):\n",
    "    for i in range(n + 1):\n",
    "        if i % 2 == 0:\n",
    "            yield i\n",
    "\n",
    "n = int(input(\"Enter a number:\"))\n",
    "even_numbers = evennumbers(n)\n",
    "result = \"\"\n",
    "for num in even_numbers:\n",
    "    result += str(num)+\", \"\n",
    "\n",
    "print(result)"
   ]
  },
  {
   "cell_type": "code",
   "execution_count": 209,
   "id": "840bf1fb-2c6b-4475-aa95-8a26fbc131c4",
   "metadata": {},
   "outputs": [
    {
     "name": "stdin",
     "output_type": "stream",
     "text": [
      " 100\n"
     ]
    },
    {
     "name": "stdout",
     "output_type": "stream",
     "text": [
      "0\n",
      "12\n",
      "24\n",
      "36\n",
      "48\n",
      "60\n",
      "72\n",
      "84\n",
      "96\n"
     ]
    }
   ],
   "source": [
    "def divide(n):\n",
    "    for i in range(n + 1):\n",
    "        if i % 3 == 0 and i % 4 == 0:\n",
    "            yield i\n",
    "\n",
    "n = int(input(\"Number:\"))\n",
    "for num in divide(n):\n",
    "    print(num)"
   ]
  },
  {
   "cell_type": "code",
   "execution_count": 213,
   "id": "9a2ecf0f-81ad-4b81-bc36-ce8dc2184ecd",
   "metadata": {},
   "outputs": [
    {
     "name": "stdin",
     "output_type": "stream",
     "text": [
      "first number 3\n",
      "second number 6\n"
     ]
    },
    {
     "name": "stdout",
     "output_type": "stream",
     "text": [
      "9\n",
      "16\n",
      "25\n",
      "36\n"
     ]
    }
   ],
   "source": [
    "def squares(a, b):\n",
    "    for i in range(a, b + 1):\n",
    "        yield i ** 2\n",
    "\n",
    "a = int(input(\"first number:\"))\n",
    "b = int(input(\"second number:\"))\n",
    "for square in squares(a, b):\n",
    "    print(square)"
   ]
  },
  {
   "cell_type": "code",
   "execution_count": 217,
   "id": "35d0e6a7-1a8d-4e97-9fdf-1c9d2d5405c9",
   "metadata": {},
   "outputs": [
    {
     "name": "stdin",
     "output_type": "stream",
     "text": [
      " 5\n"
     ]
    },
    {
     "name": "stdout",
     "output_type": "stream",
     "text": [
      "5\n",
      "4\n",
      "3\n",
      "2\n",
      "1\n",
      "0\n"
     ]
    }
   ],
   "source": [
    "def countdown(n):\n",
    "    while n >= 0:\n",
    "        yield n\n",
    "        n -= 1\n",
    "\n",
    "n = int(input())\n",
    "for num in countdown(n):\n",
    "    print(num)"
   ]
  }
 ],
 "metadata": {
  "kernelspec": {
   "display_name": "Python [conda env:base] *",
   "language": "python",
   "name": "conda-base-py"
  },
  "language_info": {
   "codemirror_mode": {
    "name": "ipython",
    "version": 3
   },
   "file_extension": ".py",
   "mimetype": "text/x-python",
   "name": "python",
   "nbconvert_exporter": "python",
   "pygments_lexer": "ipython3",
   "version": "3.12.7"
  }
 },
 "nbformat": 4,
 "nbformat_minor": 5
}
