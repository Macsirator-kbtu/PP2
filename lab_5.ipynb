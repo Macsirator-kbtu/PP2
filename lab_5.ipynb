{
 "cells": [
  {
   "cell_type": "code",
   "execution_count": 56,
   "id": "1a3a1dcc-65ab-4788-a049-32c2f0bedf20",
   "metadata": {},
   "outputs": [
    {
     "name": "stdin",
     "output_type": "stream",
     "text": [
      "Enter a string to test:  ba\n"
     ]
    },
    {
     "name": "stdout",
     "output_type": "stream",
     "text": [
      "ba , Doesn't matches\n"
     ]
    }
   ],
   "source": [
    "import re\n",
    "\n",
    "Ga = input(\"Enter a string to test: \")\n",
    "\n",
    "pattern = r'ab*'\n",
    "\n",
    "if re.fullmatch(pattern, Ga):\n",
    "    print(Ga,\", Matches\")\n",
    "else:\n",
    "    print(Ga,\", Doesn't matches\")"
   ]
  },
  {
   "cell_type": "code",
   "execution_count": 4,
   "id": "3e9a811e-e432-4b4c-8194-ae643ffab936",
   "metadata": {},
   "outputs": [
    {
     "name": "stdout",
     "output_type": "stream",
     "text": [
      "'abb' matches the pattern\n",
      "'abbb' matches the pattern\n",
      "'ab' does not match the pattern\n",
      "'abbbb' does not match the pattern\n"
     ]
    }
   ],
   "source": [
    "import re\n",
    "\n",
    "Text = input(\"Enter a string to test: \")\n",
    "\n",
    "pattern = r'ab{2,3}'\n",
    "\n",
    "if re.fullmatch(pattern, Text):\n",
    "    print(Text,\", Matches\")\n",
    "else:\n",
    "    print(Text,\", Doesn't matches\")"
   ]
  },
  {
   "cell_type": "code",
   "execution_count": null,
   "id": "4b065a3d-f54c-4443-af43-268c7ce96b3d",
   "metadata": {},
   "outputs": [],
   "source": [
    "import re\n",
    "\n",
    "Text = input(\"Enter a string to test: \")\n",
    "\n",
    "pattern = r'[a-z]+_[a-z]+'\n",
    "\n",
    "matches = re.findall(pattern, Text)\n",
    "\n",
    "if matches:\n",
    "    print(\"Matches found:\", matches)\n",
    "else:\n",
    "    print(\"No matches found.\")"
   ]
  },
  {
   "cell_type": "code",
   "execution_count": null,
   "id": "5773d507-234f-4a55-aacd-27297844cb3f",
   "metadata": {},
   "outputs": [],
   "source": [
    "import re\n",
    "\n",
    "TEEEXT = input(\"Enter a string to test: \")\n",
    "\n",
    "pattern = r'[A-Z][a-z]+'\n",
    "\n",
    "matches = re.findall(pattern, TEEEXT)\n",
    "\n",
    "if matches:\n",
    "    print(\"Matches found:\", matches)\n",
    "else:\n",
    "    print(\"No matches found.\")"
   ]
  },
  {
   "cell_type": "code",
   "execution_count": 42,
   "id": "3b68652b-6904-48e1-9545-a5fce9d318df",
   "metadata": {},
   "outputs": [
    {
     "name": "stdin",
     "output_type": "stream",
     "text": [
      "Enter a string to test:  Big boy\n"
     ]
    },
    {
     "name": "stdout",
     "output_type": "stream",
     "text": [
      "Big boy , Doesn't matches\n"
     ]
    }
   ],
   "source": [
    "import re\n",
    "\n",
    "TTTEEEXXXTTT = input(\"Enter a string to test: \")\n",
    "\n",
    "pattern = r'a.*b$'\n",
    "\n",
    "if re.fullmatch(pattern, TTTEEEXXXTTT):\n",
    "    print(TTTEEEXXXTTT,\", Matches\")\n",
    "else:\n",
    "    print(TTTEEEXXXTTT,\", Doesn't matches\")"
   ]
  },
  {
   "cell_type": "code",
   "execution_count": 40,
   "id": "7ccde0a4-c0fe-47dd-90dd-b64667b83474",
   "metadata": {},
   "outputs": [
    {
     "name": "stdin",
     "output_type": "stream",
     "text": [
      "Enter a string to test:  Hello How are u\n"
     ]
    },
    {
     "name": "stdout",
     "output_type": "stream",
     "text": [
      "Modified text: Hello:How:are:u\n"
     ]
    }
   ],
   "source": [
    "import re\n",
    "\n",
    "text = input(\"Enter a string to test: \")\n",
    "\n",
    "new_text = re.sub(r'[ ,.]', ':', text)\n",
    "\n",
    "print(\"Modified text:\", new_text)"
   ]
  },
  {
   "cell_type": "code",
   "execution_count": 22,
   "id": "b5a21ad0-d034-4b7f-b83a-06755d191895",
   "metadata": {},
   "outputs": [
    {
     "name": "stdin",
     "output_type": "stream",
     "text": [
      "Enter a input with _:  Hello_world\n"
     ]
    },
    {
     "name": "stdout",
     "output_type": "stream",
     "text": [
      "Camel case string: HelloWorld\n"
     ]
    }
   ],
   "source": [
    "import re\n",
    "\n",
    "text = input(\"Enter a input with _: \")\n",
    "\n",
    "parts = text.split('_')\n",
    "\n",
    "camel_str = parts[0] + ''.join(word.title() for word in parts[1:])\n",
    "\n",
    "print(\"Camelcasestring:\", camel_str)"
   ]
  },
  {
   "cell_type": "code",
   "execution_count": 74,
   "id": "d622fabd-5957-4834-bacb-d71524070bc7",
   "metadata": {},
   "outputs": [
    {
     "name": "stdin",
     "output_type": "stream",
     "text": [
      "Enter a string with big letters:  HIII\n"
     ]
    },
    {
     "name": "stdout",
     "output_type": "stream",
     "text": [
      "S p l i t result: ['H', 'I', 'I', 'I']\n"
     ]
    }
   ],
   "source": [
    "import re\n",
    "\n",
    "text = input(\"Enter a string with big letters: \")\n",
    "\n",
    "result = re.findall(r'[A-Z][^A-Z]*', text)\n",
    "\n",
    "print(\"S p l i t result:\", result)"
   ]
  },
  {
   "cell_type": "code",
   "execution_count": 32,
   "id": "3378f8a2-a06d-4942-aabb-b14d6b679b61",
   "metadata": {},
   "outputs": [
    {
     "name": "stdin",
     "output_type": "stream",
     "text": [
      "Enter a string with big letters:  HELLO\n"
     ]
    },
    {
     "name": "stdout",
     "output_type": "stream",
     "text": [
      "Modified text: H E L L O\n"
     ]
    }
   ],
   "source": [
    "import re\n",
    "\n",
    "text = input(\"Enter a string with big letters: \")\n",
    "\n",
    "new_text = re.sub(r'(?<!^)([A-Z])', r' \\1', text)\n",
    "\n",
    "print(\"Modified text:\", new_text)"
   ]
  },
  {
   "cell_type": "code",
   "execution_count": 28,
   "id": "2fc8cbf4-e52f-46ec-9c80-dcdfdc757d3e",
   "metadata": {},
   "outputs": [
    {
     "name": "stdin",
     "output_type": "stream",
     "text": [
      "Enter a camel case string (e.g., helloWorldPython):  HelloWorldPython\n"
     ]
    },
    {
     "name": "stdout",
     "output_type": "stream",
     "text": [
      "Snake case string: hello_world_python\n"
     ]
    }
   ],
   "source": [
    "import re\n",
    "\n",
    "text = input(\"Enter a camel case string: \")\n",
    "\n",
    "snake_str = re.sub(r'(?<!^)([A-Z])', r'_\\1', text).lower()\n",
    "\n",
    "print(\"snake_case_string:\", snake_str)"
   ]
  },
  {
   "cell_type": "code",
   "execution_count": null,
   "id": "bc228538-0950-40d2-93a0-56acecf11033",
   "metadata": {},
   "outputs": [],
   "source": []
  }
 ],
 "metadata": {
  "kernelspec": {
   "display_name": "Python [conda env:base] *",
   "language": "python",
   "name": "conda-base-py"
  },
  "language_info": {
   "codemirror_mode": {
    "name": "ipython",
    "version": 3
   },
   "file_extension": ".py",
   "mimetype": "text/x-python",
   "name": "python",
   "nbconvert_exporter": "python",
   "pygments_lexer": "ipython3",
   "version": "3.12.7"
  }
 },
 "nbformat": 4,
 "nbformat_minor": 5
}
