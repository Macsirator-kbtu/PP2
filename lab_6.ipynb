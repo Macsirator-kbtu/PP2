{
 "cells": [
  {
   "cell_type": "markdown",
   "id": "b07538ba-a144-435d-98dd-afc747321cc5",
   "metadata": {},
   "source": [
    "Python builtin functions exercises"
   ]
  },
  {
   "cell_type": "code",
   "execution_count": 2,
   "id": "3553003f-d8a0-407f-8425-772ce94a3681",
   "metadata": {},
   "outputs": [
    {
     "name": "stdout",
     "output_type": "stream",
     "text": [
      "The product of the numbers is: 120\n"
     ]
    }
   ],
   "source": [
    "numbers = [1, 2, 3, 4, 5]\n",
    "result = 1  \n",
    "\n",
    "for num in numbers:\n",
    "    result = result * num\n",
    "\n",
    "print(\"The product is\", result)"
   ]
  },
  {
   "cell_type": "code",
   "execution_count": 4,
   "id": "0568da19-3750-4dcf-ba42-16ab4dbc62e4",
   "metadata": {},
   "outputs": [
    {
     "name": "stdout",
     "output_type": "stream",
     "text": [
      "Uppercase letters: 2\n",
      "Lowercase letters: 8\n"
     ]
    }
   ],
   "source": [
    "text = \"Hello World! 123\"\n",
    "upper_count = 0\n",
    "lower_count = 0\n",
    "\n",
    "for char in text:\n",
    "    if char.isupper():\n",
    "        upper_count += 1\n",
    "    elif char.islower():\n",
    "        lower_count += 1\n",
    "\n",
    "print(\"Uppercase letters:\", upper_count)\n",
    "print(\"Lowercase letters:\", lower_count)"
   ]
  },
  {
   "cell_type": "code",
   "execution_count": 6,
   "id": "b2d17128-11a8-4e19-a141-51303448fe16",
   "metadata": {},
   "outputs": [
    {
     "name": "stdout",
     "output_type": "stream",
     "text": [
      "It's a palindrome!\n"
     ]
    }
   ],
   "source": [
    "text = \"A man, a plan, a canal, Panama\"\n",
    "cleaned_text = \"\"\n",
    "\n",
    "\n",
    "for char in text:\n",
    "    if char.isalnum():\n",
    "        cleaned_text += char.lower()\n",
    "\n",
    "if cleaned_text == cleaned_text[::-1]:\n",
    "    print(\"It's a palindrome!\")\n",
    "else:\n",
    "    print(\"It's not a palindrome.\")"
   ]
  },
  {
   "cell_type": "code",
   "execution_count": 16,
   "id": "d4e5a9f8-5d67-4571-b119-dbc33a7add53",
   "metadata": {},
   "outputs": [
    {
     "name": "stdin",
     "output_type": "stream",
     "text": [
      "Input ur number: 25000\n",
      "Input ur delay: 1000\n"
     ]
    },
    {
     "name": "stdout",
     "output_type": "stream",
     "text": [
      "Square root of number after delay is: 158.11388300841898\n"
     ]
    }
   ],
   "source": [
    "import time\n",
    "import math\n",
    "\n",
    "number = int(input(\"Input ur number:\"))\n",
    "delay = int(input(\"Input ur delay:\"))\n",
    "\n",
    "time.sleep(delay / 1000) \n",
    "\n",
    "result = math.sqrt(number)\n",
    "\n",
    "print(\"Square root of number after delay is:\",result)"
   ]
  },
  {
   "cell_type": "code",
   "execution_count": 9,
   "id": "552b6444-4e2e-4931-9e5d-5e1e7abd4aef",
   "metadata": {},
   "outputs": [
    {
     "name": "stdout",
     "output_type": "stream",
     "text": [
      "All elements in the tuple are true.\n"
     ]
    }
   ],
   "source": [
    "my_tuple = (True, 1, \"Hello\")\n",
    "all_true = True  \n",
    "for item in my_tuple:\n",
    "    if not item:  \n",
    "        all_true = False\n",
    "        break\n",
    "\n",
    "if all_true:\n",
    "    print(\"All elements in the tuple are true.\")\n",
    "else:\n",
    "    print(\"Not all elements in the tuple are true.\")"
   ]
  },
  {
   "cell_type": "markdown",
   "id": "ef8a6b93-afb8-4331-a430-321c2f70fb9c",
   "metadata": {},
   "source": [
    "Python Directories and Files exercises"
   ]
  },
  {
   "cell_type": "code",
   "execution_count": null,
   "id": "e23298ce-aa9d-40c8-9ed5-42718ba5ec32",
   "metadata": {},
   "outputs": [],
   "source": [
    "import os\n",
    "\n",
    "path = input(\"Enter the folder path: \")\n",
    "\n",
    "print(\"Folders in this path:\")\n",
    "for item in os.listdir(path):\n",
    "    if os.path.isdir(os.path.join(path, item)):\n",
    "        print(item)\n",
    "\n",
    "# List only files\n",
    "print(\"\\nFiles in this path:\")\n",
    "for item in os.listdir(path):\n",
    "    if os.path.isfile(os.path.join(path, item)):\n",
    "        print(item)\n",
    "\n",
    "print(\"\\nEverything in this path:\")\n",
    "for item in os.listdir(path):\n",
    "    print(item)"
   ]
  },
  {
   "cell_type": "code",
   "execution_count": null,
   "id": "1f38cf82-08a3-4bd1-8c1f-a9b45e222ec1",
   "metadata": {},
   "outputs": [],
   "source": [
    "import os\n",
    "\n",
    "path = input(\"Enter the file or folder path: \")\n",
    "\n",
    "if os.path.exists(path):\n",
    "    print(\"The path exists\")\n",
    "    if os.access(path, os.R_OK):\n",
    "        print(\"You can read this.\")\n",
    "    else:\n",
    "        print(\"You cannot read this.\")\n",
    "    if os.access(path, os.W_OK):\n",
    "        print(\"You can write to this.\")\n",
    "    else:\n",
    "        print(\"You cannot write to this.\")\n",
    "    if os.access(path, os.X_OK):\n",
    "        print(\"You can execute this.\")\n",
    "    else:\n",
    "        print(\"You cannot execute this.\")\n",
    "else:\n",
    "    print(\"The path does not exist.\")"
   ]
  },
  {
   "cell_type": "code",
   "execution_count": null,
   "id": "c5c3d8b8-b774-4144-9ba3-e5476af102e8",
   "metadata": {},
   "outputs": [],
   "source": [
    "import os\n",
    "\n",
    "path = input(\"Enter the file or folder path: \")\n",
    "\n",
    "if os.path.exists(path):\n",
    "    print(\"The path exists\")\n",
    "    folder = os.path.dirname(path)\n",
    "    print(\"Folder:\", folder)\n",
    "    file_name = os.path.basename(path)\n",
    "    print(\"File name:\", file_name)\n",
    "else:\n",
    "    print(\"The path does not exist.\")"
   ]
  },
  {
   "cell_type": "code",
   "execution_count": null,
   "id": "d75cc6f1-4ff5-4a82-be62-99f34952f486",
   "metadata": {},
   "outputs": [],
   "source": [
    "file_path = input(\"Enter the file path: \")\n",
    "\n",
    "with open(file_path, \"r\") as file:\n",
    "    line_count = 0\n",
    "    for line in file:\n",
    "        line_count += 1\n",
    "print(\"Number of lines:\", line_count)"
   ]
  },
  {
   "cell_type": "code",
   "execution_count": null,
   "id": "60527635-fc4b-4873-9871-7344ba90384b",
   "metadata": {},
   "outputs": [],
   "source": [
    "my_list = [\"Apple\", \"Banana\", \"Cherry\"]\n",
    "\n",
    "file_path = input(\"Enter the file path to save the list: \")\n",
    "\n",
    "with open(file_path, \"w\") as file:\n",
    "    for item in my_list:\n",
    "        file.write(item + \"\\n\")  \n",
    "print(\"List saved to the file!\")"
   ]
  },
  {
   "cell_type": "code",
   "execution_count": null,
   "id": "6be8ac3a-e73c-4dec-815d-0ce236582767",
   "metadata": {},
   "outputs": [],
   "source": [
    "import string\n",
    "\n",
    "for letter in string.ascii_uppercase:\n",
    "    file_name = f\"{letter}.txt\"\n",
    "    with open(file_name, \"w\") as file:\n",
    "        file.write(f\"This is file {file_name}\\n\")\n",
    "print(\"26 files created from A.txt to Z.txt!\")"
   ]
  },
  {
   "cell_type": "code",
   "execution_count": null,
   "id": "ab409bfa-c1bd-4fb5-bbfc-c8b8a07f54af",
   "metadata": {},
   "outputs": [],
   "source": [
    "source_path = input(\"Enter the source file path: \")\n",
    "destination_path = input(\"Enter the destination file path: \")\n",
    "\n",
    "with open(source_path, \"r\") as source_file:\n",
    "    contents = source_file.read()\n",
    "\n",
    "with open(destination_path, \"w\") as destination_file:\n",
    "    destination_file.write(contents)\n",
    "\n",
    "print(\"File copied successfully!\")"
   ]
  },
  {
   "cell_type": "code",
   "execution_count": null,
   "id": "e3bf8252-1d72-4f37-82a6-5eb21abde743",
   "metadata": {},
   "outputs": [],
   "source": [
    "import os\n",
    "\n",
    "file_path = input(\"Enter the file path to delete: \")\n",
    "\n",
    "if os.path.exists(file_path):\n",
    "    if os.access(file_path, os.W_OK):\n",
    "        os.remove(file_path)\n",
    "        print(\"File deleted successfully!\")\n",
    "    else:\n",
    "        print(\"You do not have permission to delete this file.\")\n",
    "else:\n",
    "    print(\"The file does not exist.\")"
   ]
  }
 ],
 "metadata": {
  "kernelspec": {
   "display_name": "Python [conda env:base] *",
   "language": "python",
   "name": "conda-base-py"
  },
  "language_info": {
   "codemirror_mode": {
    "name": "ipython",
    "version": 3
   },
   "file_extension": ".py",
   "mimetype": "text/x-python",
   "name": "python",
   "nbconvert_exporter": "python",
   "pygments_lexer": "ipython3",
   "version": "3.12.7"
  }
 },
 "nbformat": 4,
 "nbformat_minor": 5
}
