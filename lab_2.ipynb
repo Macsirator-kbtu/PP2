{
 "cells": [
  {
   "cell_type": "code",
   "execution_count": null,
   "id": "7bcabb11-f616-422e-91bb-b2da9fd51025",
   "metadata": {},
   "outputs": [],
   "source": [
    "Booleans"
   ]
  },
  {
   "cell_type": "code",
   "execution_count": null,
   "id": "4db5e083-0739-42b8-b8be-26d73aab1899",
   "metadata": {},
   "outputs": [],
   "source": []
  },
  {
   "cell_type": "code",
   "execution_count": null,
   "id": "b767cce9-28e3-4aa9-862b-f634b5e1c052",
   "metadata": {},
   "outputs": [],
   "source": [
    "Example"
   ]
  },
  {
   "cell_type": "code",
   "execution_count": null,
   "id": "5abc48a0-18c8-4136-854f-0dcdb2523284",
   "metadata": {},
   "outputs": [],
   "source": [
    "print(10 > 9)\n",
    "print(10 == 9)\n",
    "print(10 < 9)"
   ]
  },
  {
   "cell_type": "code",
   "execution_count": null,
   "id": "912f6c67-7e0e-4346-b99f-b596f63f726f",
   "metadata": {},
   "outputs": [],
   "source": [
    "a = 200\n",
    "b = 33\n",
    "\n",
    "if b > a:\n",
    "  print(\"b is greater than a\")\n",
    "else:\n",
    "  print(\"b is not greater than a\")"
   ]
  },
  {
   "cell_type": "code",
   "execution_count": null,
   "id": "4da15411-8d4d-43f5-b732-6181e6342ba6",
   "metadata": {},
   "outputs": [],
   "source": [
    "print(bool(\"Hello\"))\n",
    "print(bool(15))"
   ]
  },
  {
   "cell_type": "code",
   "execution_count": null,
   "id": "9b29fcc9-9834-418d-b70e-204877a83f7a",
   "metadata": {},
   "outputs": [],
   "source": [
    "x = \"Hello\"\n",
    "y = 15\n",
    "\n",
    "print(bool(x))\n",
    "print(bool(y))"
   ]
  },
  {
   "cell_type": "code",
   "execution_count": null,
   "id": "7a3e2a52-236b-478c-94ce-36f264c1483f",
   "metadata": {},
   "outputs": [],
   "source": [
    "bool(\"abc\")\n",
    "bool(123)\n",
    "bool([\"apple\", \"cherry\", \"banana\"])"
   ]
  },
  {
   "cell_type": "code",
   "execution_count": null,
   "id": "156f1b11-daa7-4fc2-8b55-f985d4feac77",
   "metadata": {},
   "outputs": [],
   "source": [
    "bool(False)\n",
    "bool(None)\n",
    "bool(0)\n",
    "bool(\"\")\n",
    "bool(())\n",
    "bool([])\n",
    "bool({})"
   ]
  },
  {
   "cell_type": "code",
   "execution_count": null,
   "id": "6773aa46-b434-4c01-a0e9-2f30fa99a434",
   "metadata": {},
   "outputs": [],
   "source": [
    "class myclass():\n",
    "  def __len__(self):\n",
    "    return 0\n",
    "\n",
    "myobj = myclass()\n",
    "print(bool(myobj))"
   ]
  },
  {
   "cell_type": "code",
   "execution_count": null,
   "id": "96872e2d-a49a-425f-8d3a-fc892531168a",
   "metadata": {},
   "outputs": [],
   "source": [
    "def myFunction() :\n",
    "  return True\n",
    "\n",
    "print(myFunction())"
   ]
  },
  {
   "cell_type": "code",
   "execution_count": null,
   "id": "d34dc8c7-30fa-41de-9a98-015b75c97583",
   "metadata": {},
   "outputs": [],
   "source": [
    "def myFunction() :\n",
    "  return True\n",
    "\n",
    "if myFunction():\n",
    "  print(\"YES!\")\n",
    "else:\n",
    "  print(\"NO!\")"
   ]
  },
  {
   "cell_type": "code",
   "execution_count": null,
   "id": "89c92c60-0ee3-477c-979c-38fa0bc735d7",
   "metadata": {},
   "outputs": [],
   "source": [
    "x = 200\n",
    "print(isinstance(x, int))"
   ]
  },
  {
   "cell_type": "code",
   "execution_count": null,
   "id": "375d219c-2843-43e9-a7c8-a0467451c9d7",
   "metadata": {},
   "outputs": [],
   "source": [
    "Exercise"
   ]
  },
  {
   "cell_type": "code",
   "execution_count": null,
   "id": "2fa174f8-8b95-443d-ba3d-48bdf98b9de0",
   "metadata": {},
   "outputs": [],
   "source": [
    "#What will be the result of the following syntax:\n",
    "print(5 > 3)\n",
    "#True"
   ]
  },
  {
   "cell_type": "code",
   "execution_count": null,
   "id": "c7325f63-59c4-4904-833b-9e7b2f4dbd8a",
   "metadata": {},
   "outputs": [],
   "source": [
    "#The statement below would print a Boolean value, which one?\n",
    "print(10 > 9)\n",
    "#True"
   ]
  },
  {
   "cell_type": "code",
   "execution_count": null,
   "id": "72402655-c395-4593-b1a3-04367d504ce8",
   "metadata": {},
   "outputs": [],
   "source": [
    "#The statement below would print a Boolean value, which one?\n",
    "print(10 == 9)\n",
    "#False"
   ]
  },
  {
   "cell_type": "code",
   "execution_count": null,
   "id": "c625f366-f68b-4527-8e3e-646198089b65",
   "metadata": {},
   "outputs": [],
   "source": [
    "#The statement below would print a Boolean value, which one?\n",
    "print(10 < 9)\n",
    "#False"
   ]
  },
  {
   "cell_type": "code",
   "execution_count": null,
   "id": "cccee989-c80f-4ee2-a3e4-eb132774fa02",
   "metadata": {},
   "outputs": [],
   "source": [
    "#The statement below would print a Boolean value, which one?\n",
    "print(bool(\"abc\"))\n",
    "#True"
   ]
  },
  {
   "cell_type": "code",
   "execution_count": null,
   "id": "a2c4c443-ef63-4a18-a2e6-3f3d8410b229",
   "metadata": {},
   "outputs": [],
   "source": [
    "#The statement below would print a Boolean value, which one?\n",
    "print(bool(0))\n",
    "#False"
   ]
  },
  {
   "cell_type": "code",
   "execution_count": null,
   "id": "ff667af0-3dfc-4464-b42f-b3b435a111d0",
   "metadata": {},
   "outputs": [],
   "source": []
  },
  {
   "cell_type": "code",
   "execution_count": null,
   "id": "740a66e4-ef29-4758-996a-2d866efa793d",
   "metadata": {},
   "outputs": [],
   "source": [
    "Operators"
   ]
  },
  {
   "cell_type": "code",
   "execution_count": null,
   "id": "bcfb084c-9b3d-4486-9d18-3500b8928b7f",
   "metadata": {},
   "outputs": [],
   "source": []
  },
  {
   "cell_type": "code",
   "execution_count": null,
   "id": "f3fe8bb6-8cea-4baa-abb6-f044da506641",
   "metadata": {},
   "outputs": [],
   "source": [
    "Example"
   ]
  },
  {
   "cell_type": "code",
   "execution_count": null,
   "id": "5de13026-f590-4aca-867c-aa5e0c020ba7",
   "metadata": {},
   "outputs": [],
   "source": [
    "print(10 + 5)"
   ]
  },
  {
   "cell_type": "code",
   "execution_count": null,
   "id": "e13434ef-d5f4-4d88-9147-52b9a4996a4a",
   "metadata": {},
   "outputs": [],
   "source": [
    "print((6 + 3) - (6 + 3))"
   ]
  },
  {
   "cell_type": "code",
   "execution_count": null,
   "id": "e05bc082-b55d-4059-b887-d608f6f0d51e",
   "metadata": {},
   "outputs": [],
   "source": [
    "print(100 + 5 * 3)"
   ]
  },
  {
   "cell_type": "code",
   "execution_count": null,
   "id": "f27a7c0f-435c-4989-97e3-eadbede66671",
   "metadata": {},
   "outputs": [],
   "source": [
    "print(5 + 4 - 7 + 3)"
   ]
  },
  {
   "cell_type": "code",
   "execution_count": null,
   "id": "9aedfc2b-3124-4573-a376-7e4fbea3df02",
   "metadata": {},
   "outputs": [],
   "source": [
    "Exercise"
   ]
  },
  {
   "cell_type": "code",
   "execution_count": null,
   "id": "13e13833-ad22-4274-bab5-1e6485156dc3",
   "metadata": {},
   "outputs": [],
   "source": [
    "#What will be the result of the following syntax:\n",
    "x = 5\n",
    "x += 3\n",
    "print(x)\n",
    "#8"
   ]
  },
  {
   "cell_type": "code",
   "execution_count": null,
   "id": "2bd56bb7-f385-4f35-bd3e-a96f055cb040",
   "metadata": {},
   "outputs": [],
   "source": [
    "#Multiply 10 with 5, and print the result.\n",
    "print(10*5)\n",
    "#50"
   ]
  },
  {
   "cell_type": "code",
   "execution_count": null,
   "id": "e7f5e7db-d1b7-429a-9a1b-b3cd9a445653",
   "metadata": {},
   "outputs": [],
   "source": [
    "#Divide 10 by 2, and print the result.\n",
    "print(10/2)\n",
    "#5"
   ]
  },
  {
   "cell_type": "code",
   "execution_count": null,
   "id": "5cbd0019-28ea-4742-8ef9-c1ce33338eef",
   "metadata": {},
   "outputs": [],
   "source": [
    "#Use the correct membership operator to check if \"apple\" is present in the fruits object.\n",
    "fruits = [\"apple\", \"banana\"]\n",
    "if \"apple\" in fruits:\n",
    "  print(\"Yes, apple is a fruit!\")"
   ]
  },
  {
   "cell_type": "code",
   "execution_count": null,
   "id": "8e6f5def-c284-4c0a-aab1-04572d065254",
   "metadata": {},
   "outputs": [],
   "source": [
    "#Use the correct comparison operator to check if 5 is not equal to 10.\n",
    "if 5 != 10:\n",
    "  print(\"5 and 10 is not equal\")"
   ]
  },
  {
   "cell_type": "code",
   "execution_count": null,
   "id": "0d4d08de-a937-4523-8fba-3d96bd59a45c",
   "metadata": {},
   "outputs": [],
   "source": [
    "#Use the correct logical operator to check if at least one of two statements is True.\n",
    "if 5 == 10 or 4 == 4:\n",
    "  print(\"At least one of the statements is true\")"
   ]
  },
  {
   "cell_type": "code",
   "execution_count": null,
   "id": "c220fca7-fdbe-49d7-b281-64236338db4b",
   "metadata": {},
   "outputs": [],
   "source": []
  },
  {
   "cell_type": "code",
   "execution_count": null,
   "id": "3abb1ff5-3627-40fe-9635-740510b1cc64",
   "metadata": {},
   "outputs": [],
   "source": [
    "Lists"
   ]
  },
  {
   "cell_type": "code",
   "execution_count": null,
   "id": "1b166053-2876-4005-886b-745d4ae17e67",
   "metadata": {},
   "outputs": [],
   "source": []
  },
  {
   "cell_type": "code",
   "execution_count": null,
   "id": "18b6acf4-f6f7-48ac-8b87-09bb0baa51d3",
   "metadata": {},
   "outputs": [],
   "source": [
    "Example"
   ]
  },
  {
   "cell_type": "code",
   "execution_count": null,
   "id": "fcf123a1-c294-4e9d-b23d-7e4cae35f63b",
   "metadata": {},
   "outputs": [],
   "source": [
    "mylist = [\"apple\", \"banana\", \"cherry\"]"
   ]
  },
  {
   "cell_type": "code",
   "execution_count": null,
   "id": "26145141-9b38-436e-aab2-145b0e7bacf1",
   "metadata": {},
   "outputs": [],
   "source": [
    "Example"
   ]
  },
  {
   "cell_type": "code",
   "execution_count": null,
   "id": "60a81a0e-8aee-48ca-a2d2-b1cce2595a39",
   "metadata": {},
   "outputs": [],
   "source": [
    "thislist = [\"apple\", \"banana\", \"cherry\"]\n",
    "print(thislist)"
   ]
  },
  {
   "cell_type": "code",
   "execution_count": null,
   "id": "41f0476d-d084-4bfc-b3b1-ff7c2aa4d7db",
   "metadata": {},
   "outputs": [],
   "source": [
    "thislist = [\"apple\", \"banana\", \"cherry\", \"apple\", \"cherry\"]\n",
    "print(thislist)"
   ]
  },
  {
   "cell_type": "code",
   "execution_count": null,
   "id": "522e0835-2113-4c61-8020-c20f20ea1558",
   "metadata": {},
   "outputs": [],
   "source": [
    "thislist = [\"apple\", \"banana\", \"cherry\"]\n",
    "print(len(thislist))"
   ]
  },
  {
   "cell_type": "code",
   "execution_count": null,
   "id": "7948a757-893b-4cc7-b335-3baa04b9e779",
   "metadata": {},
   "outputs": [],
   "source": [
    "list1 = [\"apple\", \"banana\", \"cherry\"]\n",
    "list2 = [1, 5, 7, 9, 3]\n",
    "list3 = [True, False, False]"
   ]
  },
  {
   "cell_type": "code",
   "execution_count": null,
   "id": "7001cf96-b7f3-4b89-91c1-e5f519a3612f",
   "metadata": {},
   "outputs": [],
   "source": [
    "list1 = [\"abc\", 34, True, 40, \"male\"]"
   ]
  },
  {
   "cell_type": "code",
   "execution_count": null,
   "id": "8a8b5daa-ce26-48d2-b914-1c8d00fe82a1",
   "metadata": {},
   "outputs": [],
   "source": [
    "mylist = [\"apple\", \"banana\", \"cherry\"]\n",
    "print(type(mylist))"
   ]
  },
  {
   "cell_type": "code",
   "execution_count": null,
   "id": "401ec008-7ac6-4f6f-a501-db22489973d3",
   "metadata": {},
   "outputs": [],
   "source": [
    "thislist = list((\"apple\", \"banana\", \"cherry\")) # note the double round-brackets\n",
    "print(thislist)"
   ]
  },
  {
   "cell_type": "code",
   "execution_count": null,
   "id": "562234ad-963e-4035-89fe-659ccaeb51b4",
   "metadata": {},
   "outputs": [],
   "source": [
    "Exercise"
   ]
  },
  {
   "cell_type": "code",
   "execution_count": null,
   "id": "772ea951-0b9f-4a75-9589-1209ef9fb0a5",
   "metadata": {},
   "outputs": [],
   "source": [
    "#What will be the result of the following syntax:\n",
    "mylist = ['apple', 'banana', 'cherry']\n",
    "print(mylist[1])\n",
    "#banana"
   ]
  },
  {
   "cell_type": "code",
   "execution_count": null,
   "id": "b46fa11d-cf33-42e1-94eb-520843584b81",
   "metadata": {},
   "outputs": [],
   "source": [
    "#What will be the result of the following syntax:\n",
    "mylist = ['apple', 'banana', 'banana', 'cherry']\n",
    "print(mylist[2])\n",
    "#banana"
   ]
  },
  {
   "cell_type": "code",
   "execution_count": null,
   "id": "b7048f89-4bc2-4892-9ed4-8d87c9b16fb7",
   "metadata": {},
   "outputs": [],
   "source": [
    "#True or False.\n",
    "#List items cannot be removed after the list has been created.\n",
    "#False"
   ]
  },
  {
   "cell_type": "code",
   "execution_count": null,
   "id": "82a1c4a9-1067-4bc2-88c9-d3039559d128",
   "metadata": {},
   "outputs": [],
   "source": [
    "Select the correct function for returning the number of items in a list:\n",
    "thislist = ['apple', 'banana', 'cherry']\n",
    "print(len(thislist))"
   ]
  },
  {
   "cell_type": "code",
   "execution_count": null,
   "id": "08ad0b54-53f4-45a9-95f9-69150c3c54e7",
   "metadata": {},
   "outputs": [],
   "source": []
  },
  {
   "cell_type": "code",
   "execution_count": null,
   "id": "0e7a7403-6fe4-4162-8761-ebf38461b09a",
   "metadata": {},
   "outputs": [],
   "source": [
    "Access List"
   ]
  },
  {
   "cell_type": "code",
   "execution_count": null,
   "id": "a4f71089-22b6-4e16-bcf0-64df0ef06eeb",
   "metadata": {},
   "outputs": [],
   "source": []
  },
  {
   "cell_type": "code",
   "execution_count": null,
   "id": "ab5e751f-ddaf-441c-8ae9-d7cc53241567",
   "metadata": {},
   "outputs": [],
   "source": [
    "Example"
   ]
  },
  {
   "cell_type": "code",
   "execution_count": null,
   "id": "acb7de79-55a1-45cf-a491-e7f2f87a2efc",
   "metadata": {},
   "outputs": [],
   "source": [
    "thislist = [\"apple\", \"banana\", \"cherry\"]\n",
    "print(thislist[1])"
   ]
  },
  {
   "cell_type": "code",
   "execution_count": null,
   "id": "3495a84e-7979-4ae2-80b0-6b7a50890c59",
   "metadata": {},
   "outputs": [],
   "source": [
    "thislist = [\"apple\", \"banana\", \"cherry\"]\n",
    "print(thislist[-1])"
   ]
  },
  {
   "cell_type": "code",
   "execution_count": null,
   "id": "4b04e71c-64ff-458a-84b6-4d3c217aa677",
   "metadata": {},
   "outputs": [],
   "source": [
    "thislist = [\"apple\", \"banana\", \"cherry\", \"orange\", \"kiwi\", \"melon\", \"mango\"]\n",
    "print(thislist[2:5])"
   ]
  },
  {
   "cell_type": "code",
   "execution_count": null,
   "id": "ba24585c-c467-4be9-aad9-2ee5583f71b4",
   "metadata": {},
   "outputs": [],
   "source": [
    "thislist = [\"apple\", \"banana\", \"cherry\", \"orange\", \"kiwi\", \"melon\", \"mango\"]\n",
    "print(thislist[:4])"
   ]
  },
  {
   "cell_type": "code",
   "execution_count": null,
   "id": "ff2a4383-b2fd-4753-87c4-9e0a541ebb81",
   "metadata": {},
   "outputs": [],
   "source": [
    "thislist = [\"apple\", \"banana\", \"cherry\", \"orange\", \"kiwi\", \"melon\", \"mango\"]\n",
    "print(thislist[2:])"
   ]
  },
  {
   "cell_type": "code",
   "execution_count": null,
   "id": "5e8a8b0f-6532-43f7-bc8b-9e2f6ad8c666",
   "metadata": {},
   "outputs": [],
   "source": [
    "thislist = [\"apple\", \"banana\", \"cherry\", \"orange\", \"kiwi\", \"melon\", \"mango\"]\n",
    "print(thislist[-4:-1])"
   ]
  },
  {
   "cell_type": "code",
   "execution_count": null,
   "id": "9191fa0c-3048-43be-87bc-32a1094bf593",
   "metadata": {},
   "outputs": [],
   "source": [
    "thislist = [\"apple\", \"banana\", \"cherry\"]\n",
    "if \"apple\" in thislist:\n",
    "  print(\"Yes, 'apple' is in the fruits list\")"
   ]
  },
  {
   "cell_type": "code",
   "execution_count": null,
   "id": "669cd85c-d7d0-41c0-837e-63ce64fa1715",
   "metadata": {},
   "outputs": [],
   "source": [
    "Exercise"
   ]
  },
  {
   "cell_type": "code",
   "execution_count": null,
   "id": "ce4d1b12-032f-44ba-aa1a-0fb2eb978c10",
   "metadata": {},
   "outputs": [],
   "source": [
    "#What will be the result of the following syntax:\n",
    "mylist = ['apple', 'banana', 'cherry']\n",
    "print(mylist[-1])\n",
    "#Cherry"
   ]
  },
  {
   "cell_type": "code",
   "execution_count": null,
   "id": "478a7ad7-76db-4500-b75f-75b2057dc76a",
   "metadata": {},
   "outputs": [],
   "source": [
    "#Print the second item in the fruits list.\n",
    "fruits = [\"apple\", \"banana\", \"cherry\"]\n",
    "print(fruits[1])"
   ]
  },
  {
   "cell_type": "code",
   "execution_count": null,
   "id": "fc9fa5b1-a6cc-4b98-9429-667b0492eba6",
   "metadata": {},
   "outputs": [],
   "source": [
    "#What will be the result of the following syntax:\n",
    "mylist = ['apple', 'banana', 'cherry', 'orange', 'kiwi']\n",
    "print(mylist[1:4])\n",
    "#['banana', 'cherry', 'orange']"
   ]
  },
  {
   "cell_type": "code",
   "execution_count": null,
   "id": "738aff82-67f1-4ad3-b2a9-08bd411635ab",
   "metadata": {},
   "outputs": [],
   "source": [
    "Use a range of indexes to print the third, fourth, and fifth item in the list.\n",
    "fruits = [\"apple\", \"banana\", \"cherry\", \"orange\", \"kiwi\", \"melon\", \"mango\"]\n",
    "print(fruits[2:5])"
   ]
  },
  {
   "cell_type": "code",
   "execution_count": null,
   "id": "0b956bc6-20b1-4a91-958c-2eb522dc165c",
   "metadata": {},
   "outputs": [],
   "source": []
  },
  {
   "cell_type": "code",
   "execution_count": null,
   "id": "de991d75-5b98-4ca1-b861-e12976e73c8f",
   "metadata": {},
   "outputs": [],
   "source": [
    "Change List"
   ]
  },
  {
   "cell_type": "code",
   "execution_count": null,
   "id": "cae6c2e1-3336-4837-8d80-e0cd317c3417",
   "metadata": {},
   "outputs": [],
   "source": []
  },
  {
   "cell_type": "code",
   "execution_count": null,
   "id": "6a5a4c34-742e-4728-b7d6-7026aa51d98d",
   "metadata": {},
   "outputs": [],
   "source": [
    "Example"
   ]
  },
  {
   "cell_type": "code",
   "execution_count": null,
   "id": "64ad07eb-b87e-433e-8dcd-b6451da9324a",
   "metadata": {},
   "outputs": [],
   "source": [
    "thislist = [\"apple\", \"banana\", \"cherry\"]\n",
    "thislist[1] = \"blackcurrant\"\n",
    "print(thislist)"
   ]
  },
  {
   "cell_type": "code",
   "execution_count": null,
   "id": "03bfe21c-858f-4262-adcc-8a9f83e49089",
   "metadata": {},
   "outputs": [],
   "source": [
    "thislist = [\"apple\", \"banana\", \"cherry\", \"orange\", \"kiwi\", \"mango\"]\n",
    "thislist[1:3] = [\"blackcurrant\", \"watermelon\"]\n",
    "print(thislist)"
   ]
  },
  {
   "cell_type": "code",
   "execution_count": null,
   "id": "e7cb337a-b23a-4b7e-9250-b4ed9d123fb5",
   "metadata": {},
   "outputs": [],
   "source": [
    "thislist = [\"apple\", \"banana\", \"cherry\"]\n",
    "thislist[1:2] = [\"blackcurrant\", \"watermelon\"]\n",
    "print(thislist)"
   ]
  },
  {
   "cell_type": "code",
   "execution_count": null,
   "id": "9fe15c69-3400-46e6-8de6-7ea004c8a109",
   "metadata": {},
   "outputs": [],
   "source": [
    "thislist = [\"apple\", \"banana\", \"cherry\"]\n",
    "thislist[1:3] = [\"watermelon\"]\n",
    "print(thislist)"
   ]
  },
  {
   "cell_type": "code",
   "execution_count": null,
   "id": "47a26e44-0351-4b50-b457-cb0c99b0594c",
   "metadata": {},
   "outputs": [],
   "source": [
    "thislist = [\"apple\", \"banana\", \"cherry\"]\n",
    "thislist.insert(2, \"watermelon\")\n",
    "print(thislist)"
   ]
  },
  {
   "cell_type": "code",
   "execution_count": null,
   "id": "123779ff-0290-4463-a450-0369298c6c2c",
   "metadata": {},
   "outputs": [],
   "source": [
    "Exercise"
   ]
  },
  {
   "cell_type": "code",
   "execution_count": null,
   "id": "47670fdd-ae74-4a9a-8b7b-361deb42db4e",
   "metadata": {},
   "outputs": [],
   "source": [
    "#What will be the result of the following syntax:\n",
    "mylist = ['apple', 'banana', 'cherry']\n",
    "mylist[0] = 'kiwi'\n",
    "print(mylist[1])\n",
    "#Banana"
   ]
  },
  {
   "cell_type": "code",
   "execution_count": null,
   "id": "16e32e9a-1b11-4cb7-9be9-5b27a28bf6cb",
   "metadata": {},
   "outputs": [],
   "source": [
    "#Change the value from \"apple\" to \"kiwi\", in the fruits list.\n",
    "fruits = [\"apple\", \"banana\", \"cherry\"]\n",
    "fruits[0] = \"kiwi\"\n"
   ]
  },
  {
   "cell_type": "code",
   "execution_count": null,
   "id": "ac242f70-75d7-4cf3-8a7e-a073c1cec5e7",
   "metadata": {},
   "outputs": [],
   "source": [
    "#What will be the result of the following syntax:\n",
    "mylist = ['apple', 'banana', 'cherry']\n",
    "mylist[1:2] = ['kiwi', 'mango']\n",
    "print(mylist[2])\n",
    "#mango"
   ]
  },
  {
   "cell_type": "code",
   "execution_count": null,
   "id": "3dfd0fb8-e1a1-4da5-93d8-4e7979a2af33",
   "metadata": {},
   "outputs": [],
   "source": []
  },
  {
   "cell_type": "code",
   "execution_count": null,
   "id": "640c3a9f-eb3e-46fa-a311-31f3512b7e55",
   "metadata": {},
   "outputs": [],
   "source": [
    "Add List"
   ]
  },
  {
   "cell_type": "code",
   "execution_count": null,
   "id": "b9aab001-15c4-42fc-8305-161ffea813c4",
   "metadata": {},
   "outputs": [],
   "source": []
  },
  {
   "cell_type": "code",
   "execution_count": null,
   "id": "b264aee1-194c-4f9b-afc1-66a43d323d40",
   "metadata": {},
   "outputs": [],
   "source": [
    "Example"
   ]
  },
  {
   "cell_type": "code",
   "execution_count": null,
   "id": "28016a5f-08e0-47d0-b665-c1c024a03bbf",
   "metadata": {},
   "outputs": [],
   "source": [
    "thislist = [\"apple\", \"banana\", \"cherry\"]\n",
    "thislist.append(\"orange\")\n",
    "print(thislist)"
   ]
  },
  {
   "cell_type": "code",
   "execution_count": null,
   "id": "124ad15f-c276-4bb1-901b-f1eec4201440",
   "metadata": {},
   "outputs": [],
   "source": [
    "thislist = [\"apple\", \"banana\", \"cherry\"]\n",
    "thislist.insert(1, \"orange\")\n",
    "print(thislist)"
   ]
  },
  {
   "cell_type": "code",
   "execution_count": null,
   "id": "95c54b61-f9fe-4729-a779-f4cdb0cabbda",
   "metadata": {},
   "outputs": [],
   "source": [
    "thislist = [\"apple\", \"banana\", \"cherry\"]\n",
    "tropical = [\"mango\", \"pineapple\", \"papaya\"]\n",
    "thislist.extend(tropical)\n",
    "print(thislist)"
   ]
  },
  {
   "cell_type": "code",
   "execution_count": null,
   "id": "1c8d358e-725d-4c41-b471-497833bac04c",
   "metadata": {},
   "outputs": [],
   "source": [
    "thislist = [\"apple\", \"banana\", \"cherry\"]\n",
    "thistuple = (\"kiwi\", \"orange\")\n",
    "thislist.extend(thistuple)\n",
    "print(thislist)"
   ]
  },
  {
   "cell_type": "code",
   "execution_count": null,
   "id": "7d3161d2-6ce9-4ef2-9a55-273c82055580",
   "metadata": {},
   "outputs": [],
   "source": [
    "Exercise"
   ]
  },
  {
   "cell_type": "code",
   "execution_count": null,
   "id": "4af5e16c-ca9e-44cd-bf6a-e266c93a362d",
   "metadata": {},
   "outputs": [],
   "source": [
    "#What will be the result of the following syntax:\n",
    "mylist = ['apple', 'banana', 'cherry']\n",
    "mylist.insert(0, 'orange')\n",
    "print(mylist[1])\n",
    "#apple"
   ]
  },
  {
   "cell_type": "code",
   "execution_count": null,
   "id": "63f5bdb0-df31-4588-b2fe-383a9459bbb3",
   "metadata": {},
   "outputs": [],
   "source": [
    "#Use the append method to add \"orange\" to the fruits list.\n",
    "fruits = [\"apple\", \"banana\", \"cherry\"]\n",
    "fruits.append(\"orange\")"
   ]
  },
  {
   "cell_type": "code",
   "execution_count": null,
   "id": "2f4c65d0-3aed-4cf1-a588-46c9c97c582e",
   "metadata": {},
   "outputs": [],
   "source": [
    "#Use the insert method to add \"lemon\" as the second item in the fruits list.\n",
    "fruits = [\"apple\", \"banana\", \"cherry\"]\n",
    "fruits.insert(1,\"lemon\")"
   ]
  },
  {
   "cell_type": "code",
   "execution_count": null,
   "id": "898912f6-9a9c-4ffe-87e6-f2255c62588e",
   "metadata": {},
   "outputs": [],
   "source": [
    "#Select the missing parts to add the elements of tropical to fruits:\n",
    "fruits = ['apple', 'banana', 'cherry']\n",
    "tropical = ['mango', 'pineapple', 'papaya']\n",
    "fruits.extend(tropical)"
   ]
  },
  {
   "cell_type": "code",
   "execution_count": null,
   "id": "71997efc-f1b7-41ee-8720-8a64dec2dbd3",
   "metadata": {},
   "outputs": [],
   "source": []
  },
  {
   "cell_type": "code",
   "execution_count": null,
   "id": "56e78c06-373b-49ef-8df4-377a657ca52a",
   "metadata": {},
   "outputs": [],
   "source": [
    "Remove List "
   ]
  },
  {
   "cell_type": "code",
   "execution_count": null,
   "id": "74a1228a-d4e2-44a8-b4b2-18b2c21d0e86",
   "metadata": {},
   "outputs": [],
   "source": []
  },
  {
   "cell_type": "code",
   "execution_count": null,
   "id": "ca52813d-5d2e-49fc-afed-b859451cdb50",
   "metadata": {},
   "outputs": [],
   "source": [
    "Example"
   ]
  },
  {
   "cell_type": "code",
   "execution_count": null,
   "id": "9a0ab81e-5e7a-4329-b7d5-188549c1ca7a",
   "metadata": {},
   "outputs": [],
   "source": [
    "thislist = [\"apple\", \"banana\", \"cherry\"]\n",
    "thislist.remove(\"banana\")\n",
    "print(thislist)"
   ]
  },
  {
   "cell_type": "code",
   "execution_count": null,
   "id": "51b991bd-dc90-4b9f-8f5e-5126c0916928",
   "metadata": {},
   "outputs": [],
   "source": [
    "thislist = [\"apple\", \"banana\", \"cherry\", \"banana\", \"kiwi\"]\n",
    "thislist.remove(\"banana\")\n",
    "print(thislist)"
   ]
  },
  {
   "cell_type": "code",
   "execution_count": null,
   "id": "9248bc42-5d23-410f-86ab-2c950dc8f258",
   "metadata": {},
   "outputs": [],
   "source": [
    "thislist = [\"apple\", \"banana\", \"cherry\"]\n",
    "thislist.pop(1)\n",
    "print(thislist)"
   ]
  },
  {
   "cell_type": "code",
   "execution_count": null,
   "id": "01e72d34-ddda-4475-9107-3bb35abb86cd",
   "metadata": {},
   "outputs": [],
   "source": [
    "thislist = [\"apple\", \"banana\", \"cherry\"]\n",
    "thislist.pop()\n",
    "print(thislist)"
   ]
  },
  {
   "cell_type": "code",
   "execution_count": null,
   "id": "60b9b027-bc85-4afd-855e-1ddeaba99437",
   "metadata": {},
   "outputs": [],
   "source": [
    "thislist = [\"apple\", \"banana\", \"cherry\"]\n",
    "del thislist[0]\n",
    "print(thislist)"
   ]
  },
  {
   "cell_type": "code",
   "execution_count": null,
   "id": "de1cbe87-72ed-48a6-a54e-9e6496062734",
   "metadata": {},
   "outputs": [],
   "source": [
    "thislist = [\"apple\", \"banana\", \"cherry\"]\n",
    "del thislist"
   ]
  },
  {
   "cell_type": "code",
   "execution_count": null,
   "id": "1538ead6-d7af-4d5e-a063-cea9e929850d",
   "metadata": {},
   "outputs": [],
   "source": [
    "thislist = [\"apple\", \"banana\", \"cherry\"]\n",
    "thislist.clear()\n",
    "print(thislist)"
   ]
  },
  {
   "cell_type": "code",
   "execution_count": null,
   "id": "cc300c23-4007-4afb-aa6f-513d3361bce5",
   "metadata": {},
   "outputs": [],
   "source": [
    "Exercise"
   ]
  },
  {
   "cell_type": "code",
   "execution_count": null,
   "id": "3a4dc309-5830-46a4-aa31-e503c8f61d0b",
   "metadata": {},
   "outputs": [],
   "source": [
    "#What is a List method for removing list items?\n",
    "pop()"
   ]
  },
  {
   "cell_type": "code",
   "execution_count": null,
   "id": "5324fd60-d11d-44e7-98c1-857e0cdf636d",
   "metadata": {},
   "outputs": [],
   "source": [
    "#Use the remove method to remove \"banana\" from the fruits list.\n",
    "fruits = [\"apple\", \"banana\", \"cherry\"]\n",
    "fruits.remove(\"banana\")"
   ]
  },
  {
   "cell_type": "code",
   "execution_count": 3,
   "id": "bc25a65d-2a26-422e-b1ca-7d0cd35f22f0",
   "metadata": {},
   "outputs": [
    {
     "name": "stdout",
     "output_type": "stream",
     "text": [
      "['apple', 'cherry']\n"
     ]
    }
   ],
   "source": [
    "#What will be the result of the following syntax:\n",
    "mylist = ['apple', 'banana', 'cherry']\n",
    "mylist.pop(1)\n",
    "print(mylist)\n",
    "#['apple', 'cherry'] "
   ]
  },
  {
   "cell_type": "code",
   "execution_count": null,
   "id": "48a5e441-147d-467b-b32a-8b7053f87801",
   "metadata": {},
   "outputs": [],
   "source": [
    "#Select the correct function to remove all items from a list:\n",
    "fruits = ['apple', 'banana', 'cherry']\n",
    "fruits.clear()\n"
   ]
  },
  {
   "cell_type": "code",
   "execution_count": null,
   "id": "6a680a3e-9217-40cd-b885-5af2382d91fc",
   "metadata": {},
   "outputs": [],
   "source": []
  },
  {
   "cell_type": "code",
   "execution_count": null,
   "id": "5e3e01bc-8779-4474-ae6e-d4c41c5f37d5",
   "metadata": {},
   "outputs": [],
   "source": [
    "Loop Lists"
   ]
  },
  {
   "cell_type": "code",
   "execution_count": null,
   "id": "4f5a4ab9-ca96-45e7-b936-0f0fdf75bcbe",
   "metadata": {},
   "outputs": [],
   "source": []
  },
  {
   "cell_type": "code",
   "execution_count": null,
   "id": "f3812eaf-832d-4026-aa1d-3fe4dc77b780",
   "metadata": {},
   "outputs": [],
   "source": [
    "Example"
   ]
  },
  {
   "cell_type": "code",
   "execution_count": null,
   "id": "d5bd1a9f-10b8-4c2a-b877-ab8a8064f4d5",
   "metadata": {},
   "outputs": [],
   "source": [
    "thislist = [\"apple\", \"banana\", \"cherry\"]\n",
    "for x in thislist:\n",
    "  print(x)"
   ]
  },
  {
   "cell_type": "code",
   "execution_count": null,
   "id": "898b8c20-c7d3-4e79-8876-9b040adb2b77",
   "metadata": {},
   "outputs": [],
   "source": [
    "thislist = [\"apple\", \"banana\", \"cherry\"]\n",
    "for i in range(len(thislist)):\n",
    "  print(thislist[i])"
   ]
  },
  {
   "cell_type": "code",
   "execution_count": null,
   "id": "ff3c89b4-47f7-450c-8471-428866b0aead",
   "metadata": {},
   "outputs": [],
   "source": [
    "thislist = [\"apple\", \"banana\", \"cherry\"]\n",
    "i = 0\n",
    "while i < len(thislist):\n",
    "  print(thislist[i])\n",
    "  i = i + 1"
   ]
  },
  {
   "cell_type": "code",
   "execution_count": null,
   "id": "a279f0fc-c08b-4144-a163-d3f75f77bf46",
   "metadata": {},
   "outputs": [],
   "source": [
    "thislist = [\"apple\", \"banana\", \"cherry\"]\n",
    "[print(x) for x in thislist]"
   ]
  },
  {
   "cell_type": "code",
   "execution_count": null,
   "id": "c833d9ae-2318-4d59-95ec-a3f42b3e91da",
   "metadata": {},
   "outputs": [],
   "source": [
    "Exercise"
   ]
  },
  {
   "cell_type": "code",
   "execution_count": null,
   "id": "a6f83818-3726-4af8-816c-e65c75049519",
   "metadata": {},
   "outputs": [],
   "source": [
    "#What is a correct syntax for looping through the items of a list?\n",
    "for x in ['apple', 'banana', 'cherry']:\n",
    "  print(x)"
   ]
  },
  {
   "cell_type": "code",
   "execution_count": null,
   "id": "cb00febf-0d02-4141-88ac-dacbfaa43195",
   "metadata": {},
   "outputs": [],
   "source": [
    "#Insert the missing part of the while loop below to loop through the items of a list.\n",
    "mylist = ['apple', 'banana', 'cherry']\n",
    "i = 0 \n",
    "while i < len(mylist):\n",
    "  print(mylist[i])\n",
    "  i = i + 1"
   ]
  },
  {
   "cell_type": "code",
   "execution_count": null,
   "id": "c1866d37-ea07-41ea-ba21-44aee8d6b570",
   "metadata": {},
   "outputs": [],
   "source": [
    "#What is a correct syntax for looping through the items of a list?\n",
    "[print(x) for x in ['apple', 'banana', 'cherry']]"
   ]
  },
  {
   "cell_type": "code",
   "execution_count": null,
   "id": "1929f1dd-0834-4756-8d13-b1dd3b412cfb",
   "metadata": {},
   "outputs": [],
   "source": []
  },
  {
   "cell_type": "code",
   "execution_count": null,
   "id": "dae95b9d-395f-4944-b1dc-51af35f5a23d",
   "metadata": {},
   "outputs": [],
   "source": [
    "List Comprehension"
   ]
  },
  {
   "cell_type": "code",
   "execution_count": null,
   "id": "0f8909c2-3c15-42df-8347-047840fe5633",
   "metadata": {},
   "outputs": [],
   "source": []
  },
  {
   "cell_type": "code",
   "execution_count": null,
   "id": "da0b71ec-e111-4bd2-b76f-7a5ea85a74d6",
   "metadata": {},
   "outputs": [],
   "source": [
    "Example"
   ]
  },
  {
   "cell_type": "code",
   "execution_count": null,
   "id": "30be9b15-ca9b-44f5-a652-9d4a3d8ea313",
   "metadata": {},
   "outputs": [],
   "source": [
    "fruits = [\"apple\", \"banana\", \"cherry\", \"kiwi\", \"mango\"]\n",
    "newlist = []\n",
    "\n",
    "for x in fruits:\n",
    "  if \"a\" in x:\n",
    "    newlist.append(x)\n",
    "\n",
    "print(newlist)"
   ]
  },
  {
   "cell_type": "code",
   "execution_count": null,
   "id": "41498bd0-09f8-421b-bb87-2fe828f0c16b",
   "metadata": {},
   "outputs": [],
   "source": [
    "fruits = [\"apple\", \"banana\", \"cherry\", \"kiwi\", \"mango\"]\n",
    "\n",
    "newlist = [x for x in fruits if \"a\" in x]\n",
    "\n",
    "print(newlist)"
   ]
  },
  {
   "cell_type": "code",
   "execution_count": null,
   "id": "f37c8dd7-95ad-4ed1-8831-43d77f5f245a",
   "metadata": {},
   "outputs": [],
   "source": [
    "newlist = [x for x in fruits if x != \"apple\"]"
   ]
  },
  {
   "cell_type": "code",
   "execution_count": null,
   "id": "b948873b-2de9-40f7-9439-7743f9c4cbb8",
   "metadata": {},
   "outputs": [],
   "source": [
    "newlist = [x for x in fruits]"
   ]
  },
  {
   "cell_type": "code",
   "execution_count": null,
   "id": "32e99320-514e-4524-b53e-37614269283a",
   "metadata": {},
   "outputs": [],
   "source": [
    "newlist = [x for x in range(10)]"
   ]
  },
  {
   "cell_type": "code",
   "execution_count": null,
   "id": "5305fe89-240f-4e2f-be56-cd7946715e07",
   "metadata": {},
   "outputs": [],
   "source": [
    "newlist = [x for x in range(10) if x < 5]"
   ]
  },
  {
   "cell_type": "code",
   "execution_count": null,
   "id": "9566c490-0ed9-41b4-b5bd-2e8b7cd7f924",
   "metadata": {},
   "outputs": [],
   "source": [
    "newlist = [x.upper() for x in fruits]"
   ]
  },
  {
   "cell_type": "code",
   "execution_count": null,
   "id": "39fc40d7-8500-413f-93e8-c6e194097a01",
   "metadata": {},
   "outputs": [],
   "source": [
    "newlist = ['hello' for x in fruits]"
   ]
  },
  {
   "cell_type": "code",
   "execution_count": null,
   "id": "74a30046-2952-4590-82bc-dbf0ad704ee9",
   "metadata": {},
   "outputs": [],
   "source": [
    "newlist = [x if x != \"banana\" else \"orange\" for x in fruits]"
   ]
  },
  {
   "cell_type": "code",
   "execution_count": null,
   "id": "58f6eec4-f8d7-4603-a834-2621c7a43b77",
   "metadata": {},
   "outputs": [],
   "source": [
    "Exercise"
   ]
  },
  {
   "cell_type": "code",
   "execution_count": 5,
   "id": "979ca4e2-3052-43f8-8697-e64e2d443564",
   "metadata": {},
   "outputs": [],
   "source": [
    "#Consider the following code:\n",
    "fruits = ['apple', 'banana', 'cherry']\n",
    "newlist = [x for x in fruits if x == 'banana']\n",
    "#What will be the value of newlist?\n",
    "#['banana']"
   ]
  },
  {
   "cell_type": "code",
   "execution_count": null,
   "id": "530f2d4c-5ff9-44f0-bc85-4ab9a77443b6",
   "metadata": {},
   "outputs": [],
   "source": [
    "#Fill in the missing parts to complete the list comprehension:\n",
    "fruits = [\"apple\", \"banana\", \"cherry\"]\n",
    "newlist = [x for x in fruits]"
   ]
  },
  {
   "cell_type": "code",
   "execution_count": null,
   "id": "53a15dc2-88a3-4f58-8683-6cd5a239d5d1",
   "metadata": {},
   "outputs": [],
   "source": [
    "#Consider the following code:\n",
    "fruits = ['apple', 'banana', 'cherry']\n",
    "newlist = ['apple' for x in fruits]\n",
    "#What will be the value of newlist?\n",
    "#['apple', 'apple', 'apple']"
   ]
  },
  {
   "cell_type": "code",
   "execution_count": null,
   "id": "103a37a6-6234-4c8e-8d9f-a34385ad28af",
   "metadata": {},
   "outputs": [],
   "source": []
  },
  {
   "cell_type": "code",
   "execution_count": null,
   "id": "27b4488b-fad8-45d5-912a-e6d42b3afe9c",
   "metadata": {},
   "outputs": [],
   "source": [
    "Sort Lists"
   ]
  },
  {
   "cell_type": "code",
   "execution_count": null,
   "id": "bf65634d-8115-4f16-83c9-3f5095b39409",
   "metadata": {},
   "outputs": [],
   "source": []
  },
  {
   "cell_type": "code",
   "execution_count": null,
   "id": "cc92ca6f-1afa-4fc6-a655-c67c0c7afd4b",
   "metadata": {},
   "outputs": [],
   "source": [
    "Example "
   ]
  },
  {
   "cell_type": "code",
   "execution_count": null,
   "id": "ca4d7973-f2d0-4214-9277-da9aa32055a9",
   "metadata": {},
   "outputs": [],
   "source": [
    "thislist = [\"orange\", \"mango\", \"kiwi\", \"pineapple\", \"banana\"]\n",
    "thislist.sort()\n",
    "print(thislist)"
   ]
  },
  {
   "cell_type": "code",
   "execution_count": null,
   "id": "bbf83082-5663-4f01-b8d5-c00c09607b21",
   "metadata": {},
   "outputs": [],
   "source": [
    "thislist = [100, 50, 65, 82, 23]\n",
    "thislist.sort()\n",
    "print(thislist)"
   ]
  },
  {
   "cell_type": "code",
   "execution_count": null,
   "id": "7201bbb0-f132-4d36-9fdf-2b3caa18b630",
   "metadata": {},
   "outputs": [],
   "source": [
    "thislist = [\"orange\", \"mango\", \"kiwi\", \"pineapple\", \"banana\"]\n",
    "thislist.sort(reverse = True)\n",
    "print(thislist)"
   ]
  },
  {
   "cell_type": "code",
   "execution_count": null,
   "id": "7ffb43b3-bf1b-4858-aa2e-0f98b4ec842a",
   "metadata": {},
   "outputs": [],
   "source": [
    "thislist = [100, 50, 65, 82, 23]\n",
    "thislist.sort(reverse = True)\n",
    "print(thislist)\n"
   ]
  },
  {
   "cell_type": "code",
   "execution_count": null,
   "id": "1761e4a7-0a83-4790-9b30-c1f8fededac9",
   "metadata": {},
   "outputs": [],
   "source": [
    "def myfunc(n):\n",
    "  return abs(n - 50)\n",
    "\n",
    "thislist = [100, 50, 65, 82, 23]\n",
    "thislist.sort(key = myfunc)\n",
    "print(thislist)"
   ]
  },
  {
   "cell_type": "code",
   "execution_count": null,
   "id": "cb29b1f8-cd6b-4bb5-baa5-432942dd3d6b",
   "metadata": {},
   "outputs": [],
   "source": [
    "thislist = [\"banana\", \"Orange\", \"Kiwi\", \"cherry\"]\n",
    "thislist.sort()\n",
    "print(thislist)"
   ]
  },
  {
   "cell_type": "code",
   "execution_count": null,
   "id": "2792ef83-779a-4361-adba-887b50cade63",
   "metadata": {},
   "outputs": [],
   "source": [
    "thislist = [\"banana\", \"Orange\", \"Kiwi\", \"cherry\"]\n",
    "thislist.sort(key = str.lower)\n",
    "print(thislist)"
   ]
  },
  {
   "cell_type": "code",
   "execution_count": null,
   "id": "c68edba4-7b39-45d0-bc09-3b68f5bcb651",
   "metadata": {},
   "outputs": [],
   "source": [
    "thislist = [\"banana\", \"Orange\", \"Kiwi\", \"cherry\"]\n",
    "thislist.reverse()\n",
    "print(thislist)"
   ]
  },
  {
   "cell_type": "code",
   "execution_count": null,
   "id": "c853b430-d518-4bb4-be88-e64ed51a71e7",
   "metadata": {},
   "outputs": [],
   "source": [
    "Exercise"
   ]
  },
  {
   "cell_type": "code",
   "execution_count": null,
   "id": "f4bd3d65-2677-4010-8529-4c65b23b3477",
   "metadata": {},
   "outputs": [],
   "source": [
    "#What is a correct syntax for sorting a list?\n",
    "mylist.sort()"
   ]
  },
  {
   "cell_type": "code",
   "execution_count": null,
   "id": "d0b2f88c-a171-423b-8c52-ec12b81fa0c2",
   "metadata": {},
   "outputs": [],
   "source": [
    "#What is a correct syntax for reversing the current order of a list?\n",
    "mylist.reverse()"
   ]
  },
  {
   "cell_type": "code",
   "execution_count": null,
   "id": "6bcfd5bd-52cd-43e4-a110-f5cc87351daa",
   "metadata": {},
   "outputs": [],
   "source": [
    "#What is a correct syntax for sorting a list descending?\n",
    "mylist.sort(reverse = True)"
   ]
  },
  {
   "cell_type": "code",
   "execution_count": null,
   "id": "6c70c6a3-0dad-4c26-a10f-064bbfb8d657",
   "metadata": {},
   "outputs": [],
   "source": []
  },
  {
   "cell_type": "code",
   "execution_count": null,
   "id": "8e3a3b3e-1bb8-43a4-8333-32eed90b2530",
   "metadata": {},
   "outputs": [],
   "source": [
    "Copy Lists"
   ]
  },
  {
   "cell_type": "code",
   "execution_count": null,
   "id": "573ea3eb-24de-495f-b01f-14c5b10f0151",
   "metadata": {},
   "outputs": [],
   "source": []
  },
  {
   "cell_type": "code",
   "execution_count": null,
   "id": "087a2148-2ea6-4e60-aa94-0116294fade1",
   "metadata": {},
   "outputs": [],
   "source": [
    "Example"
   ]
  },
  {
   "cell_type": "code",
   "execution_count": null,
   "id": "4af0a7df-4d87-4212-8563-c2cd1add6ea5",
   "metadata": {},
   "outputs": [],
   "source": [
    "thislist = [\"apple\", \"banana\", \"cherry\"]\n",
    "mylist = thislist.copy()\n",
    "print(mylist)"
   ]
  },
  {
   "cell_type": "code",
   "execution_count": null,
   "id": "941f8701-1861-46d9-9ee7-bd1b3b426d67",
   "metadata": {},
   "outputs": [],
   "source": [
    "thislist = [\"apple\", \"banana\", \"cherry\"]\n",
    "mylist = list(thislist)\n",
    "print(mylist)"
   ]
  },
  {
   "cell_type": "code",
   "execution_count": null,
   "id": "ec3d41b4-dc3e-4bf6-a5f6-95a284fe1bb1",
   "metadata": {},
   "outputs": [],
   "source": [
    "thislist = [\"apple\", \"banana\", \"cherry\"]\n",
    "mylist = thislist[:]\n",
    "print(mylist)"
   ]
  },
  {
   "cell_type": "code",
   "execution_count": null,
   "id": "3a083340-9c4e-4a86-8a5c-3ed758ca7704",
   "metadata": {},
   "outputs": [],
   "source": [
    "Exercise"
   ]
  },
  {
   "cell_type": "code",
   "execution_count": null,
   "id": "334144fc-f3e5-4039-93bf-c60dc072c5c3",
   "metadata": {},
   "outputs": [],
   "source": [
    "list2 = list1.copy()"
   ]
  },
  {
   "cell_type": "code",
   "execution_count": null,
   "id": "3991215f-d916-499c-a40c-33e136c188fc",
   "metadata": {},
   "outputs": [],
   "source": [
    "#What is a correct syntax for making a copy of a list?\n",
    "list2 = list(list1)"
   ]
  },
  {
   "cell_type": "code",
   "execution_count": null,
   "id": "fe095592-9c63-4230-a6f3-582a7297c9ff",
   "metadata": {},
   "outputs": [],
   "source": [
    "#What is a correct syntax for making a copy of a list?\n",
    "list2 = list1[:]"
   ]
  },
  {
   "cell_type": "code",
   "execution_count": null,
   "id": "468115d3-5e7d-4161-8251-9b7aa6104b98",
   "metadata": {},
   "outputs": [],
   "source": []
  },
  {
   "cell_type": "code",
   "execution_count": null,
   "id": "0c73a7df-3626-4f9b-a780-ad1a658c6f2e",
   "metadata": {},
   "outputs": [],
   "source": [
    "Join Lists"
   ]
  },
  {
   "cell_type": "code",
   "execution_count": null,
   "id": "b858727f-0e54-4265-a21a-dac8a8ab15bf",
   "metadata": {},
   "outputs": [],
   "source": []
  },
  {
   "cell_type": "code",
   "execution_count": null,
   "id": "0feb105b-0361-496e-88be-3c4d2373a8af",
   "metadata": {},
   "outputs": [],
   "source": [
    "Example"
   ]
  },
  {
   "cell_type": "code",
   "execution_count": null,
   "id": "a21e7d79-dd56-4fd4-b444-401729ac78ab",
   "metadata": {},
   "outputs": [],
   "source": [
    "list1 = [\"a\", \"b\", \"c\"]\n",
    "list2 = [1, 2, 3]\n",
    "\n",
    "list3 = list1 + list2\n",
    "print(list3)"
   ]
  },
  {
   "cell_type": "code",
   "execution_count": null,
   "id": "19f91a68-dfd1-496b-aacc-00df80dde9d2",
   "metadata": {},
   "outputs": [],
   "source": [
    "list1 = [\"a\", \"b\" , \"c\"]\n",
    "list2 = [1, 2, 3]\n",
    "\n",
    "for x in list2:\n",
    "  list1.append(x)\n",
    "\n",
    "print(list1)"
   ]
  },
  {
   "cell_type": "code",
   "execution_count": null,
   "id": "6d1c2908-6895-47b3-a158-34c806245ce1",
   "metadata": {},
   "outputs": [],
   "source": [
    "list1 = [\"a\", \"b\" , \"c\"]\n",
    "list2 = [1, 2, 3]\n",
    "\n",
    "list1.extend(list2)\n",
    "print(list1)"
   ]
  },
  {
   "cell_type": "code",
   "execution_count": null,
   "id": "d8c93dd6-2eb8-4155-bbda-342bf3510d8e",
   "metadata": {},
   "outputs": [],
   "source": [
    "Exercise"
   ]
  },
  {
   "cell_type": "code",
   "execution_count": null,
   "id": "bd556927-2a7b-4bd0-89cc-c016871ef09f",
   "metadata": {},
   "outputs": [],
   "source": [
    "#What is a correct syntax for joining list1 and list2 into list3?\n",
    "list3 = list1 + list2"
   ]
  },
  {
   "cell_type": "code",
   "execution_count": null,
   "id": "65ccd077-f837-49cc-b9c4-8ed221f2da97",
   "metadata": {},
   "outputs": [],
   "source": [
    "#What is a correct syntax for adding elements from list2 into list1?\n",
    "list1.extend(list2)"
   ]
  },
  {
   "cell_type": "code",
   "execution_count": null,
   "id": "718ae9c6-2287-4b26-9af0-a229b220762f",
   "metadata": {},
   "outputs": [],
   "source": [
    "#Consider the following code:\n",
    "list1 = ['a', 'b' , 'c']\n",
    "list2 = [1, 2, 3]\n",
    "for x in list2:\n",
    "  list1.append(x)\n",
    "#What will be the value of list1?\n",
    "#['a', 'b', 'c', 1, 2, 3]"
   ]
  },
  {
   "cell_type": "code",
   "execution_count": null,
   "id": "fc4cb2c2-89ee-4869-88bf-6c2926f7ab9e",
   "metadata": {},
   "outputs": [],
   "source": []
  },
  {
   "cell_type": "markdown",
   "id": "2624ad27-2d49-4588-bb46-140596d2f68f",
   "metadata": {},
   "source": [
    "List Methods"
   ]
  },
  {
   "cell_type": "code",
   "execution_count": null,
   "id": "48bb99d6-5692-4f1c-9ff0-647561925acc",
   "metadata": {},
   "outputs": [],
   "source": []
  },
  {
   "cell_type": "markdown",
   "id": "61606aa5-bd3f-43cd-b64a-b72446e1c7e3",
   "metadata": {},
   "source": [
    "Method\tDescription\n",
    "append()\tAdds an element at the end of the list\n",
    "clear()\tRemoves all the elements from the list\n",
    "copy()\tReturns a copy of the list\n",
    "count()\tReturns the number of elements with the specified value\n",
    "extend()\tAdd the elements of a list (or any iterable), to the end of the current list\n",
    "index()\tReturns the index of the first element with the specified value\n",
    "insert()\tAdds an element at the specified position\n",
    "pop()\tRemoves the element at the specified position\n",
    "remove()\tRemoves the item with the specified value\n",
    "reverse()\tReverses the order of the list\n",
    "sort()\tSorts the list"
   ]
  },
  {
   "cell_type": "code",
   "execution_count": null,
   "id": "e5a6e7cf-e79d-4fb5-8b6c-4614229e1e63",
   "metadata": {},
   "outputs": [],
   "source": []
  },
  {
   "cell_type": "code",
   "execution_count": null,
   "id": "923ad1ef-8890-43e9-83d8-6f8426b9a959",
   "metadata": {},
   "outputs": [],
   "source": [
    "Tuples"
   ]
  },
  {
   "cell_type": "code",
   "execution_count": null,
   "id": "4f79e9ad-7f75-4cc2-9051-ed0ef7e6b3e0",
   "metadata": {},
   "outputs": [],
   "source": []
  },
  {
   "cell_type": "code",
   "execution_count": null,
   "id": "50831fd1-9eae-4f86-b217-789e1509282b",
   "metadata": {},
   "outputs": [],
   "source": [
    "Example"
   ]
  },
  {
   "cell_type": "code",
   "execution_count": null,
   "id": "68eca4b2-add0-45f6-82f7-24c0c3415146",
   "metadata": {},
   "outputs": [],
   "source": [
    "thistuple = (\"apple\", \"banana\", \"cherry\")\n",
    "print(thistuple)"
   ]
  },
  {
   "cell_type": "code",
   "execution_count": null,
   "id": "d9fe9fbd-4afc-4b4e-90b8-a106ae6a741b",
   "metadata": {},
   "outputs": [],
   "source": [
    "thistuple = (\"apple\", \"banana\", \"cherry\", \"apple\", \"cherry\")\n",
    "print(thistuple)"
   ]
  },
  {
   "cell_type": "code",
   "execution_count": null,
   "id": "2d088916-8ce9-480d-a58d-4d456a28037c",
   "metadata": {},
   "outputs": [],
   "source": [
    "thistuple = (\"apple\", \"banana\", \"cherry\")\n",
    "print(len(thistuple))"
   ]
  },
  {
   "cell_type": "code",
   "execution_count": null,
   "id": "fed43e2b-b2b5-46e9-b381-aa7d7fdbce47",
   "metadata": {},
   "outputs": [],
   "source": [
    "thistuple = (\"apple\",)\n",
    "print(type(thistuple))\n",
    "\n",
    "#NOT a tuple\n",
    "thistuple = (\"apple\")\n",
    "print(type(thistuple))"
   ]
  },
  {
   "cell_type": "code",
   "execution_count": null,
   "id": "60eb6427-41dc-4d5d-9cfc-2de672a8bf6a",
   "metadata": {},
   "outputs": [],
   "source": [
    "tuple1 = (\"apple\", \"banana\", \"cherry\")\n",
    "tuple2 = (1, 5, 7, 9, 3)\n",
    "tuple3 = (True, False, False)"
   ]
  },
  {
   "cell_type": "code",
   "execution_count": null,
   "id": "2cdea594-74b8-4be0-bb8f-ba599325e98d",
   "metadata": {},
   "outputs": [],
   "source": [
    "tuple1 = (\"abc\", 34, True, 40, \"male\")"
   ]
  },
  {
   "cell_type": "code",
   "execution_count": null,
   "id": "0f40ca37-aabe-4ba5-953f-773d60031352",
   "metadata": {},
   "outputs": [],
   "source": [
    "mytuple = (\"apple\", \"banana\", \"cherry\")\n",
    "print(type(mytuple))"
   ]
  },
  {
   "cell_type": "code",
   "execution_count": null,
   "id": "7d3d9a6a-16b6-464e-9a3e-8913576a1a9a",
   "metadata": {},
   "outputs": [],
   "source": [
    "thistuple = tuple((\"apple\", \"banana\", \"cherry\")) # note the double round-brackets\n",
    "print(thistuple)"
   ]
  },
  {
   "cell_type": "code",
   "execution_count": null,
   "id": "eb8bd029-0f2f-4f02-a3c3-5c7a91147827",
   "metadata": {},
   "outputs": [],
   "source": [
    "Exercise"
   ]
  },
  {
   "cell_type": "code",
   "execution_count": null,
   "id": "11dd0848-e827-4ea9-94e0-20895726287e",
   "metadata": {},
   "outputs": [],
   "source": [
    "#Which one of these is a tuple?\n",
    "thistuple = ('apple', 'banana', 'cherry')"
   ]
  },
  {
   "cell_type": "code",
   "execution_count": null,
   "id": "08f24deb-4ed6-445b-b941-dc0088b38cc5",
   "metadata": {},
   "outputs": [],
   "source": [
    "#Use the correct syntax to print the number of items in the fruits tuple.\n",
    "fruits = (\"apple\", \"banana\", \"cherry\")\n",
    "print(len(fruits))"
   ]
  },
  {
   "cell_type": "code",
   "execution_count": null,
   "id": "9f2446f0-f380-48e6-bc64-c11c20265c5e",
   "metadata": {},
   "outputs": [],
   "source": [
    "#True or False.\n",
    "#Tuple items cannot be removed after the tuple has been created.\n",
    "#True"
   ]
  },
  {
   "cell_type": "code",
   "execution_count": null,
   "id": "3b962333-a3b9-4240-b3be-466f011b58d1",
   "metadata": {},
   "outputs": [],
   "source": []
  },
  {
   "cell_type": "code",
   "execution_count": null,
   "id": "cc1f4306-7554-4b5d-b27e-e31ddd847653",
   "metadata": {},
   "outputs": [],
   "source": [
    "Access Tuple"
   ]
  },
  {
   "cell_type": "code",
   "execution_count": null,
   "id": "70fc6c9d-22cb-4424-9d9d-e84d67612114",
   "metadata": {},
   "outputs": [],
   "source": []
  },
  {
   "cell_type": "code",
   "execution_count": null,
   "id": "ef364d19-4152-4336-b888-b815026f029c",
   "metadata": {},
   "outputs": [],
   "source": [
    "Example"
   ]
  },
  {
   "cell_type": "code",
   "execution_count": null,
   "id": "d0456d77-6d41-4175-a36e-b227d0adc47e",
   "metadata": {},
   "outputs": [],
   "source": []
  },
  {
   "cell_type": "code",
   "execution_count": null,
   "id": "1593df9a-ade5-4b06-ba48-c852b0c4014e",
   "metadata": {},
   "outputs": [],
   "source": [
    "thistuple = (\"apple\", \"banana\", \"cherry\")\n",
    "print(thistuple[1])"
   ]
  },
  {
   "cell_type": "code",
   "execution_count": null,
   "id": "6d872514-acb2-4f54-a898-22440580e021",
   "metadata": {},
   "outputs": [],
   "source": [
    "thistuple = (\"apple\", \"banana\", \"cherry\")\n",
    "print(thistuple[-1])"
   ]
  },
  {
   "cell_type": "code",
   "execution_count": null,
   "id": "84593288-b5cb-4818-8ce2-86062ca97dfa",
   "metadata": {},
   "outputs": [],
   "source": [
    "thistuple = (\"apple\", \"banana\", \"cherry\", \"orange\", \"kiwi\", \"melon\", \"mango\")\n",
    "print(thistuple[2:5])"
   ]
  },
  {
   "cell_type": "code",
   "execution_count": null,
   "id": "e7387b22-d667-49b3-a3d9-d10aa21ad008",
   "metadata": {},
   "outputs": [],
   "source": [
    "thistuple = (\"apple\", \"banana\", \"cherry\", \"orange\", \"kiwi\", \"melon\", \"mango\")\n",
    "print(thistuple[:4])"
   ]
  },
  {
   "cell_type": "code",
   "execution_count": null,
   "id": "0c638663-bd5b-4890-b8e6-e208e1f4cdf3",
   "metadata": {},
   "outputs": [],
   "source": [
    "thistuple = (\"apple\", \"banana\", \"cherry\", \"orange\", \"kiwi\", \"melon\", \"mango\")\n",
    "print(thistuple[2:])"
   ]
  },
  {
   "cell_type": "code",
   "execution_count": null,
   "id": "53b56237-e65f-48ba-86e0-d09424da0a0e",
   "metadata": {},
   "outputs": [],
   "source": [
    "thistuple = (\"apple\", \"banana\", \"cherry\", \"orange\", \"kiwi\", \"melon\", \"mango\")\n",
    "print(thistuple[-4:-1])"
   ]
  },
  {
   "cell_type": "code",
   "execution_count": null,
   "id": "0f09e4a1-54ad-4857-a8ca-ebe444ecb0b3",
   "metadata": {},
   "outputs": [],
   "source": [
    "thistuple = (\"apple\", \"banana\", \"cherry\")\n",
    "if \"apple\" in thistuple:\n",
    "  print(\"Yes, 'apple' is in the fruits tuple\")"
   ]
  },
  {
   "cell_type": "code",
   "execution_count": null,
   "id": "59dd9f7b-0adc-4dad-a4a6-d0cd7ddbdef7",
   "metadata": {},
   "outputs": [],
   "source": [
    "Exercise"
   ]
  },
  {
   "cell_type": "code",
   "execution_count": null,
   "id": "3483c46a-816d-4ef8-b579-ffddf6cbe3bf",
   "metadata": {},
   "outputs": [],
   "source": [
    "#You can access tuple items by referring to the index number, but what is the index number of the first item?\n",
    "#0"
   ]
  },
  {
   "cell_type": "code",
   "execution_count": null,
   "id": "35376375-35c3-4fe5-8091-df8a43d563bb",
   "metadata": {},
   "outputs": [],
   "source": [
    "#Use the correct syntax to print the first item in the fruits tuple.\n",
    "fruits = (\"apple\", \"banana\", \"cherry\")\n",
    "print(fruits[0])"
   ]
  },
  {
   "cell_type": "code",
   "execution_count": null,
   "id": "4da946ca-df1e-4d12-9ff4-20437a999814",
   "metadata": {},
   "outputs": [],
   "source": [
    "#Use negative indexing to print the last item in the tuple.\n",
    "fruits = (\"apple\", \"banana\", \"cherry\")\n",
    "print(fruits[-1])"
   ]
  },
  {
   "cell_type": "code",
   "execution_count": null,
   "id": "024fcf03-056f-4c07-a78c-4f5932cc39e7",
   "metadata": {},
   "outputs": [],
   "source": [
    "#Use a range of indexes to print the third, fourth, and fifth item in the tuple.\n",
    "fruits = (\"apple\", \"banana\", \"cherry\", \"orange\", \"kiwi\", \"melon\", \"mango\")\n",
    "print(fruits[2:5])"
   ]
  },
  {
   "cell_type": "code",
   "execution_count": null,
   "id": "279a257b-c60b-4f4e-8c13-8116349cd14f",
   "metadata": {},
   "outputs": [],
   "source": []
  },
  {
   "cell_type": "code",
   "execution_count": null,
   "id": "e0b21f43-d25f-46f8-9b0e-fd40998f212e",
   "metadata": {},
   "outputs": [],
   "source": [
    "Update Tuples"
   ]
  },
  {
   "cell_type": "code",
   "execution_count": null,
   "id": "0ebd69fe-ebb8-4486-b75a-5a30ec27b52f",
   "metadata": {},
   "outputs": [],
   "source": []
  },
  {
   "cell_type": "code",
   "execution_count": null,
   "id": "3e77182f-3c8d-4a5d-97bb-b429f89ab587",
   "metadata": {},
   "outputs": [],
   "source": [
    "Example"
   ]
  },
  {
   "cell_type": "code",
   "execution_count": null,
   "id": "a1340178-cb64-41ff-86c5-e61b86a8244c",
   "metadata": {},
   "outputs": [],
   "source": [
    "x = (\"apple\", \"banana\", \"cherry\")\n",
    "y = list(x)\n",
    "y[1] = \"kiwi\"\n",
    "x = tuple(y)\n",
    "\n",
    "print(x)"
   ]
  },
  {
   "cell_type": "code",
   "execution_count": null,
   "id": "616d603a-7d83-4336-b32e-ab6783588c2f",
   "metadata": {},
   "outputs": [],
   "source": [
    "thistuple = (\"apple\", \"banana\", \"cherry\")\n",
    "y = list(thistuple)\n",
    "y.append(\"orange\")\n",
    "thistuple = tuple(y)"
   ]
  },
  {
   "cell_type": "code",
   "execution_count": null,
   "id": "5cd2e59c-bdfe-4159-8cab-cb9e83af78a7",
   "metadata": {},
   "outputs": [],
   "source": [
    "thistuple = (\"apple\", \"banana\", \"cherry\")\n",
    "y = (\"orange\",)\n",
    "thistuple += y\n",
    "\n",
    "print(thistuple)"
   ]
  },
  {
   "cell_type": "code",
   "execution_count": null,
   "id": "ce306d57-148d-4e5b-9e68-f8244b518833",
   "metadata": {},
   "outputs": [],
   "source": [
    "thistuple = (\"apple\", \"banana\", \"cherry\")\n",
    "y = list(thistuple)\n",
    "y.remove(\"apple\")\n",
    "thistuple = tuple(y)"
   ]
  },
  {
   "cell_type": "code",
   "execution_count": null,
   "id": "1aff9bfc-67d5-40a8-b4dc-cd704f2fe3c2",
   "metadata": {},
   "outputs": [],
   "source": [
    "thistuple = (\"apple\", \"banana\", \"cherry\")\n",
    "del thistuple\n",
    "print(thistuple) #this will raise an error because the tuple no longer exists"
   ]
  },
  {
   "cell_type": "code",
   "execution_count": null,
   "id": "951c591e-7b8e-4844-a917-4fa1b95a40ab",
   "metadata": {},
   "outputs": [],
   "source": [
    "Exercise"
   ]
  },
  {
   "cell_type": "code",
   "execution_count": null,
   "id": "b62db95d-97dd-4895-b5de-165d3db6ab1f",
   "metadata": {},
   "outputs": [],
   "source": [
    "#You cannot change the items of a tuple, but there are workarounds. Which of the following suggestion will work?\n",
    "#Convert tuple into a list, change item, convert back into a tuple."
   ]
  },
  {
   "cell_type": "code",
   "execution_count": null,
   "id": "6eb419c3-7a60-4425-9df2-866ede6c3d20",
   "metadata": {},
   "outputs": [],
   "source": [
    "#Which is a correct syntax to delete a tuple?\n",
    "del mytuple"
   ]
  },
  {
   "cell_type": "code",
   "execution_count": null,
   "id": "5610c53b-2157-402e-9947-7995e6a45f0b",
   "metadata": {},
   "outputs": [],
   "source": [
    "#True or False. You are allowed to add a tuple to an existing tuple.\n",
    "True"
   ]
  },
  {
   "cell_type": "code",
   "execution_count": null,
   "id": "af2abb8a-eb0f-41a3-8962-f98216757ced",
   "metadata": {},
   "outputs": [],
   "source": []
  },
  {
   "cell_type": "code",
   "execution_count": null,
   "id": "9d28549c-7176-46ee-ba1c-2a95918abcfb",
   "metadata": {},
   "outputs": [],
   "source": [
    "Unpack Tuples"
   ]
  },
  {
   "cell_type": "code",
   "execution_count": null,
   "id": "39310794-1081-4352-a94f-d3567d48324e",
   "metadata": {},
   "outputs": [],
   "source": []
  },
  {
   "cell_type": "code",
   "execution_count": null,
   "id": "fc257b6d-7eba-4a42-aebb-713d50d0d0c9",
   "metadata": {},
   "outputs": [],
   "source": [
    "Example"
   ]
  },
  {
   "cell_type": "code",
   "execution_count": null,
   "id": "f102e0ab-c71e-4442-8925-8ef0bf194f21",
   "metadata": {},
   "outputs": [],
   "source": [
    "fruits = (\"apple\", \"banana\", \"cherry\")"
   ]
  },
  {
   "cell_type": "code",
   "execution_count": null,
   "id": "25900d8e-0a1b-45a2-8ec5-8633087e3bae",
   "metadata": {},
   "outputs": [],
   "source": [
    "fruits = (\"apple\", \"banana\", \"cherry\")\n",
    "\n",
    "(green, yellow, red) = fruits\n",
    "\n",
    "print(green)\n",
    "print(yellow)\n",
    "print(red)"
   ]
  },
  {
   "cell_type": "code",
   "execution_count": null,
   "id": "143fce00-0d03-4954-8b0b-691a6807f04e",
   "metadata": {},
   "outputs": [],
   "source": [
    "fruits = (\"apple\", \"banana\", \"cherry\", \"strawberry\", \"raspberry\")\n",
    "\n",
    "(green, yellow, *red) = fruits\n",
    "\n",
    "print(green)\n",
    "print(yellow)\n",
    "print(red)"
   ]
  },
  {
   "cell_type": "code",
   "execution_count": null,
   "id": "4bbe2b50-928e-43c9-aa05-5d5a783078d8",
   "metadata": {},
   "outputs": [],
   "source": [
    "fruits = (\"apple\", \"mango\", \"papaya\", \"pineapple\", \"cherry\")\n",
    "\n",
    "(green, *tropic, red) = fruits\n",
    "\n",
    "print(green)\n",
    "print(tropic)\n",
    "print(red)"
   ]
  },
  {
   "cell_type": "code",
   "execution_count": null,
   "id": "bc54166b-c744-440f-9674-7b2438ba1498",
   "metadata": {},
   "outputs": [],
   "source": [
    "Exercise"
   ]
  },
  {
   "cell_type": "code",
   "execution_count": null,
   "id": "0770e67c-2577-4e1c-bc63-defbdae7219e",
   "metadata": {},
   "outputs": [],
   "source": [
    "#Consider the following code:\n",
    "fruits = ('apple', 'banana', 'cherry')\n",
    "(x, y, z) = fruits\n",
    "print(y)\n",
    "#What will be the value of y?\n",
    "#banana"
   ]
  },
  {
   "cell_type": "code",
   "execution_count": null,
   "id": "f80ac89f-d5d4-4f95-a61f-b2369560d30b",
   "metadata": {},
   "outputs": [],
   "source": [
    "#Consider the following code:\n",
    "fruits = ('apple', 'banana', 'cherry')\n",
    "(x, *y) = fruits\n",
    "print(y)\n",
    "#What will be the value of y?\n",
    "#['banana', 'cherry']"
   ]
  },
  {
   "cell_type": "code",
   "execution_count": null,
   "id": "15caaec6-a3b9-42f4-ac78-e03f5ed4947a",
   "metadata": {},
   "outputs": [],
   "source": [
    "#Consider the following code:\n",
    "fruits = ('apple', 'banana', 'cherry', 'mango')\n",
    "(x, *y, z) = fruits\n",
    "print(y)\n",
    "#What will be the value of y?\n",
    "#['banana', 'cherry']"
   ]
  },
  {
   "cell_type": "code",
   "execution_count": null,
   "id": "d1543da9-931a-4e31-9020-f21050c03e4c",
   "metadata": {},
   "outputs": [],
   "source": []
  },
  {
   "cell_type": "code",
   "execution_count": null,
   "id": "cc139f9e-c285-41ae-b50b-4986a279f262",
   "metadata": {},
   "outputs": [],
   "source": [
    "Loop Tuples"
   ]
  },
  {
   "cell_type": "code",
   "execution_count": null,
   "id": "2d827939-dd73-4e68-8f55-6c38ee3c6e06",
   "metadata": {},
   "outputs": [],
   "source": []
  },
  {
   "cell_type": "code",
   "execution_count": null,
   "id": "713043ae-4f2b-4c9f-9670-df0d0e72d19f",
   "metadata": {},
   "outputs": [],
   "source": [
    "Example"
   ]
  },
  {
   "cell_type": "code",
   "execution_count": null,
   "id": "db1622c9-03f7-4201-8431-1135bb2d8701",
   "metadata": {},
   "outputs": [],
   "source": [
    "thistuple = (\"apple\", \"banana\", \"cherry\")\n",
    "for x in thistuple:\n",
    "  print(x)"
   ]
  },
  {
   "cell_type": "code",
   "execution_count": null,
   "id": "8a9481d7-2dcc-4cee-9c79-b64717126c4c",
   "metadata": {},
   "outputs": [],
   "source": [
    "thistuple = (\"apple\", \"banana\", \"cherry\")\n",
    "for i in range(len(thistuple)):\n",
    "  print(thistuple[i])"
   ]
  },
  {
   "cell_type": "code",
   "execution_count": null,
   "id": "bb850527-e466-4676-9cf5-0ffc3332fa7a",
   "metadata": {},
   "outputs": [],
   "source": [
    "thistuple = (\"apple\", \"banana\", \"cherry\")\n",
    "i = 0\n",
    "while i < len(thistuple):\n",
    "  print(thistuple[i])\n",
    "  i = i + 1"
   ]
  },
  {
   "cell_type": "code",
   "execution_count": null,
   "id": "865e79cb-39ad-4d7a-97cb-37e1e937439f",
   "metadata": {},
   "outputs": [],
   "source": [
    "Exercise"
   ]
  },
  {
   "cell_type": "code",
   "execution_count": null,
   "id": "a743ce9c-6ab3-4290-9f26-136ef9148d9b",
   "metadata": {},
   "outputs": [],
   "source": [
    "#What is a correct syntax for looping through the items of a tuple?\n",
    "for x in ('apple', 'banana', 'cherry'):\n",
    "  print(x)"
   ]
  },
  {
   "cell_type": "code",
   "execution_count": null,
   "id": "c946400d-5e48-48e7-81ab-76483ea4db35",
   "metadata": {},
   "outputs": [],
   "source": [
    "#Insert the missing part of the while loop below to loop through the items of a tuple.\n",
    "mytuple = ('apple', 'banana', 'cherry')\n",
    "i = 0\n",
    "while i < len(mytuple):\n",
    "  print(mytuple[i])\n",
    "  i = i + 1"
   ]
  },
  {
   "cell_type": "code",
   "execution_count": null,
   "id": "f285863d-1ada-424d-8c51-2d0797886a97",
   "metadata": {},
   "outputs": [],
   "source": [
    "#Insert the missing part of the for loop below to loop through the items of a tuple by using the range function to loop through the tuple's index numbers.\n",
    "thistuple = (\"apple\", \"banana\", \"cherry\")\n",
    "for i in range(len(thistuple)):\n",
    "  print(thistuple[i])"
   ]
  },
  {
   "cell_type": "code",
   "execution_count": null,
   "id": "cd2ab57e-175a-49a4-a362-d48317f0209e",
   "metadata": {},
   "outputs": [],
   "source": []
  },
  {
   "cell_type": "code",
   "execution_count": null,
   "id": "c02ddc6b-ee95-4ef7-87f9-d08724300ac3",
   "metadata": {},
   "outputs": [],
   "source": [
    "Join Tuples"
   ]
  },
  {
   "cell_type": "code",
   "execution_count": null,
   "id": "4f5a4cae-ecc5-4315-9cce-58e1928dfc26",
   "metadata": {},
   "outputs": [],
   "source": []
  },
  {
   "cell_type": "code",
   "execution_count": null,
   "id": "468ee61f-7044-4d28-a628-a18bc172fd69",
   "metadata": {},
   "outputs": [],
   "source": [
    "Example"
   ]
  },
  {
   "cell_type": "code",
   "execution_count": null,
   "id": "9ce277f5-8c99-4a1e-ae6d-5ef41bf81b45",
   "metadata": {},
   "outputs": [],
   "source": [
    "tuple1 = (\"a\", \"b\" , \"c\")\n",
    "tuple2 = (1, 2, 3)\n",
    "\n",
    "tuple3 = tuple1 + tuple2\n",
    "print(tuple3)"
   ]
  },
  {
   "cell_type": "code",
   "execution_count": null,
   "id": "ede60ad4-4cc9-4a07-badc-e51e7c574a2b",
   "metadata": {},
   "outputs": [],
   "source": [
    "fruits = (\"apple\", \"banana\", \"cherry\")\n",
    "mytuple = fruits * 2\n",
    "\n",
    "print(mytuple)"
   ]
  },
  {
   "cell_type": "code",
   "execution_count": null,
   "id": "35c67aa9-727b-4770-bb93-a0e832c38ebd",
   "metadata": {},
   "outputs": [],
   "source": [
    "Exercise"
   ]
  },
  {
   "cell_type": "code",
   "execution_count": null,
   "id": "0472713f-52d1-43bd-8b3a-385c34cc9d19",
   "metadata": {},
   "outputs": [],
   "source": [
    "#What is a correct syntax for joining tuple1 and tuple2 into tuple3?\n",
    "tuple3 = tuple1 + tuple2"
   ]
  },
  {
   "cell_type": "code",
   "execution_count": null,
   "id": "3848cbbb-8c4f-4937-bfcb-a953fed8637b",
   "metadata": {},
   "outputs": [],
   "source": [
    "#What is a legal way to turn this tuple: (1,2,3) into this tuple:(1,2,3,1,2,3)?\n",
    "tuple1 = (1,2,3)\n",
    "tuple1 = tuple1 * 2"
   ]
  },
  {
   "cell_type": "code",
   "execution_count": null,
   "id": "9aa8f453-41a9-4c2f-8188-ca3dadf2d6ca",
   "metadata": {},
   "outputs": [],
   "source": [
    "#Consider the following code:\n",
    "tuple1 = ('a', 'b' , 'c')\n",
    "tuple2 = (1, 2, 3)\n",
    "tuple3 = tuple2 + tuple1\n",
    "#What will be the value of tuple3?\n",
    "(1, 2, 3, 'a', 'b', 'c')"
   ]
  },
  {
   "cell_type": "code",
   "execution_count": null,
   "id": "1b8c79b9-4a72-4a98-b3f9-4dd131f3629a",
   "metadata": {},
   "outputs": [],
   "source": []
  },
  {
   "cell_type": "code",
   "execution_count": null,
   "id": "d8caacfd-281c-4536-92f7-74528bc0a8f6",
   "metadata": {},
   "outputs": [],
   "source": [
    "Tuple Methods"
   ]
  },
  {
   "cell_type": "code",
   "execution_count": null,
   "id": "8495aa75-a401-48fe-a471-279cba8bc9db",
   "metadata": {},
   "outputs": [],
   "source": []
  },
  {
   "cell_type": "markdown",
   "id": "092fecec-49e7-44d0-a47e-8c4ecb35507f",
   "metadata": {},
   "source": [
    "Method\tDescription\n",
    "count()\tReturns the number of times a specified value occurs in a tuple\n",
    "index()\tSearches the tuple for a specified value and returns the position of where it was found"
   ]
  },
  {
   "cell_type": "code",
   "execution_count": null,
   "id": "64436564-d666-436d-ac80-c016ccf08d62",
   "metadata": {},
   "outputs": [],
   "source": []
  },
  {
   "cell_type": "code",
   "execution_count": null,
   "id": "ffa3d4df-cbe5-4243-8945-2f7d5376e5b4",
   "metadata": {},
   "outputs": [],
   "source": [
    "Sets"
   ]
  },
  {
   "cell_type": "code",
   "execution_count": null,
   "id": "02e427f3-02d4-4cc9-a4b7-aa5291f0f858",
   "metadata": {},
   "outputs": [],
   "source": []
  },
  {
   "cell_type": "code",
   "execution_count": null,
   "id": "a0623843-1f2f-4775-801a-f5338a1b8777",
   "metadata": {},
   "outputs": [],
   "source": [
    "Example"
   ]
  },
  {
   "cell_type": "code",
   "execution_count": null,
   "id": "aa3dfa64-c887-43c5-b0ab-df3d4b40530d",
   "metadata": {},
   "outputs": [],
   "source": [
    "thisset = {\"apple\", \"banana\", \"cherry\"}\n",
    "print(thisset)"
   ]
  },
  {
   "cell_type": "code",
   "execution_count": null,
   "id": "987f941e-be08-40da-a789-acb454998846",
   "metadata": {},
   "outputs": [],
   "source": [
    "thisset = {\"apple\", \"banana\", \"cherry\", \"apple\"}\n",
    "print(thisset)"
   ]
  },
  {
   "cell_type": "code",
   "execution_count": null,
   "id": "30973238-4e35-40fc-b64a-e6c1bbc6ab87",
   "metadata": {},
   "outputs": [],
   "source": [
    "thisset = {\"apple\", \"banana\", \"cherry\", True, 1, 2}\n",
    "print(thisset)"
   ]
  },
  {
   "cell_type": "code",
   "execution_count": null,
   "id": "741c0bfa-38a0-4e26-bebe-8ffe2ecc6fb4",
   "metadata": {},
   "outputs": [],
   "source": [
    "thisset = {\"apple\", \"banana\", \"cherry\", False, True, 0}\n",
    "print(thisset)"
   ]
  },
  {
   "cell_type": "code",
   "execution_count": null,
   "id": "5ef85713-cdb5-41da-aed8-d324914b9865",
   "metadata": {},
   "outputs": [],
   "source": [
    "thisset = {\"apple\", \"banana\", \"cherry\"}\n",
    "print(len(thisset))"
   ]
  },
  {
   "cell_type": "code",
   "execution_count": null,
   "id": "75b99c9e-042e-4988-9bf5-af654d395b2e",
   "metadata": {},
   "outputs": [],
   "source": [
    "set1 = {\"apple\", \"banana\", \"cherry\"}\n",
    "set2 = {1, 5, 7, 9, 3}\n",
    "set3 = {True, False, False}"
   ]
  },
  {
   "cell_type": "code",
   "execution_count": null,
   "id": "238df869-4272-4906-a752-db94a8e7a514",
   "metadata": {},
   "outputs": [],
   "source": [
    "set1 = {\"abc\", 34, True, 40, \"male\"}"
   ]
  },
  {
   "cell_type": "code",
   "execution_count": null,
   "id": "17c56638-fcac-4488-a05d-976293684872",
   "metadata": {},
   "outputs": [],
   "source": [
    "myset = {\"apple\", \"banana\", \"cherry\"}\n",
    "print(type(myset))"
   ]
  },
  {
   "cell_type": "code",
   "execution_count": null,
   "id": "beb70fdd-1709-4ed8-8557-325ed7df8d37",
   "metadata": {},
   "outputs": [],
   "source": [
    "thisset = set((\"apple\", \"banana\", \"cherry\")) # note the double round-brackets\n",
    "print(thisset)"
   ]
  },
  {
   "cell_type": "code",
   "execution_count": null,
   "id": "3e36057f-9b98-47e2-b053-f4d3d5b5e2ab",
   "metadata": {},
   "outputs": [],
   "source": [
    "Exercise"
   ]
  },
  {
   "cell_type": "code",
   "execution_count": null,
   "id": "d5d10379-bff8-4263-b45f-8cb836b1da8b",
   "metadata": {},
   "outputs": [],
   "source": [
    "myset = {'apple', 'banana', 'cherry'}"
   ]
  },
  {
   "cell_type": "code",
   "execution_count": null,
   "id": "4e8f89d5-624b-4954-afbd-e536b152fb90",
   "metadata": {},
   "outputs": [],
   "source": [
    "#True or False.\n",
    "#Set items cannot be removed after the set has been created.\n",
    "False"
   ]
  },
  {
   "cell_type": "code",
   "execution_count": null,
   "id": "3efe3ead-0a53-4326-9d2c-859a7e020671",
   "metadata": {},
   "outputs": [],
   "source": [
    "#True or False.\n",
    "#A set cannot have two items with the same value.\n",
    "True"
   ]
  },
  {
   "cell_type": "code",
   "execution_count": null,
   "id": "f5d96acd-7d36-4baf-a3c8-b92f54a78076",
   "metadata": {},
   "outputs": [],
   "source": [
    "#Select the correct function for returning the number of items in a set:\n",
    "fruits = {'apple', 'banana', 'cherry'}\n",
    "print((fruits))"
   ]
  },
  {
   "cell_type": "code",
   "execution_count": null,
   "id": "71406fd0-82e8-4475-9dcf-ed437e9ae42d",
   "metadata": {},
   "outputs": [],
   "source": []
  },
  {
   "cell_type": "code",
   "execution_count": null,
   "id": "b76001f2-284c-4e37-8b4f-c2613e77f7ba",
   "metadata": {},
   "outputs": [],
   "source": [
    "Access Set"
   ]
  },
  {
   "cell_type": "code",
   "execution_count": null,
   "id": "8eff3c81-54d8-4ced-ac27-e470c5c56ac4",
   "metadata": {},
   "outputs": [],
   "source": []
  },
  {
   "cell_type": "code",
   "execution_count": null,
   "id": "19c7a049-d912-4b2c-a436-9c78197a2ead",
   "metadata": {},
   "outputs": [],
   "source": [
    "Example"
   ]
  },
  {
   "cell_type": "code",
   "execution_count": null,
   "id": "073f9c5a-6d7a-4f5c-9c52-13ed4ec56933",
   "metadata": {},
   "outputs": [],
   "source": [
    "thisset = {\"apple\", \"banana\", \"cherry\"}\n",
    "for x in thisset:\n",
    "  print(x)"
   ]
  },
  {
   "cell_type": "code",
   "execution_count": null,
   "id": "b1b36bbe-c949-419e-93be-56d2ead1d586",
   "metadata": {},
   "outputs": [],
   "source": [
    "thisset = {\"apple\", \"banana\", \"cherry\"}\n",
    "print(\"banana\" in thisset)"
   ]
  },
  {
   "cell_type": "code",
   "execution_count": null,
   "id": "e2c6698f-1026-4767-ac23-3e76e891292c",
   "metadata": {},
   "outputs": [],
   "source": [
    "thisset = {\"apple\", \"banana\", \"cherry\"}\n",
    "print(\"banana\" not in thisset)"
   ]
  },
  {
   "cell_type": "code",
   "execution_count": null,
   "id": "004d40f0-66aa-45e9-8691-48fbc74ea0a4",
   "metadata": {},
   "outputs": [],
   "source": [
    "Exercise"
   ]
  },
  {
   "cell_type": "code",
   "execution_count": null,
   "id": "d0fc1d11-b732-4067-a942-c53ecf4c8217",
   "metadata": {},
   "outputs": [],
   "source": [
    "#True or False. You can access set items by referring to the index.\n",
    "False"
   ]
  },
  {
   "cell_type": "code",
   "execution_count": null,
   "id": "51dbd82e-c091-409c-9285-dbb60091abb8",
   "metadata": {},
   "outputs": [],
   "source": [
    "#Check if \"apple\" is present in the fruits set.\n",
    "fruits = {\"apple\", \"banana\", \"cherry\"}\n",
    "if \"apple\" in fruits:\n",
    "  print(\"Yes, apple is a fruit!\")"
   ]
  },
  {
   "cell_type": "code",
   "execution_count": null,
   "id": "5db4ab42-9351-4ae7-b8f1-9d546afea946",
   "metadata": {},
   "outputs": [],
   "source": [
    "#Consider the following code:\n",
    "thisset = {'apple', 'banana', 'cherry'}\n",
    "print('banana' not in thisset)\n",
    "#What will be the printed result?\n",
    "False"
   ]
  },
  {
   "cell_type": "code",
   "execution_count": null,
   "id": "230d44d1-5ca0-40a3-b218-505cfba5f381",
   "metadata": {},
   "outputs": [],
   "source": []
  },
  {
   "cell_type": "code",
   "execution_count": null,
   "id": "49facd12-c1d1-4d7e-98bc-eb7ce56f4967",
   "metadata": {},
   "outputs": [],
   "source": [
    "Add Set"
   ]
  },
  {
   "cell_type": "code",
   "execution_count": null,
   "id": "af222e31-7be8-485b-8c64-cd03b2bfa20b",
   "metadata": {},
   "outputs": [],
   "source": []
  },
  {
   "cell_type": "code",
   "execution_count": null,
   "id": "7e2be544-6a26-4f40-8b14-24f3d91f7ed1",
   "metadata": {},
   "outputs": [],
   "source": [
    "Example"
   ]
  },
  {
   "cell_type": "code",
   "execution_count": null,
   "id": "21956efd-c12c-4eb9-9690-a14de3c6e5d5",
   "metadata": {},
   "outputs": [],
   "source": [
    "thisset = {\"apple\", \"banana\", \"cherry\"}\n",
    "\n",
    "thisset.add(\"orange\")\n",
    "\n",
    "print(thisset)"
   ]
  },
  {
   "cell_type": "code",
   "execution_count": null,
   "id": "724bb9b1-1906-4a2a-bfb1-8cd4e3795950",
   "metadata": {},
   "outputs": [],
   "source": [
    "thisset = {\"apple\", \"banana\", \"cherry\"}\n",
    "tropical = {\"pineapple\", \"mango\", \"papaya\"}\n",
    "\n",
    "thisset.update(tropical)\n",
    "\n",
    "print(thisset)"
   ]
  },
  {
   "cell_type": "code",
   "execution_count": null,
   "id": "b33628b9-b776-4f3e-99ae-e5195d00da81",
   "metadata": {},
   "outputs": [],
   "source": [
    "thisset = {\"apple\", \"banana\", \"cherry\"}\n",
    "mylist = [\"kiwi\", \"orange\"]\n",
    "\n",
    "thisset.update(mylist)\n",
    "\n",
    "print(thisset)"
   ]
  },
  {
   "cell_type": "code",
   "execution_count": null,
   "id": "ec1e52a1-3ed2-4e2e-b2cc-8b843b3c0252",
   "metadata": {},
   "outputs": [],
   "source": [
    "Exercise"
   ]
  },
  {
   "cell_type": "code",
   "execution_count": null,
   "id": "4de4ebd9-25f4-43bd-ac31-1a60bf0be4e7",
   "metadata": {},
   "outputs": [],
   "source": [
    "#What is a correct syntax for adding items to a set?\n",
    "add()"
   ]
  },
  {
   "cell_type": "code",
   "execution_count": null,
   "id": "36666b61-6102-4d1e-af77-92eddef8621f",
   "metadata": {},
   "outputs": [],
   "source": [
    "#Use the add method to add \"orange\" to the fruits set.\n",
    "fruits = {\"apple\", \"banana\", \"cherry\"}\n",
    "fruits.add(\"orange\")\n"
   ]
  },
  {
   "cell_type": "code",
   "execution_count": null,
   "id": "4d2ca92b-839d-4ddc-8dba-9f10cd1ba844",
   "metadata": {},
   "outputs": [],
   "source": [
    "#Use the correct method to add multiple items (more_fruits) to the fruits set.\n",
    "fruits = {\"apple\", \"banana\", \"cherry\"}\n",
    "more_fruits = [\"orange\", \"mango\", \"grapes\"]\n",
    "fruits.update(more_fruits)\n"
   ]
  },
  {
   "cell_type": "code",
   "execution_count": null,
   "id": "04cb62c3-50be-47e7-968c-7c1502ac5f05",
   "metadata": {},
   "outputs": [],
   "source": []
  },
  {
   "cell_type": "code",
   "execution_count": null,
   "id": "c9b49e9f-e259-40e4-8ca1-4181ad7fd956",
   "metadata": {},
   "outputs": [],
   "source": [
    "Remove Set"
   ]
  },
  {
   "cell_type": "code",
   "execution_count": null,
   "id": "c4148494-5417-403b-8779-8226ce2bbf65",
   "metadata": {},
   "outputs": [],
   "source": []
  },
  {
   "cell_type": "code",
   "execution_count": null,
   "id": "025bf0f7-0b1c-4730-aabe-81b547e2cd8c",
   "metadata": {},
   "outputs": [],
   "source": [
    "Example"
   ]
  },
  {
   "cell_type": "code",
   "execution_count": null,
   "id": "d6e3c36b-e024-45aa-929a-df37f0b4115d",
   "metadata": {},
   "outputs": [],
   "source": [
    "thisset = {\"apple\", \"banana\", \"cherry\"}\n",
    "\n",
    "thisset.remove(\"banana\")\n",
    "\n",
    "print(thisset)"
   ]
  },
  {
   "cell_type": "code",
   "execution_count": null,
   "id": "9ccf8d90-6d81-4ddd-8432-23fef359d8b0",
   "metadata": {},
   "outputs": [],
   "source": [
    "thisset = {\"apple\", \"banana\", \"cherry\"}\n",
    "\n",
    "thisset.discard(\"banana\")\n",
    "\n",
    "print(thisset)"
   ]
  },
  {
   "cell_type": "code",
   "execution_count": null,
   "id": "143617a9-ca9c-4e11-9881-cc8a2ef288da",
   "metadata": {},
   "outputs": [],
   "source": [
    "thisset = {\"apple\", \"banana\", \"cherry\"}\n",
    "\n",
    "x = thisset.pop()\n",
    "\n",
    "print(x)\n",
    "\n",
    "print(thisset)"
   ]
  },
  {
   "cell_type": "code",
   "execution_count": null,
   "id": "fa3f7506-14fa-42ed-b212-fa1f202641be",
   "metadata": {},
   "outputs": [],
   "source": [
    "thisset = {\"apple\", \"banana\", \"cherry\"}\n",
    "\n",
    "thisset.clear()\n",
    "\n",
    "print(thisset)"
   ]
  },
  {
   "cell_type": "code",
   "execution_count": null,
   "id": "32f7425b-9ff2-4fff-85af-e169d1040986",
   "metadata": {},
   "outputs": [],
   "source": [
    "thisset = {\"apple\", \"banana\", \"cherry\"}\n",
    "\n",
    "del thisset\n",
    "\n",
    "print(thisset)"
   ]
  },
  {
   "cell_type": "code",
   "execution_count": null,
   "id": "5b94bfe0-f969-4e41-8861-7742c1261580",
   "metadata": {},
   "outputs": [],
   "source": [
    "Exercise"
   ]
  },
  {
   "cell_type": "code",
   "execution_count": null,
   "id": "9675f5bc-138f-48fd-8004-c898900ffc8d",
   "metadata": {},
   "outputs": [],
   "source": [
    "#What is a correct syntax for removing an item from a set?\n",
    "remove()"
   ]
  },
  {
   "cell_type": "code",
   "execution_count": null,
   "id": "3db1b8e9-d044-4b10-a734-aa7535617cb4",
   "metadata": {},
   "outputs": [],
   "source": [
    "#Use the remove method to remove \"banana\" from the fruits set.\n",
    "fruits = {\"apple\", \"banana\", \"cherry\"}\n",
    "fruits.remove(\"banana\")\n"
   ]
  },
  {
   "cell_type": "code",
   "execution_count": null,
   "id": "916bbbc8-8d3f-4b36-bf84-f7ae2515f466",
   "metadata": {},
   "outputs": [],
   "source": [
    "#Use the discard method to remove \"banana\" from the fruits set.\n",
    "fruits = {\"apple\", \"banana\", \"cherry\"}\n",
    "fruits.discard(\"banana\")\n"
   ]
  },
  {
   "cell_type": "code",
   "execution_count": null,
   "id": "11f1a4c7-20e5-46b5-a71f-8e029bcc9e9f",
   "metadata": {},
   "outputs": [],
   "source": [
    "#Select the correct function to remove all items from a set:\n",
    "fruits = {'apple', 'banana', 'cherry'}\n",
    "fruits.clear()\n"
   ]
  },
  {
   "cell_type": "code",
   "execution_count": null,
   "id": "298422ff-4d93-49a5-ab1a-091217da35e8",
   "metadata": {},
   "outputs": [],
   "source": []
  },
  {
   "cell_type": "code",
   "execution_count": null,
   "id": "d04859e2-5523-4749-b6c0-8b35e0a19cbf",
   "metadata": {},
   "outputs": [],
   "source": [
    "Loop Sets"
   ]
  },
  {
   "cell_type": "code",
   "execution_count": null,
   "id": "a29fc924-fa6c-4954-8440-2c083076fe5e",
   "metadata": {},
   "outputs": [],
   "source": []
  },
  {
   "cell_type": "code",
   "execution_count": null,
   "id": "af8f622b-bd1a-4dea-922c-e91f2924e766",
   "metadata": {},
   "outputs": [],
   "source": [
    "Example"
   ]
  },
  {
   "cell_type": "code",
   "execution_count": null,
   "id": "a2c025f6-6ab4-4520-9e9c-5339e631609f",
   "metadata": {},
   "outputs": [],
   "source": [
    "thisset = {\"apple\", \"banana\", \"cherry\"}\n",
    "\n",
    "for x in thisset:\n",
    "  print(x)"
   ]
  },
  {
   "cell_type": "code",
   "execution_count": null,
   "id": "4fc26c17-3882-440b-b688-660c661653f4",
   "metadata": {},
   "outputs": [],
   "source": [
    "Exercise"
   ]
  },
  {
   "cell_type": "code",
   "execution_count": null,
   "id": "7520b9e7-c1d1-4ca6-b0db-80564adcd019",
   "metadata": {},
   "outputs": [],
   "source": [
    "#What is a correct syntax for looping through the items of a set?\n",
    "for x in {'apple', 'banana', 'cherry'}:\n",
    "  print(x)"
   ]
  },
  {
   "cell_type": "code",
   "execution_count": null,
   "id": "a1fbed56-e40a-4a7a-be26-d91027b51f98",
   "metadata": {},
   "outputs": [],
   "source": [
    "#Insert the missing part of the for loop below to loop through the items of a set.\n",
    "myset = {'apple', 'banana', 'cherry'}\n",
    "for x in myset:\n",
    "  print(x)"
   ]
  },
  {
   "cell_type": "code",
   "execution_count": null,
   "id": "025378ba-e086-4923-a45e-90bdf25d5474",
   "metadata": {},
   "outputs": [],
   "source": [
    "#True or False. Sets are unordered, so when you loop through the items, the order will be totally random.\n",
    "True"
   ]
  },
  {
   "cell_type": "code",
   "execution_count": null,
   "id": "1ea52df5-b564-442b-a057-5de34cf47a29",
   "metadata": {},
   "outputs": [],
   "source": []
  },
  {
   "cell_type": "code",
   "execution_count": null,
   "id": "a6adb272-c4b4-46ce-8440-06128f93c6d2",
   "metadata": {},
   "outputs": [],
   "source": [
    "Join Sets"
   ]
  },
  {
   "cell_type": "code",
   "execution_count": null,
   "id": "d02b6c51-169e-414a-a6b0-62c7eadbacf2",
   "metadata": {},
   "outputs": [],
   "source": []
  },
  {
   "cell_type": "code",
   "execution_count": null,
   "id": "8e41d9a1-3dbd-4cc8-912f-82040140e1c9",
   "metadata": {},
   "outputs": [],
   "source": [
    "Example"
   ]
  },
  {
   "cell_type": "code",
   "execution_count": null,
   "id": "80de4f30-56fa-412d-adfc-cddf2431230a",
   "metadata": {},
   "outputs": [],
   "source": [
    "set1 = {\"a\", \"b\", \"c\"}\n",
    "set2 = {1, 2, 3}\n",
    "\n",
    "set3 = set1.union(set2)\n",
    "print(set3)"
   ]
  },
  {
   "cell_type": "code",
   "execution_count": null,
   "id": "59df15f6-7dcf-40ac-855b-34c69af4a053",
   "metadata": {},
   "outputs": [],
   "source": [
    "set1 = {\"a\", \"b\", \"c\"}\n",
    "set2 = {1, 2, 3}\n",
    "\n",
    "set3 = set1 | set2\n",
    "print(set3)"
   ]
  },
  {
   "cell_type": "code",
   "execution_count": null,
   "id": "6607ddb8-cffe-43ee-bb12-520af811cf25",
   "metadata": {},
   "outputs": [],
   "source": [
    "set1 = {\"a\", \"b\", \"c\"}\n",
    "set2 = {1, 2, 3}\n",
    "\n",
    "set3 = set1 | set2\n",
    "print(set3)"
   ]
  },
  {
   "cell_type": "code",
   "execution_count": null,
   "id": "98951004-a95a-4a2f-8b02-61e6119c84f3",
   "metadata": {},
   "outputs": [],
   "source": [
    "set1 = {\"a\", \"b\", \"c\"}\n",
    "set2 = {1, 2, 3}\n",
    "set3 = {\"John\", \"Elena\"}\n",
    "set4 = {\"apple\", \"bananas\", \"cherry\"}\n",
    "\n",
    "myset = set1 | set2 | set3 |set4\n",
    "print(myset)"
   ]
  },
  {
   "cell_type": "code",
   "execution_count": null,
   "id": "a29dd63f-fc03-4313-a535-fee532e19545",
   "metadata": {},
   "outputs": [],
   "source": [
    "x = {\"a\", \"b\", \"c\"}\n",
    "y = (1, 2, 3)\n",
    "\n",
    "z = x.union(y)\n",
    "print(z)"
   ]
  },
  {
   "cell_type": "code",
   "execution_count": null,
   "id": "bad4ca15-8ba3-4f7f-b019-0dbf92e0a6a6",
   "metadata": {},
   "outputs": [],
   "source": [
    "set1 = {\"a\", \"b\" , \"c\"}\n",
    "set2 = {1, 2, 3}\n",
    "\n",
    "set1.update(set2)\n",
    "print(set1)"
   ]
  },
  {
   "cell_type": "code",
   "execution_count": null,
   "id": "26a0a84c-0225-496d-b207-65eac084697a",
   "metadata": {},
   "outputs": [],
   "source": [
    "set1 = {\"apple\", \"banana\", \"cherry\"}\n",
    "set2 = {\"google\", \"microsoft\", \"apple\"}\n",
    "\n",
    "set3 = set1.intersection(set2)\n",
    "print(set3)"
   ]
  },
  {
   "cell_type": "code",
   "execution_count": null,
   "id": "3ffeca2c-a56e-45bd-8540-a4bcf7339676",
   "metadata": {},
   "outputs": [],
   "source": [
    "set1 = {\"apple\", \"banana\", \"cherry\"}\n",
    "set2 = {\"google\", \"microsoft\", \"apple\"}\n",
    "\n",
    "set3 = set1 & set2\n",
    "print(set3)"
   ]
  },
  {
   "cell_type": "code",
   "execution_count": null,
   "id": "ec5ffd44-fbf2-4d93-b2fc-e7fd7264f387",
   "metadata": {},
   "outputs": [],
   "source": [
    "set1 = {\"apple\", \"banana\", \"cherry\"}\n",
    "set2 = {\"google\", \"microsoft\", \"apple\"}\n",
    "\n",
    "set1.intersection_update(set2)\n",
    "\n",
    "print(set1)"
   ]
  },
  {
   "cell_type": "code",
   "execution_count": null,
   "id": "d4b323f0-ea36-4c07-b486-f91a3d6f8dae",
   "metadata": {},
   "outputs": [],
   "source": [
    "set1 = {\"apple\", 1,  \"banana\", 0, \"cherry\"}\n",
    "set2 = {False, \"google\", 1, \"apple\", 2, True}\n",
    "\n",
    "set3 = set1.intersection(set2)\n",
    "\n",
    "print(set3)"
   ]
  },
  {
   "cell_type": "code",
   "execution_count": null,
   "id": "1d10e561-b640-43b8-8ffe-face097eb51d",
   "metadata": {},
   "outputs": [],
   "source": [
    "set1 = {\"apple\", \"banana\", \"cherry\"}\n",
    "set2 = {\"google\", \"microsoft\", \"apple\"}\n",
    "\n",
    "set3 = set1.difference(set2)\n",
    "\n",
    "print(set3)"
   ]
  },
  {
   "cell_type": "code",
   "execution_count": null,
   "id": "3d8234d0-45a9-417e-9356-3164a0b7a840",
   "metadata": {},
   "outputs": [],
   "source": [
    "set1 = {\"apple\", \"banana\", \"cherry\"}\n",
    "set2 = {\"google\", \"microsoft\", \"apple\"}\n",
    "\n",
    "set3 = set1 - set2\n",
    "print(set3)"
   ]
  },
  {
   "cell_type": "code",
   "execution_count": null,
   "id": "6236e820-37d5-421c-8cff-f3fc8449ee7f",
   "metadata": {},
   "outputs": [],
   "source": [
    "set1 = {\"apple\", \"banana\", \"cherry\"}\n",
    "set2 = {\"google\", \"microsoft\", \"apple\"}\n",
    "\n",
    "set1.difference_update(set2)\n",
    "\n",
    "print(set1)"
   ]
  },
  {
   "cell_type": "code",
   "execution_count": null,
   "id": "5eae3795-9b8a-4156-839d-91a7a1d454d8",
   "metadata": {},
   "outputs": [],
   "source": [
    "set1 = {\"apple\", \"banana\", \"cherry\"}\n",
    "set2 = {\"google\", \"microsoft\", \"apple\"}\n",
    "\n",
    "set3 = set1.symmetric_difference(set2)\n",
    "\n",
    "print(set3)"
   ]
  },
  {
   "cell_type": "code",
   "execution_count": null,
   "id": "b06b48c1-5f5b-4837-b363-9600660a51d4",
   "metadata": {},
   "outputs": [],
   "source": [
    "set1 = {\"apple\", \"banana\", \"cherry\"}\n",
    "set2 = {\"google\", \"microsoft\", \"apple\"}\n",
    "\n",
    "set3 = set1 ^ set2\n",
    "print(set3)"
   ]
  },
  {
   "cell_type": "code",
   "execution_count": null,
   "id": "2f701397-72ba-4011-8fc8-d0220116f426",
   "metadata": {},
   "outputs": [],
   "source": [
    "set1 = {\"apple\", \"banana\", \"cherry\"}\n",
    "set2 = {\"google\", \"microsoft\", \"apple\"}\n",
    "\n",
    "set1.symmetric_difference_update(set2)\n",
    "\n",
    "print(set1)"
   ]
  },
  {
   "cell_type": "code",
   "execution_count": null,
   "id": "bc64ef34-cee9-425d-a3de-4117bfff9263",
   "metadata": {},
   "outputs": [],
   "source": [
    "Exercise"
   ]
  },
  {
   "cell_type": "code",
   "execution_count": null,
   "id": "9ac22012-eec8-4c9e-bb0e-95ae07a2dc5c",
   "metadata": {},
   "outputs": [],
   "source": [
    "#What is a correct syntax for joining set1 and set2 into set3?\n",
    "set3 = set1.union(set2)"
   ]
  },
  {
   "cell_type": "code",
   "execution_count": null,
   "id": "1c6735d1-8d49-4e2d-b7b5-12ec280644a1",
   "metadata": {},
   "outputs": [],
   "source": [
    "#What is a correct syntax for joining multiple sets into one new set called set5?\n",
    "set5 = set1 | set2 | set3 | set4"
   ]
  },
  {
   "cell_type": "code",
   "execution_count": null,
   "id": "0e9271c6-79f7-4103-9bcb-0bcb5a339528",
   "metadata": {},
   "outputs": [],
   "source": [
    "#There are many ways to join sets in Python. Which one of the following methods keeps ONLY the duplicates?\n",
    "intersection()"
   ]
  },
  {
   "cell_type": "code",
   "execution_count": null,
   "id": "b7b243b9-a09b-45cb-8ad3-a0000ff5e220",
   "metadata": {},
   "outputs": [],
   "source": []
  },
  {
   "cell_type": "code",
   "execution_count": null,
   "id": "e72a2d47-6a18-4a79-bdb5-2bc20f967c86",
   "metadata": {},
   "outputs": [],
   "source": [
    "Set Methods"
   ]
  },
  {
   "cell_type": "code",
   "execution_count": null,
   "id": "b54d8920-9d08-4428-b68c-2cc50d3acf1b",
   "metadata": {},
   "outputs": [],
   "source": []
  },
  {
   "cell_type": "markdown",
   "id": "8de3a3c1-1621-4832-92e5-c4ab9f5a3566",
   "metadata": {},
   "source": [
    "Method\tShortcut\tDescription\n",
    "add()\t \tAdds an element to the set\n",
    "clear()\t \tRemoves all the elements from the set\n",
    "copy()\t \tReturns a copy of the set\n",
    "difference()\t-\tReturns a set containing the difference between two or more sets\n",
    "difference_update()\t-=\tRemoves the items in this set that are also included in another, specified set\n",
    "discard()\t \tRemove the specified item\n",
    "intersection()\t&\tReturns a set, that is the intersection of two other sets\n",
    "intersection_update()\t&=\tRemoves the items in this set that are not present in other, specified set(s)\n",
    "isdisjoint()\t \tReturns whether two sets have a intersection or not\n",
    "issubset()\t<=\tReturns whether another set contains this set or not\n",
    " \t<\tReturns whether all items in this set is present in other, specified set(s)\n",
    "issuperset()\t>=\tReturns whether this set contains another set or not\n",
    " \t>\tReturns whether all items in other, specified set(s) is present in this set\n",
    "pop()\t \tRemoves an element from the set\n",
    "remove()\t \tRemoves the specified element\n",
    "symmetric_difference()\t^\tReturns a set with the symmetric differences of two sets\n",
    "symmetric_difference_update()\t^=\tInserts the symmetric differences from this set and another\n",
    "union()\t|\tReturn a set containing the union of sets\n",
    "update()\t|=\tUpdate the set with the union of this set and others"
   ]
  },
  {
   "cell_type": "code",
   "execution_count": null,
   "id": "87b618c3-ae6e-403a-8346-7b1745e39b30",
   "metadata": {},
   "outputs": [],
   "source": []
  },
  {
   "cell_type": "code",
   "execution_count": null,
   "id": "20d92527-3ec9-4c35-864b-e0ee357e806d",
   "metadata": {},
   "outputs": [],
   "source": [
    "Dictionaries"
   ]
  },
  {
   "cell_type": "code",
   "execution_count": null,
   "id": "9c28b1fa-1ef8-49a2-a490-5c8e5a0b52ae",
   "metadata": {},
   "outputs": [],
   "source": []
  },
  {
   "cell_type": "code",
   "execution_count": null,
   "id": "ddda84ce-b167-4de5-8581-efe90e75f1c9",
   "metadata": {},
   "outputs": [],
   "source": [
    "thisdict = {\n",
    "  \"brand\": \"Ford\",\n",
    "  \"model\": \"Mustang\",\n",
    "  \"year\": 1964\n",
    "}"
   ]
  },
  {
   "cell_type": "code",
   "execution_count": null,
   "id": "1c77404b-2512-440d-a87e-40ee715ac48f",
   "metadata": {},
   "outputs": [],
   "source": [
    "Example"
   ]
  },
  {
   "cell_type": "code",
   "execution_count": null,
   "id": "920c7442-f325-4ee1-8407-ebec61173908",
   "metadata": {},
   "outputs": [],
   "source": [
    "thisdict = {\n",
    "  \"brand\": \"Ford\",\n",
    "  \"model\": \"Mustang\",\n",
    "  \"year\": 1964\n",
    "}\n",
    "print(thisdict)"
   ]
  },
  {
   "cell_type": "code",
   "execution_count": null,
   "id": "0f5ede23-3e1f-42ce-a9b5-fdcd9977edfc",
   "metadata": {},
   "outputs": [],
   "source": [
    "thisdict = {\n",
    "  \"brand\": \"Ford\",\n",
    "  \"model\": \"Mustang\",\n",
    "  \"year\": 1964\n",
    "}\n",
    "print(thisdict[\"brand\"])"
   ]
  },
  {
   "cell_type": "code",
   "execution_count": null,
   "id": "97978104-82d8-4fa0-9eee-d87b0113e43b",
   "metadata": {},
   "outputs": [],
   "source": [
    "thisdict = {\n",
    "  \"brand\": \"Ford\",\n",
    "  \"model\": \"Mustang\",\n",
    "  \"year\": 1964,\n",
    "  \"year\": 2020\n",
    "}\n",
    "print(thisdict)"
   ]
  },
  {
   "cell_type": "code",
   "execution_count": null,
   "id": "c7b07921-3b11-4048-b3e2-83b392b132dc",
   "metadata": {},
   "outputs": [],
   "source": [
    "print(len(thisdict))"
   ]
  },
  {
   "cell_type": "code",
   "execution_count": null,
   "id": "ff86ff8b-0833-4139-b056-0d0bd18041c1",
   "metadata": {},
   "outputs": [],
   "source": [
    "thisdict = {\n",
    "  \"brand\": \"Ford\",\n",
    "  \"electric\": False,\n",
    "  \"year\": 1964,\n",
    "  \"colors\": [\"red\", \"white\", \"blue\"]\n",
    "}"
   ]
  },
  {
   "cell_type": "code",
   "execution_count": null,
   "id": "ea9c391b-659f-4389-822e-c73d7351d334",
   "metadata": {},
   "outputs": [],
   "source": [
    "thisdict = {\n",
    "  \"brand\": \"Ford\",\n",
    "  \"model\": \"Mustang\",\n",
    "  \"year\": 1964\n",
    "}\n",
    "print(type(thisdict))"
   ]
  },
  {
   "cell_type": "code",
   "execution_count": null,
   "id": "b28bdc8f-3041-42ff-ad0b-b172de01edd7",
   "metadata": {},
   "outputs": [],
   "source": [
    "thisdict = dict(name = \"John\", age = 36, country = \"Norway\")\n",
    "print(thisdict)"
   ]
  },
  {
   "cell_type": "code",
   "execution_count": null,
   "id": "df06775d-07a7-4aaa-b18d-6c5cadf5866e",
   "metadata": {},
   "outputs": [],
   "source": [
    "Exercise"
   ]
  },
  {
   "cell_type": "code",
   "execution_count": null,
   "id": "4652778f-cf8d-4a66-bdfa-922ba43764e0",
   "metadata": {},
   "outputs": [],
   "source": [
    "#Which one of these is a dictionary?\n",
    "x = {'type' : 'fruit', 'name' : 'banana'}"
   ]
  },
  {
   "cell_type": "code",
   "execution_count": null,
   "id": "b7a66aab-2eb3-47f4-b069-67f23c8d8b93",
   "metadata": {},
   "outputs": [],
   "source": [
    "True or False.\n",
    "Dictionary items cannot be removed after the dictionary has been created.\n",
    "False"
   ]
  },
  {
   "cell_type": "code",
   "execution_count": null,
   "id": "bc123c91-c673-437b-9f5c-4fd64a2c7bc1",
   "metadata": {},
   "outputs": [],
   "source": [
    "True or False.\n",
    "A dictionary cannot have two keys with the same name.\n",
    "True"
   ]
  },
  {
   "cell_type": "code",
   "execution_count": null,
   "id": "046b1d39-8103-4cc1-a43e-1912695947c4",
   "metadata": {},
   "outputs": [],
   "source": [
    "#Select the correct function to print the number of key/value pairs in the dictionary:\n",
    "x = {'type' : 'fruit', 'name' : 'banana'}\n",
    "print((x))"
   ]
  },
  {
   "cell_type": "code",
   "execution_count": null,
   "id": "c5245ed9-ade8-4804-a76e-37a7b30064e4",
   "metadata": {},
   "outputs": [],
   "source": []
  },
  {
   "cell_type": "code",
   "execution_count": null,
   "id": "9db88b0f-87ee-43b0-972b-4fc4c1aedb50",
   "metadata": {},
   "outputs": [],
   "source": [
    "Access Dictionary"
   ]
  },
  {
   "cell_type": "code",
   "execution_count": null,
   "id": "f4f67714-c580-4e6a-8451-78f146612bac",
   "metadata": {},
   "outputs": [],
   "source": []
  },
  {
   "cell_type": "code",
   "execution_count": null,
   "id": "d66d247e-18c5-4797-96b7-f6184cb4768b",
   "metadata": {},
   "outputs": [],
   "source": [
    "Example"
   ]
  },
  {
   "cell_type": "code",
   "execution_count": null,
   "id": "29c6946a-6da3-4735-81c7-92c481f3e214",
   "metadata": {},
   "outputs": [],
   "source": [
    "thisdict = {\n",
    "  \"brand\": \"Ford\",\n",
    "  \"model\": \"Mustang\",\n",
    "  \"year\": 1964\n",
    "}\n",
    "x = thisdict[\"model\"]"
   ]
  },
  {
   "cell_type": "code",
   "execution_count": null,
   "id": "4ca536d9-669a-4ba0-86f7-949cf9f4f10a",
   "metadata": {},
   "outputs": [],
   "source": [
    "x = thisdict.get(\"model\")"
   ]
  },
  {
   "cell_type": "code",
   "execution_count": null,
   "id": "1ee8e095-c8c4-4bb5-a645-7598f33f9807",
   "metadata": {},
   "outputs": [],
   "source": [
    "x = thisdict.keys()"
   ]
  },
  {
   "cell_type": "code",
   "execution_count": null,
   "id": "fca67da9-71af-478b-b8d1-12b1474d81dc",
   "metadata": {},
   "outputs": [],
   "source": [
    "car = {\n",
    "\"brand\": \"Ford\",\n",
    "\"model\": \"Mustang\",\n",
    "\"year\": 1964\n",
    "}\n",
    "\n",
    "x = car.keys()\n",
    "\n",
    "print(x) #before the change\n",
    "\n",
    "car[\"color\"] = \"white\"\n",
    "\n",
    "print(x) #after the change"
   ]
  },
  {
   "cell_type": "code",
   "execution_count": null,
   "id": "240f9957-b767-4dce-b602-cfe7c7db2846",
   "metadata": {},
   "outputs": [],
   "source": [
    "x = thisdict.values()"
   ]
  },
  {
   "cell_type": "code",
   "execution_count": null,
   "id": "c3c21ecc-6609-49f3-84f5-5035d9c8a7f9",
   "metadata": {},
   "outputs": [],
   "source": [
    "car = {\n",
    "\"brand\": \"Ford\",\n",
    "\"model\": \"Mustang\",\n",
    "\"year\": 1964\n",
    "}\n",
    "\n",
    "x = car.values()\n",
    "\n",
    "print(x) #before the change\n",
    "\n",
    "car[\"year\"] = 2020\n",
    "\n",
    "print(x) #after the change"
   ]
  },
  {
   "cell_type": "code",
   "execution_count": null,
   "id": "55add220-f047-4b6b-a149-6d046c446431",
   "metadata": {},
   "outputs": [],
   "source": [
    "car = {\n",
    "\"brand\": \"Ford\",\n",
    "\"model\": \"Mustang\",\n",
    "\"year\": 1964\n",
    "}\n",
    "\n",
    "x = car.values()\n",
    "\n",
    "print(x) #before the change\n",
    "\n",
    "car[\"color\"] = \"red\"\n",
    "\n",
    "print(x) #after the change"
   ]
  },
  {
   "cell_type": "code",
   "execution_count": null,
   "id": "e3183b81-70c1-4754-9b4a-4f08aaadf2b6",
   "metadata": {},
   "outputs": [],
   "source": [
    "x = thisdict.items()"
   ]
  },
  {
   "cell_type": "code",
   "execution_count": null,
   "id": "4e8ca08b-1f50-4ff5-a048-023104546345",
   "metadata": {},
   "outputs": [],
   "source": [
    "car = {\n",
    "\"brand\": \"Ford\",\n",
    "\"model\": \"Mustang\",\n",
    "\"year\": 1964\n",
    "}\n",
    "\n",
    "x = car.items()\n",
    "\n",
    "print(x) #before the change\n",
    "\n",
    "car[\"year\"] = 2020\n",
    "\n",
    "print(x) #after the change"
   ]
  },
  {
   "cell_type": "code",
   "execution_count": null,
   "id": "2b1274e5-ade9-4822-919e-3adac8694fbc",
   "metadata": {},
   "outputs": [],
   "source": [
    "car = {\n",
    "\"brand\": \"Ford\",\n",
    "\"model\": \"Mustang\",\n",
    "\"year\": 1964\n",
    "}\n",
    "\n",
    "x = car.items()\n",
    "\n",
    "print(x) #before the change\n",
    "\n",
    "car[\"color\"] = \"red\"\n",
    "\n",
    "print(x) #after the change"
   ]
  },
  {
   "cell_type": "code",
   "execution_count": null,
   "id": "18f1565e-22b0-4cc9-8e35-63592c656840",
   "metadata": {},
   "outputs": [],
   "source": [
    "thisdict = {\n",
    "  \"brand\": \"Ford\",\n",
    "  \"model\": \"Mustang\",\n",
    "  \"year\": 1964\n",
    "}\n",
    "if \"model\" in thisdict:\n",
    "  print(\"Yes, 'model' is one of the keys in the thisdict dictionary\")"
   ]
  },
  {
   "cell_type": "code",
   "execution_count": null,
   "id": "8f9e7397-487d-47f1-8c0a-2c0d79f7d00b",
   "metadata": {},
   "outputs": [],
   "source": [
    "Exercise"
   ]
  },
  {
   "cell_type": "code",
   "execution_count": null,
   "id": "7bf2398c-5566-44ef-a471-64a8e41f8843",
   "metadata": {},
   "outputs": [],
   "source": [
    "#True or False. You can access item values by referring to the key name.\n",
    "True"
   ]
  },
  {
   "cell_type": "code",
   "execution_count": null,
   "id": "aae47aaa-0e9c-4f41-b881-f568966c2bdf",
   "metadata": {},
   "outputs": [],
   "source": [
    "#Use the get method to print the value of the \"model\" key of the car dictionary.\n",
    "car =\t{\n",
    "  \"brand\": \"Ford\",\n",
    "  \"model\": \"Mustang\",\n",
    "  \"year\": 1964\n",
    "}\n",
    "print(car.get(\"model\"))"
   ]
  },
  {
   "cell_type": "code",
   "execution_count": null,
   "id": "8fa5b144-0234-47e8-97dc-b18d630a0414",
   "metadata": {},
   "outputs": [],
   "source": [
    "#Consider the following code:\n",
    "x = {'type' : 'fruit', 'name' : 'banana'}\n",
    "print(x['type'])\n",
    "#What will be the printed result?\n",
    "fruit"
   ]
  },
  {
   "cell_type": "code",
   "execution_count": null,
   "id": "42a5863d-aabb-4e47-ab43-74b109767ca4",
   "metadata": {},
   "outputs": [],
   "source": []
  },
  {
   "cell_type": "code",
   "execution_count": null,
   "id": "995e2112-c207-4134-88a2-d89e7a6375a9",
   "metadata": {},
   "outputs": [],
   "source": [
    "Change Dictionary"
   ]
  },
  {
   "cell_type": "code",
   "execution_count": null,
   "id": "3d66cec2-40f0-4f16-8638-b935ee91a208",
   "metadata": {},
   "outputs": [],
   "source": []
  },
  {
   "cell_type": "code",
   "execution_count": null,
   "id": "ec9df22d-a797-4b84-a7e1-513ca34a8209",
   "metadata": {},
   "outputs": [],
   "source": [
    "Example"
   ]
  },
  {
   "cell_type": "code",
   "execution_count": null,
   "id": "877a4aa6-4b05-4077-ae24-a91c4503163a",
   "metadata": {},
   "outputs": [],
   "source": [
    "thisdict = {\n",
    "  \"brand\": \"Ford\",\n",
    "  \"model\": \"Mustang\",\n",
    "  \"year\": 1964\n",
    "}\n",
    "thisdict[\"year\"] = 2018"
   ]
  },
  {
   "cell_type": "code",
   "execution_count": null,
   "id": "c70743ea-ec3e-4eb8-94bb-44488897724d",
   "metadata": {},
   "outputs": [],
   "source": [
    "thisdict = {\n",
    "  \"brand\": \"Ford\",\n",
    "  \"model\": \"Mustang\",\n",
    "  \"year\": 1964\n",
    "}\n",
    "thisdict.update({\"year\": 2020})"
   ]
  },
  {
   "cell_type": "code",
   "execution_count": null,
   "id": "883f1908-c585-4458-8103-1f8c58d19b24",
   "metadata": {},
   "outputs": [],
   "source": [
    "Exercise"
   ]
  },
  {
   "cell_type": "code",
   "execution_count": null,
   "id": "bbc57e43-3d9d-42a5-82e3-30523d6ed1db",
   "metadata": {},
   "outputs": [],
   "source": [
    "#Consider the following code:\n",
    "x = {'type' : 'fruit', 'name' : 'banana'}\n",
    "#What is a correct syntax for changing the type from fruit to berry?\n",
    "x['type'] = 'berry'\n"
   ]
  },
  {
   "cell_type": "code",
   "execution_count": null,
   "id": "2422e3f2-8514-4a95-b7bd-923fa094f69a",
   "metadata": {},
   "outputs": [],
   "source": [
    "#Change the \"year\" value from 1964 to 2020.\n",
    "car =\t{\n",
    "  \"brand\": \"Ford\",\n",
    "  \"model\": \"Mustang\",\n",
    "  \"year\": 1964\n",
    "}\n",
    "car[\"year\"] = 2020\n"
   ]
  },
  {
   "cell_type": "code",
   "execution_count": null,
   "id": "bf5eab1f-9ac7-4e64-ba75-bf95d5f85b3a",
   "metadata": {},
   "outputs": [],
   "source": [
    "#Consider the following code:\n",
    "x = {'type' : 'fruit', 'name' : 'banana'}\n",
    "#What is a correct syntax for changing the name from banana to apple?\n",
    "x.update({'name': 'apple'})"
   ]
  },
  {
   "cell_type": "code",
   "execution_count": null,
   "id": "1c89cb65-3d9d-4c9b-ae1c-a3b25ec42c80",
   "metadata": {},
   "outputs": [],
   "source": []
  },
  {
   "cell_type": "code",
   "execution_count": null,
   "id": "33d40df0-ea71-4ad6-b202-99cae5cbb512",
   "metadata": {},
   "outputs": [],
   "source": [
    "Add Dictionary"
   ]
  },
  {
   "cell_type": "code",
   "execution_count": null,
   "id": "903a1ccd-7edd-4645-8d0f-0b7c42d5ff94",
   "metadata": {},
   "outputs": [],
   "source": []
  },
  {
   "cell_type": "code",
   "execution_count": null,
   "id": "ad1d24a0-cfeb-4572-8242-98fe5b5a63c6",
   "metadata": {},
   "outputs": [],
   "source": [
    "Example"
   ]
  },
  {
   "cell_type": "code",
   "execution_count": null,
   "id": "e50ec9a1-b699-4ee9-b67f-4b29cd22d330",
   "metadata": {},
   "outputs": [],
   "source": [
    "thisdict = {\n",
    "  \"brand\": \"Ford\",\n",
    "  \"model\": \"Mustang\",\n",
    "  \"year\": 1964\n",
    "}\n",
    "thisdict[\"color\"] = \"red\"\n",
    "print(thisdict)"
   ]
  },
  {
   "cell_type": "code",
   "execution_count": null,
   "id": "1060da26-ef1d-4a52-bae9-e05faf218895",
   "metadata": {},
   "outputs": [],
   "source": [
    "thisdict = {\n",
    "  \"brand\": \"Ford\",\n",
    "  \"model\": \"Mustang\",\n",
    "  \"year\": 1964\n",
    "}\n",
    "thisdict.update({\"color\": \"red\"})"
   ]
  },
  {
   "cell_type": "code",
   "execution_count": null,
   "id": "6f071591-8bc4-4d6d-93a9-74e05ac9908a",
   "metadata": {},
   "outputs": [],
   "source": [
    "Exercise"
   ]
  },
  {
   "cell_type": "code",
   "execution_count": null,
   "id": "5b68d11c-e754-458a-84a1-af4bc6fbef65",
   "metadata": {},
   "outputs": [],
   "source": [
    "#Which one of these dictionary methods can be used to add items to a dictionary?\n",
    "update()"
   ]
  },
  {
   "cell_type": "code",
   "execution_count": null,
   "id": "765850ab-b9b3-47e4-8fc1-f2ee140a16e8",
   "metadata": {},
   "outputs": [],
   "source": [
    "#Add the key/value pair \"color\" : \"red\" to the car dictionary.\n",
    "car =\t{\n",
    "  \"brand\": \"Ford\",\n",
    "  \"model\": \"Mustang\",\n",
    "  \"year\": 1964\n",
    "}\n",
    "car[\"color\"]=\"red\"\n"
   ]
  },
  {
   "cell_type": "code",
   "execution_count": null,
   "id": "bf1abf22-b1fb-4107-ba46-725657682356",
   "metadata": {},
   "outputs": [],
   "source": [
    "#Insert the missing part to add an item to the dictionary.\n",
    "x = {'type' : 'fruit', 'name' : 'apple'}\n",
    "x.update({'color' : 'green'})"
   ]
  },
  {
   "cell_type": "code",
   "execution_count": null,
   "id": "3c0b8b27-5bc1-4a6a-9e15-1bf63c3dcdab",
   "metadata": {},
   "outputs": [],
   "source": []
  },
  {
   "cell_type": "code",
   "execution_count": null,
   "id": "3a66f815-f5b2-4187-a02a-a0834a856051",
   "metadata": {},
   "outputs": [],
   "source": [
    "Remove Dictionary"
   ]
  },
  {
   "cell_type": "code",
   "execution_count": null,
   "id": "ab842391-6645-46a7-ab22-384ecf721c79",
   "metadata": {},
   "outputs": [],
   "source": []
  },
  {
   "cell_type": "code",
   "execution_count": null,
   "id": "1aa7362b-e5ce-4ed2-9471-0040d97268eb",
   "metadata": {},
   "outputs": [],
   "source": [
    "Example"
   ]
  },
  {
   "cell_type": "code",
   "execution_count": null,
   "id": "c7cfbb8f-e4e4-42c3-a689-9a5f2f2cbf69",
   "metadata": {},
   "outputs": [],
   "source": [
    "thisdict = {\n",
    "  \"brand\": \"Ford\",\n",
    "  \"model\": \"Mustang\",\n",
    "  \"year\": 1964\n",
    "}\n",
    "thisdict.pop(\"model\")\n",
    "print(thisdict)"
   ]
  },
  {
   "cell_type": "code",
   "execution_count": null,
   "id": "e5633262-3aaf-4108-a340-44639756e96c",
   "metadata": {},
   "outputs": [],
   "source": [
    "thisdict = {\n",
    "  \"brand\": \"Ford\",\n",
    "  \"model\": \"Mustang\",\n",
    "  \"year\": 1964\n",
    "}\n",
    "thisdict.popitem()\n",
    "print(thisdict)"
   ]
  },
  {
   "cell_type": "code",
   "execution_count": null,
   "id": "f5a843e1-776c-45ba-a56e-38bd397e9daa",
   "metadata": {},
   "outputs": [],
   "source": [
    "thisdict = {\n",
    "  \"brand\": \"Ford\",\n",
    "  \"model\": \"Mustang\",\n",
    "  \"year\": 1964\n",
    "}\n",
    "del thisdict[\"model\"]\n",
    "print(thisdict)"
   ]
  },
  {
   "cell_type": "code",
   "execution_count": null,
   "id": "5022bd1f-3a80-4fee-9b14-84fb2fbca761",
   "metadata": {},
   "outputs": [],
   "source": [
    "Bad Example"
   ]
  },
  {
   "cell_type": "code",
   "execution_count": null,
   "id": "291767ff-0290-4246-ac6e-ca865f90f893",
   "metadata": {},
   "outputs": [],
   "source": [
    "thisdict = {\n",
    "  \"brand\": \"Ford\",\n",
    "  \"model\": \"Mustang\",\n",
    "  \"year\": 1964\n",
    "}\n",
    "del thisdict\n",
    "print(thisdict) #this will cause an error because \"thisdict\" no longer exists."
   ]
  },
  {
   "cell_type": "code",
   "execution_count": null,
   "id": "bcf6abe8-ac59-4a72-92d7-194dd54f7ccf",
   "metadata": {},
   "outputs": [],
   "source": [
    "Example"
   ]
  },
  {
   "cell_type": "code",
   "execution_count": null,
   "id": "f206cdf9-ef38-42a9-a771-812584af2c0c",
   "metadata": {},
   "outputs": [],
   "source": [
    "thisdict = {\n",
    "  \"brand\": \"Ford\",\n",
    "  \"model\": \"Mustang\",\n",
    "  \"year\": 1964\n",
    "}\n",
    "thisdict.clear()\n",
    "print(thisdict)"
   ]
  },
  {
   "cell_type": "code",
   "execution_count": null,
   "id": "322b703c-b5a9-4aac-a3d2-c83be861648c",
   "metadata": {},
   "outputs": [],
   "source": [
    "Exercise"
   ]
  },
  {
   "cell_type": "code",
   "execution_count": null,
   "id": "00b6e568-1294-42ff-b4e0-39464f58d220",
   "metadata": {},
   "outputs": [],
   "source": [
    "#What is a dictionary method for removing an item from a dictionary?\n",
    "pop()"
   ]
  },
  {
   "cell_type": "code",
   "execution_count": null,
   "id": "410e16d5-99a3-4b17-9f57-b73b8c4c285c",
   "metadata": {},
   "outputs": [],
   "source": [
    "#Use the pop method to remove \"model\" from the car dictionary.\n",
    "car =\t{\n",
    "  \"brand\": \"Ford\",\n",
    "  \"model\": \"Mustang\",\n",
    "  \"year\": 1964\n",
    "}\n",
    "car.pop(\"model\")\n"
   ]
  },
  {
   "cell_type": "code",
   "execution_count": null,
   "id": "04caf20d-a559-4407-9fb1-7002f1aed091",
   "metadata": {},
   "outputs": [],
   "source": [
    "Use the clear method to empty the car dictionary.\n",
    "car =\t{\n",
    "  \"brand\": \"Ford\",\n",
    "  \"model\": \"Mustang\",\n",
    "  \"year\": 1964\n",
    "}\n",
    "car.clear()\n"
   ]
  },
  {
   "cell_type": "code",
   "execution_count": null,
   "id": "1e5cafe2-b5b7-4193-afa9-8880078c6ea6",
   "metadata": {},
   "outputs": [],
   "source": [
    "Insert a correct syntax for removing the 'color' item of the dictionary:\n",
    "\n",
    "myvar = {'type' : 'fruit', 'name' : 'apple', 'color' : 'red'}\n",
    "del myvar[\"color\"]"
   ]
  },
  {
   "cell_type": "code",
   "execution_count": null,
   "id": "394da950-65cf-423d-81f1-9e0823292091",
   "metadata": {},
   "outputs": [],
   "source": []
  },
  {
   "cell_type": "code",
   "execution_count": null,
   "id": "7699a38a-8263-4f6e-9aa2-ccd045eb8e09",
   "metadata": {},
   "outputs": [],
   "source": [
    "Loop Dictionaries"
   ]
  },
  {
   "cell_type": "code",
   "execution_count": null,
   "id": "f41ad6bd-7546-451a-95e8-c84bd18710fa",
   "metadata": {},
   "outputs": [],
   "source": []
  },
  {
   "cell_type": "code",
   "execution_count": null,
   "id": "b3ab6976-0a50-4059-9290-63f7ca7c87db",
   "metadata": {},
   "outputs": [],
   "source": [
    "Example"
   ]
  },
  {
   "cell_type": "code",
   "execution_count": null,
   "id": "cbe9b4fd-49c7-4d7b-9b82-32b4d1402c1b",
   "metadata": {},
   "outputs": [],
   "source": [
    "for x in thisdict:\n",
    "  print(x)"
   ]
  },
  {
   "cell_type": "code",
   "execution_count": null,
   "id": "7f0bdfee-08d9-444a-a8ff-dc2660a772e8",
   "metadata": {},
   "outputs": [],
   "source": [
    "for x in thisdict:\n",
    "  print(thisdict[x])"
   ]
  },
  {
   "cell_type": "code",
   "execution_count": null,
   "id": "94d664f1-7d52-4b56-b855-1d1a8e0b26d3",
   "metadata": {},
   "outputs": [],
   "source": [
    "for x in thisdict.values():\n",
    "  print(x)\n"
   ]
  },
  {
   "cell_type": "code",
   "execution_count": null,
   "id": "cd3e897c-c902-4b67-b6cc-73ae99469748",
   "metadata": {},
   "outputs": [],
   "source": [
    "for x in thisdict.keys():\n",
    "  print(x)"
   ]
  },
  {
   "cell_type": "code",
   "execution_count": null,
   "id": "a903a16a-1073-41f4-86b7-5c15a6f02059",
   "metadata": {},
   "outputs": [],
   "source": [
    "for x, y in thisdict.items():\n",
    "  print(x, y)"
   ]
  },
  {
   "cell_type": "code",
   "execution_count": null,
   "id": "a0179ad4-bfee-41ba-b2bf-05a27ebdd99f",
   "metadata": {},
   "outputs": [],
   "source": [
    "Exercise"
   ]
  },
  {
   "cell_type": "code",
   "execution_count": null,
   "id": "4a024ba5-a184-4873-8395-f16644eb8ec1",
   "metadata": {},
   "outputs": [],
   "source": [
    "#What is a correct syntax for looping through the values of this dictionary:\n",
    "x = {'type' : 'fruit', 'name' : 'apple'}\n",
    "\n",
    "for y in x.values():\n",
    "  print(y)"
   ]
  },
  {
   "cell_type": "code",
   "execution_count": null,
   "id": "02b4eedf-258f-4952-a88d-88a326e42d9a",
   "metadata": {},
   "outputs": [],
   "source": [
    "#What is a correct syntax for looping through the keys AND values of this dictionary:\n",
    "x = {'type' : 'fruit', 'name' : 'apple'}\n",
    "\n",
    "for y, z in x.items():\n",
    "  print(y, z)"
   ]
  },
  {
   "cell_type": "code",
   "execution_count": null,
   "id": "879e17a2-aab2-41d0-9133-cf3f39709a5c",
   "metadata": {},
   "outputs": [],
   "source": [
    "#Insert the missing part of the for loop below to loop through the items of a set.\n",
    "\n",
    "myset = {'apple', 'banana', 'cherry'}\n",
    "for x in myset:\n",
    "  print(x)"
   ]
  },
  {
   "cell_type": "code",
   "execution_count": null,
   "id": "450f14f2-1a67-42d0-befe-5937fe2c6095",
   "metadata": {},
   "outputs": [],
   "source": [
    "#What is a correct syntax for looping through the keys of this dictionary:\n",
    "x = {'type' : 'fruit', 'name' : 'apple'}\n",
    "\n",
    "for y in x.keys():\n",
    "  print(y)\n"
   ]
  },
  {
   "cell_type": "code",
   "execution_count": null,
   "id": "ba2b6d69-eabe-45e1-b6c7-c9affa78dd0e",
   "metadata": {},
   "outputs": [],
   "source": []
  },
  {
   "cell_type": "code",
   "execution_count": null,
   "id": "1ea2d9c1-2843-4aba-a10d-6f6627cf0e73",
   "metadata": {},
   "outputs": [],
   "source": [
    "Copy Dictionaries"
   ]
  },
  {
   "cell_type": "code",
   "execution_count": null,
   "id": "de6d6845-5dcf-4336-8e97-b8771dd03bf1",
   "metadata": {},
   "outputs": [],
   "source": []
  },
  {
   "cell_type": "code",
   "execution_count": null,
   "id": "6289894c-249e-4ef8-97fb-1bd1bc1c2523",
   "metadata": {},
   "outputs": [],
   "source": [
    "Example"
   ]
  },
  {
   "cell_type": "code",
   "execution_count": null,
   "id": "d4ad92a0-b64b-4c67-807c-14de996b7691",
   "metadata": {},
   "outputs": [],
   "source": [
    "thisdict = {\n",
    "  \"brand\": \"Ford\",\n",
    "  \"model\": \"Mustang\",\n",
    "  \"year\": 1964\n",
    "}\n",
    "mydict = thisdict.copy()\n",
    "print(mydict)"
   ]
  },
  {
   "cell_type": "code",
   "execution_count": null,
   "id": "aa8027a0-7817-4a6f-bddc-6e70ccde5c08",
   "metadata": {},
   "outputs": [],
   "source": [
    "thisdict = {\n",
    "  \"brand\": \"Ford\",\n",
    "  \"model\": \"Mustang\",\n",
    "  \"year\": 1964\n",
    "}\n",
    "mydict = dict(thisdict)\n",
    "print(mydict)"
   ]
  },
  {
   "cell_type": "code",
   "execution_count": null,
   "id": "01390c63-219b-40ef-8616-230d98757861",
   "metadata": {},
   "outputs": [],
   "source": [
    "Exercise"
   ]
  },
  {
   "cell_type": "code",
   "execution_count": null,
   "id": "6a5d0164-a86c-4dcb-a22a-de3e01bb039a",
   "metadata": {},
   "outputs": [],
   "source": [
    "#What is a correct syntax for making a copy of this dictionary:\n",
    "x = {'type' : 'fruit', 'name' : 'apple'}\n",
    "\n",
    "y = x.copy()"
   ]
  },
  {
   "cell_type": "code",
   "execution_count": null,
   "id": "a699333c-7546-43ce-996d-3ec6cb0a61e1",
   "metadata": {},
   "outputs": [],
   "source": [
    "#One of these codes is NOT a correct way of making a copy of a dictionary named x, which one:\n",
    "\n",
    "y = x.duplicate()"
   ]
  },
  {
   "cell_type": "code",
   "execution_count": null,
   "id": "e806eff6-0ddb-4214-9e03-47be8fe740e4",
   "metadata": {},
   "outputs": [],
   "source": [
    "True or False. Copied dictionaries will not be able to change its item values.\n",
    "False"
   ]
  },
  {
   "cell_type": "code",
   "execution_count": null,
   "id": "f9c65029-4050-45d8-b33b-4181dcad6022",
   "metadata": {},
   "outputs": [],
   "source": []
  },
  {
   "cell_type": "code",
   "execution_count": null,
   "id": "3ff5a29b-f3d2-44aa-a531-5cbe1766744f",
   "metadata": {},
   "outputs": [],
   "source": [
    "Nested Dictionaries"
   ]
  },
  {
   "cell_type": "code",
   "execution_count": null,
   "id": "ae98c550-dda8-426c-877c-8146334e9b23",
   "metadata": {},
   "outputs": [],
   "source": []
  },
  {
   "cell_type": "code",
   "execution_count": null,
   "id": "82a8026e-0b22-4174-b42e-96b433fb1bb1",
   "metadata": {},
   "outputs": [],
   "source": [
    "Example"
   ]
  },
  {
   "cell_type": "code",
   "execution_count": null,
   "id": "a9fba8a9-0725-4534-b407-3909197505d8",
   "metadata": {},
   "outputs": [],
   "source": []
  },
  {
   "cell_type": "code",
   "execution_count": null,
   "id": "df457f66-72e1-4bad-a124-ac5ef265fd72",
   "metadata": {},
   "outputs": [],
   "source": [
    "myfamily = {\n",
    "  \"child1\" : {\n",
    "    \"name\" : \"Emil\",\n",
    "    \"year\" : 2004\n",
    "  },\n",
    "  \"child2\" : {\n",
    "    \"name\" : \"Tobias\",\n",
    "    \"year\" : 2007\n",
    "  },\n",
    "  \"child3\" : {\n",
    "    \"name\" : \"Linus\",\n",
    "    \"year\" : 2011\n",
    "  }\n",
    "}"
   ]
  },
  {
   "cell_type": "code",
   "execution_count": null,
   "id": "0e57ed65-4f5c-4e1f-ae34-ca906f885f1c",
   "metadata": {},
   "outputs": [],
   "source": [
    "child1 = {\n",
    "  \"name\" : \"Emil\",\n",
    "  \"year\" : 2004\n",
    "}\n",
    "child2 = {\n",
    "  \"name\" : \"Tobias\",\n",
    "  \"year\" : 2007\n",
    "}\n",
    "child3 = {\n",
    "  \"name\" : \"Linus\",\n",
    "  \"year\" : 2011\n",
    "}\n",
    "\n",
    "myfamily = {\n",
    "  \"child1\" : child1,\n",
    "  \"child2\" : child2,\n",
    "  \"child3\" : child3\n",
    "}"
   ]
  },
  {
   "cell_type": "code",
   "execution_count": null,
   "id": "bfb48a3f-060a-4c4f-96f6-79202204e153",
   "metadata": {},
   "outputs": [],
   "source": [
    "print(myfamily[\"child2\"][\"name\"])"
   ]
  },
  {
   "cell_type": "code",
   "execution_count": null,
   "id": "38f86f7b-781a-46a1-bb5a-4372c3f12da0",
   "metadata": {},
   "outputs": [],
   "source": [
    "for x, obj in myfamily.items():\n",
    "  print(x)\n",
    "\n",
    "  for y in obj:\n",
    "    print(y + ':', obj[y])"
   ]
  },
  {
   "cell_type": "code",
   "execution_count": null,
   "id": "5d7a6918-dc1c-45c1-b577-f4cdfc215082",
   "metadata": {},
   "outputs": [],
   "source": [
    "Exercise"
   ]
  },
  {
   "cell_type": "code",
   "execution_count": null,
   "id": "c9953659-ea86-4d0c-a2ee-cc373c2e103a",
   "metadata": {},
   "outputs": [],
   "source": [
    "#Consider this syntax:\n",
    "a = {'name' : 'John', 'age' : '20'}\n",
    "b = {'name' : 'May', 'age' : '23'}\n",
    "customers = {'c1' : a, 'c2' : b}\n",
    "#what will be a correct syntax for printing the name 'May'?\n",
    "print(customers['c2']['name'])"
   ]
  },
  {
   "cell_type": "code",
   "execution_count": null,
   "id": "29dc6c25-e85d-4ac9-82eb-68867c80fe05",
   "metadata": {},
   "outputs": [],
   "source": [
    "#Insert the missing part to loop through the keys and values of all nested dictionaries:\n",
    "\n",
    "a = {'name' : 'John', 'age' : 20}\n",
    "b = {'name' : 'May', 'age' : 23}\n",
    "customers = {'c1' : a, 'c2' : b}\n",
    "for x, obj in customers.items():\n",
    "  print(x)\n",
    "    \n",
    "  for y in obj:\n",
    "    print(y + ':', obj[y])"
   ]
  },
  {
   "cell_type": "code",
   "execution_count": null,
   "id": "c61aa183-5b90-4524-868a-13d329316b3b",
   "metadata": {},
   "outputs": [],
   "source": [
    "True or False. A dictionary can only have one level of nested dictionaries.\n",
    "False"
   ]
  },
  {
   "cell_type": "code",
   "execution_count": null,
   "id": "6562e743-2a51-47ac-995c-138a667a89c6",
   "metadata": {},
   "outputs": [],
   "source": []
  },
  {
   "cell_type": "code",
   "execution_count": null,
   "id": "703f01c3-760c-454f-9df5-50e9135a1db5",
   "metadata": {},
   "outputs": [],
   "source": [
    "Dictionary Methods"
   ]
  },
  {
   "cell_type": "code",
   "execution_count": null,
   "id": "7562c338-f1e6-4217-8bcc-04151e59f81c",
   "metadata": {},
   "outputs": [],
   "source": []
  },
  {
   "cell_type": "markdown",
   "id": "e25969f2-ae82-4bdc-9f68-3395336ded31",
   "metadata": {},
   "source": [
    "Method\tDescription\n",
    "clear()\tRemoves all the elements from the dictionary\n",
    "copy()\tReturns a copy of the dictionary\n",
    "fromkeys()\tReturns a dictionary with the specified keys and value\n",
    "get()\tReturns the value of the specified key\n",
    "items()\tReturns a list containing a tuple for each key value pair\n",
    "keys()\tReturns a list containing the dictionary's keys\n",
    "pop()\tRemoves the element with the specified key\n",
    "popitem()\tRemoves the last inserted key-value pair\n",
    "setdefault()\tReturns the value of the specified key. If the key does not exist: insert the key, with the specified value\n",
    "update()\tUpdates the dictionary with the specified key-value pairs\n",
    "values()\tReturns a list of all the values in the dictionary"
   ]
  },
  {
   "cell_type": "code",
   "execution_count": null,
   "id": "eaa687a1-4ccd-4612-8c6d-50e4b1cc06da",
   "metadata": {},
   "outputs": [],
   "source": []
  },
  {
   "cell_type": "code",
   "execution_count": null,
   "id": "2ff194e3-c3f1-4a56-b16d-b29934281bb0",
   "metadata": {},
   "outputs": [],
   "source": [
    "Python If ... Else"
   ]
  },
  {
   "cell_type": "code",
   "execution_count": null,
   "id": "c761d515-2852-44c3-9c90-52a9a0802537",
   "metadata": {},
   "outputs": [],
   "source": []
  },
  {
   "cell_type": "code",
   "execution_count": null,
   "id": "59b7067a-99ca-471b-b7b0-af12381b0592",
   "metadata": {},
   "outputs": [],
   "source": [
    "Example"
   ]
  },
  {
   "cell_type": "code",
   "execution_count": null,
   "id": "9e8aade5-d7bf-4c6e-980d-541dd0c29b5b",
   "metadata": {},
   "outputs": [],
   "source": [
    "a = 33\n",
    "b = 200\n",
    "if b > a:\n",
    "  print(\"b is greater than a\")"
   ]
  },
  {
   "cell_type": "code",
   "execution_count": null,
   "id": "8ea40016-a4ae-441e-94a8-8c551c9d561a",
   "metadata": {},
   "outputs": [],
   "source": [
    "Bad Example"
   ]
  },
  {
   "cell_type": "code",
   "execution_count": null,
   "id": "3aac2660-65e5-4b07-a333-f537e8060b24",
   "metadata": {},
   "outputs": [],
   "source": [
    "a = 33\n",
    "b = 200\n",
    "if b > a:\n",
    "print(\"b is greater than a\") # you will get an error"
   ]
  },
  {
   "cell_type": "code",
   "execution_count": null,
   "id": "9224cef2-61aa-493d-860a-154e73b1e699",
   "metadata": {},
   "outputs": [],
   "source": [
    "Example"
   ]
  },
  {
   "cell_type": "code",
   "execution_count": null,
   "id": "3eaea8e2-1e68-4ed3-b4f4-05b25b8c440f",
   "metadata": {},
   "outputs": [],
   "source": [
    "a = 33\n",
    "b = 33\n",
    "if b > a:\n",
    "  print(\"b is greater than a\")\n",
    "elif a == b:\n",
    "  print(\"a and b are equal\")"
   ]
  },
  {
   "cell_type": "code",
   "execution_count": null,
   "id": "7e4d9021-84c8-4e36-839a-41c2b6f851b8",
   "metadata": {},
   "outputs": [],
   "source": [
    "a = 200\n",
    "b = 33\n",
    "if b > a:\n",
    "  print(\"b is greater than a\")\n",
    "elif a == b:\n",
    "  print(\"a and b are equal\")\n",
    "else:\n",
    "  print(\"a is greater than b\")"
   ]
  },
  {
   "cell_type": "code",
   "execution_count": null,
   "id": "00c056f4-ed72-4608-9609-1c66cb651cb4",
   "metadata": {},
   "outputs": [],
   "source": [
    "a = 200\n",
    "b = 33\n",
    "if b > a:\n",
    "  print(\"b is greater than a\")\n",
    "else:\n",
    "  print(\"b is not greater than a\")"
   ]
  },
  {
   "cell_type": "code",
   "execution_count": null,
   "id": "3e77bcc7-b1ee-4c52-b343-2dc3fb1c1a8d",
   "metadata": {},
   "outputs": [],
   "source": [
    "if a > b: print(\"a is greater than b\")"
   ]
  },
  {
   "cell_type": "code",
   "execution_count": null,
   "id": "0d013dd9-68b1-4700-af57-b6964d2ecfef",
   "metadata": {},
   "outputs": [],
   "source": [
    "a = 2\n",
    "b = 330\n",
    "print(\"A\") if a > b else print(\"B\")"
   ]
  },
  {
   "cell_type": "code",
   "execution_count": null,
   "id": "3244989c-556e-4c45-abb4-cf2a85b945ac",
   "metadata": {},
   "outputs": [],
   "source": [
    "a = 330\n",
    "b = 330\n",
    "print(\"A\") if a > b else print(\"=\") if a == b else print(\"B\")"
   ]
  },
  {
   "cell_type": "code",
   "execution_count": null,
   "id": "2c1d489d-fd2d-48fc-9541-dad488e121b2",
   "metadata": {},
   "outputs": [],
   "source": [
    "a = 200\n",
    "b = 33\n",
    "c = 500\n",
    "if a > b and c > a:\n",
    "  print(\"Both conditions are True\")"
   ]
  },
  {
   "cell_type": "code",
   "execution_count": null,
   "id": "5d8b2d4f-1165-48ac-b2bd-7b21c1a71c4b",
   "metadata": {},
   "outputs": [],
   "source": [
    "a = 200\n",
    "b = 33\n",
    "c = 500\n",
    "if a > b or a > c:\n",
    "  print(\"At least one of the conditions is True\")"
   ]
  },
  {
   "cell_type": "code",
   "execution_count": null,
   "id": "a6c70b4b-bce3-4737-ab4b-666154f40948",
   "metadata": {},
   "outputs": [],
   "source": [
    "a = 33\n",
    "b = 200\n",
    "if not a > b:\n",
    "  print(\"a is NOT greater than b\")"
   ]
  },
  {
   "cell_type": "code",
   "execution_count": null,
   "id": "8408874c-05d7-47eb-ae1a-ade42915279c",
   "metadata": {},
   "outputs": [],
   "source": [
    "x = 41\n",
    "\n",
    "if x > 10:\n",
    "  print(\"Above ten,\")\n",
    "  if x > 20:\n",
    "    print(\"and also above 20!\")\n",
    "  else:\n",
    "    print(\"but not above 20.\")"
   ]
  },
  {
   "cell_type": "code",
   "execution_count": null,
   "id": "d1128de4-5527-47f9-b147-3ee5505433eb",
   "metadata": {},
   "outputs": [],
   "source": [
    "a = 33\n",
    "b = 200\n",
    "\n",
    "if b > a:\n",
    "  pass"
   ]
  },
  {
   "cell_type": "code",
   "execution_count": null,
   "id": "3bb33ce1-37ad-42d3-a1b3-323e9bc74957",
   "metadata": {},
   "outputs": [],
   "source": [
    "Exercise"
   ]
  },
  {
   "cell_type": "code",
   "execution_count": null,
   "id": "beac55a4-1dfc-4a5f-90a8-161f2d17e71a",
   "metadata": {},
   "outputs": [],
   "source": [
    "#What will be the result of the following code:\n",
    "x = 5\n",
    "y = 8\n",
    "if x > y:\n",
    "  print('Hello')\n",
    "else:\n",
    "  print('Welcome')\n",
    "#Welcome"
   ]
  },
  {
   "cell_type": "code",
   "execution_count": null,
   "id": "6ba273db-5e8b-4b17-9c54-0a10703cd23a",
   "metadata": {},
   "outputs": [],
   "source": [
    "#Print \"Hello World\" if a is greater than b.\n",
    "a = 50\n",
    "b = 10\n",
    "if a > b:\n",
    "  print(\"Hello World\")"
   ]
  },
  {
   "cell_type": "code",
   "execution_count": null,
   "id": "56c9299d-a6df-44c2-b024-d9c95b58d8a4",
   "metadata": {},
   "outputs": [],
   "source": [
    "#Print \"Hello World\" if a is not equal to b.\n",
    "a = 50\n",
    "b = 10\n",
    "if a != b:\n",
    "  print(\"Hello World\")"
   ]
  },
  {
   "cell_type": "code",
   "execution_count": null,
   "id": "d74c3580-e992-4823-9da7-c8867caee991",
   "metadata": {},
   "outputs": [],
   "source": [
    "#Print \"Yes\" if a is equal to b, otherwise print \"No\".\n",
    "a = 50\n",
    "b = 10\n",
    "if a == b:\n",
    "  print(\"Yes\")\n",
    "else:\n",
    "  print(\"No\")"
   ]
  },
  {
   "cell_type": "code",
   "execution_count": null,
   "id": "d1f091c8-3caf-4b4b-af0a-90483208f0e3",
   "metadata": {},
   "outputs": [],
   "source": [
    "#Print \"1\" if a is equal to b, print \"2\" if a is greater than b, otherwise print \"3\".\n",
    "a = 50\n",
    "b = 10\n",
    "if a == b:\n",
    "  print(\"1\")\n",
    "elif a > b:\n",
    "  print(\"2\")\n",
    "else:\n",
    "  print(\"3\")"
   ]
  },
  {
   "cell_type": "code",
   "execution_count": null,
   "id": "04ef0bb8-730c-461d-89f6-7c3e983222c5",
   "metadata": {},
   "outputs": [],
   "source": [
    "#Print \"Hello\" if a is equal to b, and c is equal to d.\n",
    "if a == b and c == d:\n",
    "  print(\"Hello\")"
   ]
  },
  {
   "cell_type": "code",
   "execution_count": null,
   "id": "2289b8b4-e05e-4127-a162-9c5c88c6bd90",
   "metadata": {},
   "outputs": [],
   "source": [
    "#Print \"Hello\" if a is equal to b, or if c is equal to d.\n",
    "if a == b or c == d:\n",
    "  print(\"Hello\")"
   ]
  },
  {
   "cell_type": "code",
   "execution_count": null,
   "id": "52dbb117-a066-46bc-99ff-468464f982cf",
   "metadata": {},
   "outputs": [],
   "source": [
    "#Use the correct one line short hand syntax to print \"YES\" if a is equal to b, otherwise print(\"NO\").\n",
    "a = 2\n",
    "b = 5\n",
    "print(\"YES\") if a == b else print(\"NO\")"
   ]
  },
  {
   "cell_type": "code",
   "execution_count": null,
   "id": "0be336e5-7fa7-4290-90b4-e96cd382208d",
   "metadata": {},
   "outputs": [],
   "source": []
  },
  {
   "cell_type": "code",
   "execution_count": null,
   "id": "2128c6ce-03d6-404f-bdf2-eb3a61e2552d",
   "metadata": {},
   "outputs": [],
   "source": [
    "While Loops"
   ]
  },
  {
   "cell_type": "code",
   "execution_count": null,
   "id": "c0c9e83c-096a-4d7d-890a-a06db0abbb9b",
   "metadata": {},
   "outputs": [],
   "source": []
  },
  {
   "cell_type": "code",
   "execution_count": null,
   "id": "f6fa9827-c184-47a9-9d74-2352f64540b7",
   "metadata": {},
   "outputs": [],
   "source": [
    "Example"
   ]
  },
  {
   "cell_type": "code",
   "execution_count": null,
   "id": "e18c2e0d-25de-4079-9af7-3ca1f725ae5b",
   "metadata": {},
   "outputs": [],
   "source": [
    "i = 1\n",
    "while i < 6:\n",
    "  print(i)\n",
    "  i += 1"
   ]
  },
  {
   "cell_type": "code",
   "execution_count": null,
   "id": "d6bcd446-477d-4333-835b-73aab485e1c0",
   "metadata": {},
   "outputs": [],
   "source": [
    "i = 1\n",
    "while i < 6:\n",
    "  print(i)\n",
    "  if i == 3:\n",
    "    break\n",
    "  i += 1"
   ]
  },
  {
   "cell_type": "code",
   "execution_count": null,
   "id": "1b03d198-57a1-4e36-a169-bf57ce5ac6ca",
   "metadata": {},
   "outputs": [],
   "source": [
    "i = 0\n",
    "while i < 6:\n",
    "  i += 1\n",
    "  if i == 3:\n",
    "    continue\n",
    "  print(i)"
   ]
  },
  {
   "cell_type": "code",
   "execution_count": null,
   "id": "55cbb5f4-010c-4c3b-8bec-eeee438cbf47",
   "metadata": {},
   "outputs": [],
   "source": [
    "i = 1\n",
    "while i < 6:\n",
    "  print(i)\n",
    "  i += 1\n",
    "else:\n",
    "  print(\"i is no longer less than 6\")"
   ]
  },
  {
   "cell_type": "code",
   "execution_count": null,
   "id": "a441e19a-6b86-4a6d-8111-5bfec2068f9d",
   "metadata": {},
   "outputs": [],
   "source": [
    "Exercise"
   ]
  },
  {
   "cell_type": "code",
   "execution_count": null,
   "id": "1f10f2f6-237d-445d-9e5e-951890e5003a",
   "metadata": {},
   "outputs": [],
   "source": [
    "#Which statement is a correct syntax to break out of a loop?\n",
    "break"
   ]
  },
  {
   "cell_type": "code",
   "execution_count": null,
   "id": "87e98cb8-6a7e-49ed-9c15-5bc3d021782a",
   "metadata": {},
   "outputs": [],
   "source": [
    "i = 1\n",
    "while i < 6:\n",
    "  print(i)\n",
    "  i += 1"
   ]
  },
  {
   "cell_type": "code",
   "execution_count": null,
   "id": "863f9a2d-9e6d-4f8b-a28c-d920cc881797",
   "metadata": {},
   "outputs": [],
   "source": [
    "#Stop the loop if i is 3.\n",
    "i = 1\n",
    "while i < 6:\n",
    "  if i == 3:    \n",
    "    break\n",
    "  i += 1"
   ]
  },
  {
   "cell_type": "code",
   "execution_count": null,
   "id": "c6b55542-c981-4485-8e6d-462959c7c22a",
   "metadata": {},
   "outputs": [],
   "source": [
    "#In the loop, when i is 3, jump directly to the next iteration.\n",
    "i = 0\n",
    "while i < 6:\n",
    "  i += 1\n",
    "  if i == 3: \n",
    "    continue\n",
    "  print(i)"
   ]
  },
  {
   "cell_type": "code",
   "execution_count": null,
   "id": "67ef861e-eb44-4ed5-8f27-24a09b45bbcc",
   "metadata": {},
   "outputs": [],
   "source": [
    "#Print a message once the condition is false.\n",
    "i = 1\n",
    "while i < 6:\n",
    "  print(i)\n",
    "  i += 1\n",
    "else:\n",
    "  print(\"i is no longer less than 6\")"
   ]
  },
  {
   "cell_type": "code",
   "execution_count": null,
   "id": "cd4ccecc-5c07-4582-bb16-a8d86170e62d",
   "metadata": {},
   "outputs": [],
   "source": []
  },
  {
   "cell_type": "code",
   "execution_count": null,
   "id": "04d209ee-fbde-4f72-b3ce-c05040f70b82",
   "metadata": {},
   "outputs": [],
   "source": [
    "For Loops"
   ]
  },
  {
   "cell_type": "code",
   "execution_count": null,
   "id": "67fde824-d154-4119-ad44-46c117e84001",
   "metadata": {},
   "outputs": [],
   "source": []
  },
  {
   "cell_type": "code",
   "execution_count": null,
   "id": "49cc6e41-5890-466e-a6b8-5371fec43193",
   "metadata": {},
   "outputs": [],
   "source": [
    "Example"
   ]
  },
  {
   "cell_type": "code",
   "execution_count": null,
   "id": "4b020484-2f62-48e4-806d-bed5a9358862",
   "metadata": {},
   "outputs": [],
   "source": [
    "fruits = [\"apple\", \"banana\", \"cherry\"]\n",
    "for x in fruits:\n",
    "  print(x)"
   ]
  },
  {
   "cell_type": "code",
   "execution_count": null,
   "id": "ddf789c4-29b8-483d-8c4c-3298cb4d8e22",
   "metadata": {},
   "outputs": [],
   "source": [
    "for x in \"banana\":\n",
    "  print(x)"
   ]
  },
  {
   "cell_type": "code",
   "execution_count": null,
   "id": "9d5c1c59-ade5-469a-81da-d5842757a623",
   "metadata": {},
   "outputs": [],
   "source": [
    "fruits = [\"apple\", \"banana\", \"cherry\"]\n",
    "for x in fruits:\n",
    "  print(x)\n",
    "  if x == \"banana\":\n",
    "    break"
   ]
  },
  {
   "cell_type": "code",
   "execution_count": null,
   "id": "e49acb2d-7965-4588-b404-5d5beb2cf7ae",
   "metadata": {},
   "outputs": [],
   "source": [
    "fruits = [\"apple\", \"banana\", \"cherry\"]\n",
    "for x in fruits:\n",
    "  if x == \"banana\":\n",
    "    break\n",
    "  print(x)\n"
   ]
  },
  {
   "cell_type": "code",
   "execution_count": null,
   "id": "2a520e40-b09b-4bac-b95b-da883673f427",
   "metadata": {},
   "outputs": [],
   "source": [
    "fruits = [\"apple\", \"banana\", \"cherry\"]\n",
    "for x in fruits:\n",
    "  if x == \"banana\":\n",
    "    continue\n",
    "  print(x)"
   ]
  },
  {
   "cell_type": "code",
   "execution_count": null,
   "id": "29864c68-d3cc-4e8c-9c49-f4809803dd39",
   "metadata": {},
   "outputs": [],
   "source": [
    "for x in range(6):\n",
    "  print(x)"
   ]
  },
  {
   "cell_type": "code",
   "execution_count": null,
   "id": "5633ffa4-f8a7-4eae-b9e4-e64c9c3283d3",
   "metadata": {},
   "outputs": [],
   "source": [
    "for x in range(2, 6):\n",
    "  print(x)"
   ]
  },
  {
   "cell_type": "code",
   "execution_count": null,
   "id": "47b546a7-38a8-482f-8db2-ac4b7776f80b",
   "metadata": {},
   "outputs": [],
   "source": [
    "for x in range(2, 30, 3):\n",
    "  print(x)"
   ]
  },
  {
   "cell_type": "code",
   "execution_count": null,
   "id": "ac73d113-207c-4e9d-a203-3be72c5fa1ed",
   "metadata": {},
   "outputs": [],
   "source": [
    "for x in range(6):\n",
    "  print(x)\n",
    "else:\n",
    "  print(\"Finally finished!\")\n",
    "#Yeah, im finally close to finish this lab"
   ]
  },
  {
   "cell_type": "code",
   "execution_count": null,
   "id": "1ca9d1d7-5c7d-45b8-8bba-31becfff7c68",
   "metadata": {},
   "outputs": [],
   "source": [
    "for x in range(6):\n",
    "  if x == 3: break\n",
    "  print(x)\n",
    "else:\n",
    "  print(\"Finally finished!\")"
   ]
  },
  {
   "cell_type": "code",
   "execution_count": null,
   "id": "11dcc093-7755-4ff7-b735-3d1580e6c9eb",
   "metadata": {},
   "outputs": [],
   "source": [
    "adj = [\"red\", \"big\", \"tasty\"]\n",
    "fruits = [\"apple\", \"banana\", \"cherry\"]\n",
    "\n",
    "for x in adj:\n",
    "  for y in fruits:\n",
    "    print(x, y)"
   ]
  },
  {
   "cell_type": "code",
   "execution_count": null,
   "id": "b9e69a4e-4aae-47b3-98c6-dc95bf3b826e",
   "metadata": {},
   "outputs": [],
   "source": [
    "for x in [0, 1, 2]:\n",
    "  pass"
   ]
  },
  {
   "cell_type": "code",
   "execution_count": null,
   "id": "2bd52942-1797-49f2-a61a-3f00e5d800fb",
   "metadata": {},
   "outputs": [],
   "source": [
    "Exercise"
   ]
  },
  {
   "cell_type": "code",
   "execution_count": null,
   "id": "e3c4db3a-b25a-44e4-a657-68356958df58",
   "metadata": {},
   "outputs": [],
   "source": [
    "#What will be the result of the following code:\n",
    "for x in range(3):\n",
    "  print(x)\n",
    "#0\n",
    "#1\n",
    "#2"
   ]
  },
  {
   "cell_type": "code",
   "execution_count": null,
   "id": "d625d4e9-b2be-4893-b9b0-affa478a319e",
   "metadata": {},
   "outputs": [],
   "source": [
    "#Loop through the items in the fruits list.\n",
    "fruits = [\"apple\", \"banana\", \"cherry\"]\n",
    "for x in fruits:\n",
    "  print(x)"
   ]
  },
  {
   "cell_type": "code",
   "execution_count": null,
   "id": "3e471c58-27f3-4fec-bdc7-40dfc08778b2",
   "metadata": {},
   "outputs": [],
   "source": [
    "#In the loop, when the item value is \"banana\", jump directly to the next item.\n",
    "fruits = [\"apple\", \"banana\", \"cherry\"]\n",
    "for x in fruits:\n",
    "  if x == \"banana\":    \n",
    "    continue\n",
    "  print(x)"
   ]
  },
  {
   "cell_type": "code",
   "execution_count": null,
   "id": "30f04ebd-acdb-4310-81f0-717359ba1c90",
   "metadata": {},
   "outputs": [],
   "source": [
    "#Use the range function to loop through a code set 6 times.\n",
    "for x in range(6):\n",
    "  print(x)"
   ]
  },
  {
   "cell_type": "code",
   "execution_count": null,
   "id": "aad0249f-6538-4337-a61f-a0835b98ea40",
   "metadata": {},
   "outputs": [],
   "source": [
    "#Exit the loop when x is \"banana\".\n",
    "fruits = [\"apple\", \"banana\", \"cherry\"]\n",
    "for x in fruits:\n",
    "  if x == \"banana\":\n",
    "    break\n",
    "  print(x)"
   ]
  },
  {
   "cell_type": "code",
   "execution_count": null,
   "id": "770f99db-a8ac-4ad7-8813-1eba7daf3c18",
   "metadata": {},
   "outputs": [],
   "source": []
  },
  {
   "cell_type": "code",
   "execution_count": null,
   "id": "0ad9a127-7c61-466c-8a78-69bcf0072dcc",
   "metadata": {},
   "outputs": [],
   "source": []
  },
  {
   "cell_type": "code",
   "execution_count": null,
   "id": "42db9ee2-8995-4e80-bcee-76afe3f75571",
   "metadata": {},
   "outputs": [],
   "source": []
  },
  {
   "cell_type": "code",
   "execution_count": null,
   "id": "f9099a1f-fd3e-4812-a4e1-9c6f45c89449",
   "metadata": {},
   "outputs": [],
   "source": []
  },
  {
   "cell_type": "code",
   "execution_count": null,
   "id": "4d3dfcfb-2b24-4565-8e5d-d8bb9c70f6e3",
   "metadata": {},
   "outputs": [],
   "source": []
  },
  {
   "cell_type": "code",
   "execution_count": null,
   "id": "d77af43a-b5a6-49a7-99b3-c41ae04cf652",
   "metadata": {},
   "outputs": [],
   "source": []
  }
 ],
 "metadata": {
  "kernelspec": {
   "display_name": "Python [conda env:base] *",
   "language": "python",
   "name": "conda-base-py"
  },
  "language_info": {
   "codemirror_mode": {
    "name": "ipython",
    "version": 3
   },
   "file_extension": ".py",
   "mimetype": "text/x-python",
   "name": "python",
   "nbconvert_exporter": "python",
   "pygments_lexer": "ipython3",
   "version": "3.12.7"
  }
 },
 "nbformat": 4,
 "nbformat_minor": 5
}
