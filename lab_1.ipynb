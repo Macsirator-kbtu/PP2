{
 "cells": [
  {
   "cell_type": "markdown",
   "id": "016149f1-84a2-4043-9077-aa654a9e32da",
   "metadata": {},
   "source": [
    "HOME"
   ]
  },
  {
   "cell_type": "markdown",
   "id": "7d258097-bb0f-4ab6-b62f-5c17e00a2dde",
   "metadata": {},
   "source": []
  },
  {
   "cell_type": "markdown",
   "id": "4409e4c0-e7e9-44a6-be6c-3078f5cc12a3",
   "metadata": {},
   "source": [
    "Example"
   ]
  },
  {
   "cell_type": "code",
   "execution_count": 26,
   "id": "f64fc93b-ec93-40f5-b3d7-6b220108a96a",
   "metadata": {},
   "outputs": [
    {
     "name": "stdout",
     "output_type": "stream",
     "text": [
      "Hello, World!\n"
     ]
    }
   ],
   "source": [
    "print(\"Hello, World!\")"
   ]
  },
  {
   "cell_type": "markdown",
   "id": "bfdb0ebf-21a4-4d9b-aca3-76ee0e78a92e",
   "metadata": {},
   "source": [
    "Exercise"
   ]
  },
  {
   "cell_type": "code",
   "execution_count": 28,
   "id": "8e0788ee-39a4-46eb-bd63-1f8cf1d88d89",
   "metadata": {},
   "outputs": [],
   "source": [
    "x=5"
   ]
  },
  {
   "cell_type": "code",
   "execution_count": 30,
   "id": "9208b0d7-bc12-41dd-bf5f-10bdee9db740",
   "metadata": {},
   "outputs": [],
   "source": [
    "x = \"John\"\n",
    "# Is the same as\n",
    "x = 'John'\n",
    "#True"
   ]
  },
  {
   "cell_type": "code",
   "execution_count": 32,
   "id": "70eee15d-d058-473c-8db7-997969b9e0d7",
   "metadata": {},
   "outputs": [],
   "source": [
    "a = 5\n",
    "# Is the same as\n",
    "A = 5\n",
    "#False"
   ]
  },
  {
   "cell_type": "code",
   "execution_count": 6,
   "id": "9a8ec620-3ae0-4e0c-aa60-6aabe1adbd52",
   "metadata": {},
   "outputs": [],
   "source": [
    "#print(type(myvar))"
   ]
  },
  {
   "cell_type": "markdown",
   "id": "e5052622-bf7d-409d-8a86-ec2561637318",
   "metadata": {},
   "source": []
  },
  {
   "cell_type": "markdown",
   "id": "68409979-d7aa-4c90-934b-56df3244c8a4",
   "metadata": {},
   "source": []
  },
  {
   "cell_type": "markdown",
   "id": "f52a900a-3d7a-4069-8f00-aad38fd05529",
   "metadata": {},
   "source": [
    "Intro"
   ]
  },
  {
   "cell_type": "markdown",
   "id": "01e52b84-0389-401c-8ee8-5f5d1f754558",
   "metadata": {},
   "source": []
  },
  {
   "cell_type": "markdown",
   "id": "2d9c44ba-d878-47d2-a004-07a828f6cb22",
   "metadata": {},
   "source": [
    "Example"
   ]
  },
  {
   "cell_type": "code",
   "execution_count": 40,
   "id": "ea18105f-c621-4be3-a2c2-35dcf65ec470",
   "metadata": {},
   "outputs": [
    {
     "name": "stdout",
     "output_type": "stream",
     "text": [
      "Hello,World!\n"
     ]
    }
   ],
   "source": [
    "print(\"Hello,World!\")"
   ]
  },
  {
   "cell_type": "markdown",
   "id": "a7d98069-3e93-48ef-a4e0-ece8c9bb4def",
   "metadata": {},
   "source": [
    "Get Started"
   ]
  },
  {
   "cell_type": "markdown",
   "id": "a736e88a-32e4-470d-9456-cbcae3091daa",
   "metadata": {},
   "source": [
    "Example"
   ]
  },
  {
   "cell_type": "code",
   "execution_count": 44,
   "id": "1090cf93-56d7-4a46-a838-caf4a7385aaa",
   "metadata": {},
   "outputs": [
    {
     "name": "stdout",
     "output_type": "stream",
     "text": [
      "Hello, World!\n"
     ]
    }
   ],
   "source": [
    "print(\"Hello, World!\")"
   ]
  },
  {
   "cell_type": "markdown",
   "id": "97c9364b-c9be-4442-9063-3a5d0635c8f6",
   "metadata": {},
   "source": [
    "Example2"
   ]
  },
  {
   "cell_type": "code",
   "execution_count": 47,
   "id": "2840884d-bcc8-4ba3-8f7e-d7cc351e75bf",
   "metadata": {},
   "outputs": [
    {
     "name": "stdout",
     "output_type": "stream",
     "text": [
      "3.12.7 | packaged by Anaconda, Inc. | (main, Oct  4 2024, 13:17:27) [MSC v.1929 64 bit (AMD64)]\n"
     ]
    }
   ],
   "source": [
    "import sys\n",
    "print(sys.version)"
   ]
  },
  {
   "cell_type": "markdown",
   "id": "dcdb59ef-5672-4657-b85f-43b59e792ced",
   "metadata": {},
   "source": [
    "Exercise"
   ]
  },
  {
   "cell_type": "code",
   "execution_count": 50,
   "id": "b415a491-acf9-4d5c-a4e8-74befa072674",
   "metadata": {},
   "outputs": [],
   "source": [
    "#.py"
   ]
  },
  {
   "cell_type": "code",
   "execution_count": 52,
   "id": "03975aa1-3de4-4c4d-b9ee-f56c286e4590",
   "metadata": {},
   "outputs": [],
   "source": [
    "#python --version"
   ]
  },
  {
   "cell_type": "code",
   "execution_count": 54,
   "id": "506a9ef8-5c6e-493e-9078-bd43978c3a97",
   "metadata": {},
   "outputs": [],
   "source": [
    "exit()"
   ]
  },
  {
   "cell_type": "markdown",
   "id": "db99b141-2da7-4161-b6bf-c80a06cac7aa",
   "metadata": {},
   "source": []
  },
  {
   "cell_type": "markdown",
   "id": "c4cece83-6d33-4774-9184-eb9223973abd",
   "metadata": {},
   "source": [
    "Syntax"
   ]
  },
  {
   "cell_type": "markdown",
   "id": "e25c589c-f151-4576-948d-872709960bf8",
   "metadata": {},
   "source": []
  },
  {
   "cell_type": "code",
   "execution_count": null,
   "id": "6ac58c31-8f7c-48b1-aef9-e804bfe879fd",
   "metadata": {},
   "outputs": [],
   "source": [
    "Example"
   ]
  },
  {
   "cell_type": "code",
   "execution_count": null,
   "id": "61b54b5f-807b-4414-93af-b8e5b93baf63",
   "metadata": {},
   "outputs": [],
   "source": [
    "if 5>2:\n",
    "    print(\"Five is greater than two\")"
   ]
  },
  {
   "cell_type": "code",
   "execution_count": null,
   "id": "34c12fca-0ab3-4cdd-9bce-eff16f867abc",
   "metadata": {},
   "outputs": [],
   "source": [
    "if 5>2:\n",
    "print(\"Five is greater than two\")"
   ]
  },
  {
   "cell_type": "code",
   "execution_count": null,
   "id": "dd1c01aa-58b5-4064-bb1a-dc885283cb67",
   "metadata": {},
   "outputs": [],
   "source": [
    "if 5 > 2:\n",
    " print(\"Five is greater than two!\") \n",
    "if 5 > 2:\n",
    "        print(\"Five is greater than two!\") "
   ]
  },
  {
   "cell_type": "code",
   "execution_count": null,
   "id": "92f206f5-1084-46b1-ae28-432c28d7446e",
   "metadata": {},
   "outputs": [],
   "source": [
    "if 5 > 2:\n",
    " print(\"Five is greater than two!\")\n",
    "        print(\"Five is greater than two!\")"
   ]
  },
  {
   "cell_type": "code",
   "execution_count": null,
   "id": "97f88d6c-81b7-4211-bba0-a52395acfd56",
   "metadata": {},
   "outputs": [],
   "source": [
    "x = 5\n",
    "y = \"Hello, World!\""
   ]
  },
  {
   "cell_type": "code",
   "execution_count": null,
   "id": "29a47886-79a8-4d98-a507-4c94a5ec4154",
   "metadata": {},
   "outputs": [],
   "source": [
    "#This is a comment.\n",
    "print(\"Hello, World!\")"
   ]
  },
  {
   "cell_type": "code",
   "execution_count": null,
   "id": "2f2166c9-9508-46f3-ba39-e2117d002c24",
   "metadata": {},
   "outputs": [],
   "source": [
    "Exercise"
   ]
  },
  {
   "cell_type": "code",
   "execution_count": null,
   "id": "3cb666cb-d9d0-4a25-981e-b7c9c9bc98c5",
   "metadata": {},
   "outputs": [],
   "source": [
    "#false"
   ]
  },
  {
   "cell_type": "code",
   "execution_count": null,
   "id": "61561541-6d2c-442c-b023-c281479f3a59",
   "metadata": {},
   "outputs": [],
   "source": [
    "print(\"Hello World\")"
   ]
  },
  {
   "cell_type": "code",
   "execution_count": null,
   "id": "208d83e1-856e-475e-9c0d-14400c7ad53c",
   "metadata": {},
   "outputs": [],
   "source": [
    "if 5>2:\n",
    "    print(\"YES\")"
   ]
  },
  {
   "cell_type": "markdown",
   "id": "b33a9c2b-3364-413b-9cda-015fed8244f3",
   "metadata": {},
   "source": []
  },
  {
   "cell_type": "markdown",
   "id": "cf0fdcee-6e4a-49c8-957c-689d7e148709",
   "metadata": {},
   "source": [
    "Comments"
   ]
  },
  {
   "cell_type": "markdown",
   "id": "7bf88bd0-90d6-4b02-9b7e-1b3c40d9eea2",
   "metadata": {},
   "source": []
  },
  {
   "cell_type": "code",
   "execution_count": null,
   "id": "ab48425c-880f-42a9-9d8c-828e817431a2",
   "metadata": {},
   "outputs": [],
   "source": [
    "Example"
   ]
  },
  {
   "cell_type": "code",
   "execution_count": null,
   "id": "d3c52ac5-8add-4a60-91a8-3db41c6342aa",
   "metadata": {},
   "outputs": [],
   "source": [
    "#This is a comment\n",
    "print(\"Hello, World!\")"
   ]
  },
  {
   "cell_type": "code",
   "execution_count": null,
   "id": "8935a2fc-3799-4bc0-bb80-3b4eb258f41b",
   "metadata": {},
   "outputs": [],
   "source": [
    "print(\"Hello, World!\") #This is a comment"
   ]
  },
  {
   "cell_type": "code",
   "execution_count": null,
   "id": "822c4dd1-39aa-426a-8049-5f59eb58ef5e",
   "metadata": {},
   "outputs": [],
   "source": [
    "#print(\"Hello, World!\")\n",
    "print(\"Cheers, Mate!\")"
   ]
  },
  {
   "cell_type": "code",
   "execution_count": null,
   "id": "16c4cb8f-4407-4824-a118-e0b9e0832ef6",
   "metadata": {},
   "outputs": [],
   "source": [
    "#This is a comment\n",
    "#written in\n",
    "#more than just one line\n",
    "print(\"Hello, World!\")"
   ]
  },
  {
   "cell_type": "code",
   "execution_count": null,
   "id": "e3c73d6e-417f-4dd7-9d63-4b38701403d5",
   "metadata": {},
   "outputs": [],
   "source": [
    "\"\"\"\n",
    "This is a comment\n",
    "written in\n",
    "more than just one line\n",
    "\"\"\"\n",
    "print(\"Hello, World!\")"
   ]
  },
  {
   "cell_type": "code",
   "execution_count": null,
   "id": "8c18eb6b-860e-4168-9b0d-9f88b30aa855",
   "metadata": {},
   "outputs": [],
   "source": [
    "Exercise"
   ]
  },
  {
   "cell_type": "code",
   "execution_count": null,
   "id": "972cdbeb-5d0c-4155-8f12-44047ffe8dca",
   "metadata": {},
   "outputs": [],
   "source": [
    "#"
   ]
  },
  {
   "cell_type": "code",
   "execution_count": null,
   "id": "994a9621-1529-4578-8fa1-cee834d7b957",
   "metadata": {},
   "outputs": [],
   "source": [
    "#This is a comment"
   ]
  },
  {
   "cell_type": "code",
   "execution_count": null,
   "id": "e0e5c0a6-6f43-4b01-827d-871536ee6744",
   "metadata": {},
   "outputs": [],
   "source": [
    "'''\n",
    "bluhbluhbluh\n",
    "'''"
   ]
  },
  {
   "cell_type": "markdown",
   "id": "51a991c8-d01d-418f-aa14-d3ab93d1cb20",
   "metadata": {},
   "source": []
  },
  {
   "cell_type": "markdown",
   "id": "38890f1c-4224-49b6-bd84-6017b0f4eb68",
   "metadata": {},
   "source": [
    "Variables"
   ]
  },
  {
   "cell_type": "markdown",
   "id": "8155c85f-fc72-469d-8121-72feaa7657a7",
   "metadata": {},
   "source": []
  },
  {
   "cell_type": "markdown",
   "id": "fd0a5cb7-69b4-4670-84f6-039dda524169",
   "metadata": {},
   "source": [
    "Example"
   ]
  },
  {
   "cell_type": "code",
   "execution_count": 4,
   "id": "aabc1f1f-2d2f-423d-9d00-c8e959f5f2aa",
   "metadata": {},
   "outputs": [
    {
     "name": "stdout",
     "output_type": "stream",
     "text": [
      "5\n",
      "John\n"
     ]
    }
   ],
   "source": [
    "x = 5\n",
    "y = \"John\"\n",
    "print(x)\n",
    "print(y)"
   ]
  },
  {
   "cell_type": "code",
   "execution_count": null,
   "id": "6e497592-eca3-49c7-b146-9e8b24c3f90a",
   "metadata": {},
   "outputs": [],
   "source": [
    "x = 4       # x is of type int\n",
    "x = \"Sally\" # x is now of type str\n",
    "print(x)"
   ]
  },
  {
   "cell_type": "code",
   "execution_count": null,
   "id": "0a013cae-2a4a-4a18-95c9-4abbd40d3628",
   "metadata": {},
   "outputs": [],
   "source": [
    "x = str(3)    # x will be '3'\n",
    "y = int(3)    # y will be 3\n",
    "z = float(3)  # z will be 3.0"
   ]
  },
  {
   "cell_type": "code",
   "execution_count": null,
   "id": "7b3b2361-0557-4e43-930e-a6d8c93a9586",
   "metadata": {},
   "outputs": [],
   "source": [
    "x = 5\n",
    "y = \"John\"\n",
    "print(type(x))\n",
    "print(type(y))"
   ]
  },
  {
   "cell_type": "code",
   "execution_count": null,
   "id": "c97bedcf-fe86-4cb8-9acd-9d9c24c2d27c",
   "metadata": {},
   "outputs": [],
   "source": [
    "x = \"John\"\n",
    "# is the same as\n",
    "x = 'John'"
   ]
  },
  {
   "cell_type": "code",
   "execution_count": null,
   "id": "8a7726f4-8d41-46c9-9899-98d6ced7bb01",
   "metadata": {},
   "outputs": [],
   "source": [
    "a = 4\n",
    "A = \"Sally\"\n",
    "#A will not overwrite a"
   ]
  },
  {
   "cell_type": "markdown",
   "id": "fc11492d-b307-485e-a1fc-1eebec8b0b1a",
   "metadata": {},
   "source": [
    "Exercise"
   ]
  },
  {
   "cell_type": "code",
   "execution_count": null,
   "id": "ccdc9e46-9590-4cde-97e2-9ff0ebeaa45b",
   "metadata": {},
   "outputs": [],
   "source": [
    "x = 5"
   ]
  },
  {
   "cell_type": "code",
   "execution_count": null,
   "id": "c24ab3f5-2bc7-4b20-8dc5-373377051bc6",
   "metadata": {},
   "outputs": [],
   "source": [
    "x = \"John\"\n",
    "# is the same as\n",
    "x = 'John'\n",
    "#True"
   ]
  },
  {
   "cell_type": "code",
   "execution_count": null,
   "id": "036ddbac-c0fd-4494-b7ba-d481a1d2f9d6",
   "metadata": {},
   "outputs": [],
   "source": [
    "a = 5\n",
    "# is the same as\n",
    "A = 5\n",
    "#False"
   ]
  },
  {
   "cell_type": "code",
   "execution_count": null,
   "id": "2e8dcc48-bb17-4b64-9c82-b2ecf7333d43",
   "metadata": {},
   "outputs": [],
   "source": [
    "print(type(myvar))\n",
    "#What is happening here? why is it appeared twice"
   ]
  },
  {
   "cell_type": "markdown",
   "id": "b9471c99-64a4-4c63-80cd-058bad281bb9",
   "metadata": {},
   "source": []
  },
  {
   "cell_type": "markdown",
   "id": "1bf7ac9b-b5a7-4311-a0b8-a2cbdc0d6b0c",
   "metadata": {},
   "source": [
    "Variable Names"
   ]
  },
  {
   "cell_type": "markdown",
   "id": "e0fff821-dce1-47c9-a0dd-84cbdb0bcbee",
   "metadata": {},
   "source": []
  },
  {
   "cell_type": "markdown",
   "id": "22b7ac9b-c61c-49f4-b076-1c63ffc0c716",
   "metadata": {},
   "source": [
    "Example"
   ]
  },
  {
   "cell_type": "code",
   "execution_count": null,
   "id": "829172f1-41b2-4964-b18b-384c19d6189f",
   "metadata": {},
   "outputs": [],
   "source": [
    "myvar = \"John\"\n",
    "my_var = \"John\"\n",
    "_my_var = \"John\"\n",
    "myVar = \"John\"\n",
    "MYVAR = \"John\"\n",
    "myvar2 = \"John\""
   ]
  },
  {
   "cell_type": "markdown",
   "id": "d35809f8-5eac-4846-af24-f8e5af5b2314",
   "metadata": {},
   "source": [
    "Bad Examples"
   ]
  },
  {
   "cell_type": "code",
   "execution_count": null,
   "id": "f36fb8d7-1902-4e84-9738-f6ab5f53ce43",
   "metadata": {},
   "outputs": [],
   "source": [
    "2myvar = \"John\"\n",
    "my-var = \"John\"\n",
    "my var = \"John\""
   ]
  },
  {
   "cell_type": "markdown",
   "id": "b7e1d8fd-74a0-4c5c-b280-9a5dbb697526",
   "metadata": {},
   "source": [
    "Exercise"
   ]
  },
  {
   "cell_type": "code",
   "execution_count": null,
   "id": "9358a302-6013-40a1-b749-adafe65fdef7",
   "metadata": {},
   "outputs": [],
   "source": [
    "my-var=20"
   ]
  },
  {
   "cell_type": "code",
   "execution_count": null,
   "id": "8ef4a93b-96e0-4dc6-9446-9022e4002ac3",
   "metadata": {},
   "outputs": [],
   "source": [
    "carname=\"Volvo\""
   ]
  },
  {
   "cell_type": "code",
   "execution_count": null,
   "id": "d6db2886-358c-4007-b5cd-2d91fa23fce2",
   "metadata": {},
   "outputs": [],
   "source": [
    "x=50"
   ]
  },
  {
   "cell_type": "markdown",
   "id": "3fba9973-4d99-4611-ad72-469c7838473e",
   "metadata": {},
   "source": []
  },
  {
   "cell_type": "markdown",
   "id": "a7736e80-9f29-4d21-b36a-3bed83b4de62",
   "metadata": {},
   "source": [
    "Assign Multiple Values"
   ]
  },
  {
   "cell_type": "markdown",
   "id": "b5acc329-7a52-4d89-8046-4ebb9fba0915",
   "metadata": {},
   "source": []
  },
  {
   "cell_type": "code",
   "execution_count": null,
   "id": "ff36a7fa-3a93-4941-9428-be30eb05f9b7",
   "metadata": {},
   "outputs": [],
   "source": [
    "Example"
   ]
  },
  {
   "cell_type": "code",
   "execution_count": null,
   "id": "363a4ba0-3a0b-4ffb-b9b7-5d7e538cf4cc",
   "metadata": {},
   "outputs": [],
   "source": [
    "x, y, z = \"Orange\", \"Banana\", \"Cherry\"\n",
    "print(x)\n",
    "print(y)\n",
    "print(z)"
   ]
  },
  {
   "cell_type": "code",
   "execution_count": null,
   "id": "4d52ceaf-e886-4e6d-826c-ebd57550f625",
   "metadata": {},
   "outputs": [],
   "source": [
    "x = y = z = \"Orange\"\n",
    "print(x)\n",
    "print(y)\n",
    "print(z)"
   ]
  },
  {
   "cell_type": "code",
   "execution_count": null,
   "id": "ff40a4ef-ccf9-43a3-86e3-7468afbc42ed",
   "metadata": {},
   "outputs": [],
   "source": [
    "fruits = [\"apple\", \"banana\", \"cherry\"]\n",
    "x, y, z = fruits\n",
    "print(x)\n",
    "print(y)\n",
    "print(z)\n"
   ]
  },
  {
   "cell_type": "code",
   "execution_count": null,
   "id": "97e65e0b-4643-4d76-b5d4-65f300d2d6cb",
   "metadata": {},
   "outputs": [],
   "source": [
    "Exercise"
   ]
  },
  {
   "cell_type": "code",
   "execution_count": null,
   "id": "2cb2b211-666f-4097-a0a7-624f6552a4b6",
   "metadata": {},
   "outputs": [],
   "source": [
    "x = y = z = \"Hello World!\""
   ]
  },
  {
   "cell_type": "code",
   "execution_count": null,
   "id": "d44c050a-6c8e-4d97-a250-e586808b9a1e",
   "metadata": {},
   "outputs": [],
   "source": [
    "x,y,z=\"Orange\",\"Banana\",\"Cherry, Cherry Lady\""
   ]
  },
  {
   "cell_type": "code",
   "execution_count": null,
   "id": "fae3bdf2-02da-4bc9-9b76-ca92932ad462",
   "metadata": {},
   "outputs": [],
   "source": [
    "fruits = ['apple', 'banana', 'cherry']\n",
    "a, b, c = fruits\n",
    "print(a)\n",
    "#Result is \"apple\""
   ]
  },
  {
   "cell_type": "markdown",
   "id": "da08e768-7f9e-4073-aeca-a1ddc66c16e7",
   "metadata": {},
   "source": []
  },
  {
   "cell_type": "markdown",
   "id": "e112af7a-49db-40c2-8fcf-2aa8ca2735ab",
   "metadata": {},
   "source": [
    "Output Variables"
   ]
  },
  {
   "cell_type": "markdown",
   "id": "c4570d58-96a3-42ca-bb79-66bed3543bf5",
   "metadata": {},
   "source": []
  },
  {
   "cell_type": "code",
   "execution_count": null,
   "id": "cd148f5f-977b-4fe0-b8cb-e2b7123bd861",
   "metadata": {},
   "outputs": [],
   "source": [
    "Example"
   ]
  },
  {
   "cell_type": "code",
   "execution_count": null,
   "id": "310429d9-b015-4334-9714-fb1d68851659",
   "metadata": {},
   "outputs": [],
   "source": [
    "x = \"Python is awesome\"\n",
    "print(x)"
   ]
  },
  {
   "cell_type": "code",
   "execution_count": null,
   "id": "46aa4ca4-f399-43e5-bb80-80918224aad8",
   "metadata": {},
   "outputs": [],
   "source": [
    "x = \"Python\"\n",
    "y = \"is\"\n",
    "z = \"awesome\"\n",
    "print(x, y, z)"
   ]
  },
  {
   "cell_type": "code",
   "execution_count": null,
   "id": "36b56931-7d3c-4c16-ac7d-2baf08225ace",
   "metadata": {},
   "outputs": [],
   "source": [
    "x = \"Python \"\n",
    "y = \"is \"\n",
    "z = \"awesome\"\n",
    "print(x + y + z)"
   ]
  },
  {
   "cell_type": "code",
   "execution_count": null,
   "id": "849940ab-a8c0-4105-a50b-aaa2535dff3c",
   "metadata": {},
   "outputs": [],
   "source": [
    "x = 5\n",
    "y = 10\n",
    "print(x + y)"
   ]
  },
  {
   "cell_type": "code",
   "execution_count": null,
   "id": "bd3e365c-bb21-4436-95fc-771b1aa494b8",
   "metadata": {},
   "outputs": [],
   "source": [
    "Bad Example"
   ]
  },
  {
   "cell_type": "code",
   "execution_count": null,
   "id": "af390f33-961d-4ae2-8f5e-1341e1de48ce",
   "metadata": {},
   "outputs": [],
   "source": [
    "x = 5\n",
    "y = \"John\"\n",
    "print(x + y)"
   ]
  },
  {
   "cell_type": "code",
   "execution_count": null,
   "id": "550dc8b6-8acd-43a9-8f3e-2f81e39f5e4e",
   "metadata": {},
   "outputs": [],
   "source": [
    "Good Example"
   ]
  },
  {
   "cell_type": "code",
   "execution_count": null,
   "id": "7ca72ad9-172c-4ba4-9601-db13e9194efb",
   "metadata": {},
   "outputs": [],
   "source": [
    "x = 5\n",
    "y = \"John\"\n",
    "print(x, y)"
   ]
  },
  {
   "cell_type": "code",
   "execution_count": null,
   "id": "297c56f1-257c-4697-9332-cf9f52d7ba34",
   "metadata": {},
   "outputs": [],
   "source": [
    "Exercise"
   ]
  },
  {
   "cell_type": "code",
   "execution_count": null,
   "id": "590c929f-9335-4a74-ad99-15373b0eb1a2",
   "metadata": {},
   "outputs": [],
   "source": [
    "print('Hello', 'World')\n",
    "#Result (Hello World)"
   ]
  },
  {
   "cell_type": "code",
   "execution_count": null,
   "id": "26e90b2c-9a31-4d46-aae4-87139ada459a",
   "metadata": {},
   "outputs": [],
   "source": [
    "a = 'Hello'\n",
    "b = 'World'\n",
    "print(a + b)\n",
    "#Result(HelloWorld)"
   ]
  },
  {
   "cell_type": "code",
   "execution_count": null,
   "id": "c42daf9b-97d7-4cce-a3c4-0d219075ef0d",
   "metadata": {},
   "outputs": [],
   "source": [
    "a = 4\n",
    "b = 5\n",
    "print(a + b)\n",
    "#Result(9)"
   ]
  },
  {
   "cell_type": "markdown",
   "id": "a09dcb8c-196f-4e86-8e52-17c168849f75",
   "metadata": {},
   "source": []
  },
  {
   "cell_type": "markdown",
   "id": "1f5fc411-daf3-4b49-8044-c9b044fe6841",
   "metadata": {},
   "source": [
    "Global Variables"
   ]
  },
  {
   "cell_type": "markdown",
   "id": "b16a4e22-cb1b-424e-bad8-fd964124ddf1",
   "metadata": {},
   "source": []
  },
  {
   "cell_type": "code",
   "execution_count": null,
   "id": "e61e01de-85a1-4050-ab17-3e596ba32a26",
   "metadata": {},
   "outputs": [],
   "source": [
    "Example"
   ]
  },
  {
   "cell_type": "code",
   "execution_count": null,
   "id": "088c53e0-f060-4315-9b0a-a7706c2f82e4",
   "metadata": {},
   "outputs": [],
   "source": [
    "x = \"awesome\"\n",
    "\n",
    "def myfunc():\n",
    "  print(\"Python is \" + x)\n",
    "\n",
    "myfunc()"
   ]
  },
  {
   "cell_type": "code",
   "execution_count": null,
   "id": "7dbe6af6-07c7-4050-93e1-bc45a3578619",
   "metadata": {},
   "outputs": [],
   "source": [
    "x = \"awesome\"\n",
    "\n",
    "def myfunc():\n",
    "  x = \"fantastic\"\n",
    "  print(\"Python is \" + x)\n",
    "\n",
    "myfunc()\n",
    "\n",
    "print(\"Python is \" + x)"
   ]
  },
  {
   "cell_type": "code",
   "execution_count": null,
   "id": "253e901d-52ef-4ad8-8ef7-06ee2158d996",
   "metadata": {},
   "outputs": [],
   "source": [
    "def myfunc():\n",
    "  global x\n",
    "  x = \"fantastic\"\n",
    "\n",
    "myfunc()\n",
    "\n",
    "print(\"Python is \" + x)"
   ]
  },
  {
   "cell_type": "code",
   "execution_count": null,
   "id": "3d449167-5d8e-4dbe-a807-cd8cecdcb79f",
   "metadata": {},
   "outputs": [],
   "source": [
    "x = \"awesome\"\n",
    "\n",
    "def myfunc():\n",
    "  global x\n",
    "  x = \"fantastic\"\n",
    "\n",
    "myfunc()\n",
    "\n",
    "print(\"Python is \" + x)"
   ]
  },
  {
   "cell_type": "code",
   "execution_count": null,
   "id": "c8085c95-2412-4abb-85ef-cf59da5ad033",
   "metadata": {},
   "outputs": [],
   "source": [
    "Exercise"
   ]
  },
  {
   "cell_type": "code",
   "execution_count": null,
   "id": "6558da8e-9579-4949-b616-a525429a34f3",
   "metadata": {},
   "outputs": [],
   "source": [
    "x = 'awesome'\n",
    "def myfunc():\n",
    "  x = 'fantastic'\n",
    "myfunc()\n",
    "print('Python is ' + x)\n",
    "# Python is awesome"
   ]
  },
  {
   "cell_type": "code",
   "execution_count": null,
   "id": "729baeb1-7799-4502-bbfb-2a4f8fd385da",
   "metadata": {},
   "outputs": [],
   "source": [
    "def myfunc():\n",
    "    global x\n",
    "    x = \"fantastic\""
   ]
  },
  {
   "cell_type": "code",
   "execution_count": null,
   "id": "ea4877bd-1c6b-46a9-990d-d92c0203dd4b",
   "metadata": {},
   "outputs": [],
   "source": [
    "x = 'awesome'\n",
    "def myfunc():\n",
    "  global x\n",
    "  x = 'fantastic'\n",
    "myfunc()\n",
    "print('Python is ' + x)\n",
    "#Python is fantastic"
   ]
  },
  {
   "cell_type": "markdown",
   "id": "1415fe62-7523-4ac5-9689-41576f7aa04c",
   "metadata": {},
   "source": []
  },
  {
   "cell_type": "markdown",
   "id": "58018d56-0439-463d-b992-3d1263de23f8",
   "metadata": {},
   "source": [
    "Variable exercise"
   ]
  },
  {
   "cell_type": "markdown",
   "id": "bb283415-79a1-421f-97da-aa0fed6cc7a5",
   "metadata": {},
   "source": []
  },
  {
   "cell_type": "code",
   "execution_count": null,
   "id": "61de1bb8-64e1-4260-9e83-b33e8d410fb6",
   "metadata": {},
   "outputs": [],
   "source": [
    "#Its a skip, Because we already did it in other sections"
   ]
  },
  {
   "cell_type": "markdown",
   "id": "67c44ec9-50df-49fc-b62d-ede05bedea5a",
   "metadata": {},
   "source": []
  },
  {
   "cell_type": "markdown",
   "id": "4cd70da3-0c31-4d4f-8346-dba1c54893ee",
   "metadata": {},
   "source": [
    "Data Types"
   ]
  },
  {
   "cell_type": "markdown",
   "id": "cf74a62c-7d9b-4eec-8924-be8ce66aa604",
   "metadata": {},
   "source": []
  },
  {
   "cell_type": "code",
   "execution_count": null,
   "id": "a5932a9d-6f04-4bd2-9077-b6ccb741287e",
   "metadata": {},
   "outputs": [],
   "source": [
    "Example"
   ]
  },
  {
   "cell_type": "code",
   "execution_count": null,
   "id": "2c147c9c-0340-4251-9611-05a7229a5c8b",
   "metadata": {},
   "outputs": [],
   "source": [
    "x = 5\n",
    "print(type(x))"
   ]
  },
  {
   "cell_type": "code",
   "execution_count": null,
   "id": "24a81c7e-f155-4b95-b7c2-b88e0bd23c42",
   "metadata": {},
   "outputs": [],
   "source": [
    "x = \"Hello World\"\n",
    "x = 20\n",
    "x = 20.5\t\n",
    "x = 1j\n",
    "x = [\"apple\", \"banana\", \"cherry\"]\t\n",
    "x = (\"apple\", \"banana\", \"cherry\")\t\n",
    "x = range(6)\n",
    "x = {\"name\" : \"John\", \"age\" : 36}\t\n",
    "x = {\"apple\", \"banana\", \"cherry\"}\n",
    "x = frozenset({\"apple\", \"banana\", \"cherry\"})\n",
    "x = True\n",
    "x = b\"Hello\"\n",
    "x = bytearray(5)\t\n",
    "x = memoryview(bytes(5))\t\n",
    "x = None"
   ]
  },
  {
   "cell_type": "code",
   "execution_count": null,
   "id": "d5b3df7e-02a0-4667-a8a2-6b1a899d5fb8",
   "metadata": {},
   "outputs": [],
   "source": [
    "Exercise"
   ]
  },
  {
   "cell_type": "code",
   "execution_count": null,
   "id": "61537243-a9ba-439e-8968-d9376a3b569e",
   "metadata": {},
   "outputs": [],
   "source": [
    "print(type(x))"
   ]
  },
  {
   "cell_type": "code",
   "execution_count": null,
   "id": "5e59fd88-8c48-4636-888d-674cc6663235",
   "metadata": {},
   "outputs": [],
   "source": [
    "x = 5\n",
    "print(type(x))\n",
    "#int"
   ]
  },
  {
   "cell_type": "code",
   "execution_count": null,
   "id": "0de6ddc9-af0a-4573-805e-075f7fd6817b",
   "metadata": {},
   "outputs": [],
   "source": [
    "x = \"Hello World\"\n",
    "print(type(x))\n",
    "#str"
   ]
  },
  {
   "cell_type": "code",
   "execution_count": null,
   "id": "86e4a079-c520-4b47-9752-db90a6295d40",
   "metadata": {},
   "outputs": [],
   "source": [
    "x = 20.5\n",
    "print(type(x))\n",
    "#float"
   ]
  },
  {
   "cell_type": "code",
   "execution_count": null,
   "id": "42f42ca7-4c81-4412-831f-5f5150fec22b",
   "metadata": {},
   "outputs": [],
   "source": [
    "x = [\"apple\", \"banana\", \"cherry\"]\n",
    "print(type(x))\n",
    "#list"
   ]
  },
  {
   "cell_type": "code",
   "execution_count": null,
   "id": "80ce8aea-03ca-4ded-b93d-a640f76dc3f1",
   "metadata": {},
   "outputs": [],
   "source": [
    "x = (\"apple\", \"banana\", \"cherry\")\n",
    "print(type(x))\n",
    "#tuple"
   ]
  },
  {
   "cell_type": "code",
   "execution_count": null,
   "id": "00b836df-71cc-48c7-ab40-1b208bfa5b58",
   "metadata": {},
   "outputs": [],
   "source": [
    "x = {\"name\" : \"John\", \"age\" : 36}\n",
    "print(type(x))\n",
    "#dict"
   ]
  },
  {
   "cell_type": "code",
   "execution_count": null,
   "id": "0c9aa941-f401-44ea-9115-eb951ff9e461",
   "metadata": {},
   "outputs": [],
   "source": [
    "x = True\n",
    "print(type(x))\n",
    "#bool"
   ]
  },
  {
   "cell_type": "markdown",
   "id": "a942f9ff-76e8-488c-b764-abda0ffc5344",
   "metadata": {},
   "source": []
  },
  {
   "cell_type": "markdown",
   "id": "f01367c3-f0a6-4428-8ed9-8d68109e31bd",
   "metadata": {},
   "source": [
    "Numbers"
   ]
  },
  {
   "cell_type": "markdown",
   "id": "55d5f5ba-b127-41d2-8fbe-c2d9bd13ba0f",
   "metadata": {},
   "source": []
  },
  {
   "cell_type": "markdown",
   "id": "3051cfdd-b95b-49a9-8838-41787f8b94a6",
   "metadata": {},
   "source": [
    "Example"
   ]
  },
  {
   "cell_type": "code",
   "execution_count": null,
   "id": "5243786a-c735-4fef-95ce-ec2a1d05efc3",
   "metadata": {},
   "outputs": [],
   "source": [
    "x = 1    # int\n",
    "y = 2.8  # float\n",
    "z = 1j   # complex"
   ]
  },
  {
   "cell_type": "code",
   "execution_count": null,
   "id": "4d943a3b-bb87-4bbc-8140-d05666ef2235",
   "metadata": {},
   "outputs": [],
   "source": [
    "print(type(x))\n",
    "print(type(y))\n",
    "print(type(z))"
   ]
  },
  {
   "cell_type": "code",
   "execution_count": null,
   "id": "dcf61b3d-e791-46d8-b117-e9ccc40eb19d",
   "metadata": {},
   "outputs": [],
   "source": [
    "x = 1\n",
    "y = 35656222554887711\n",
    "z = -3255522\n",
    "\n",
    "print(type(x))\n",
    "print(type(y))\n",
    "print(type(z))"
   ]
  },
  {
   "cell_type": "code",
   "execution_count": null,
   "id": "458b97d2-b472-4c6d-a3ca-7a2c8fde98f1",
   "metadata": {},
   "outputs": [],
   "source": [
    "x = 1.10\n",
    "y = 1.0\n",
    "z = -35.59\n",
    "\n",
    "print(type(x))\n",
    "print(type(y))\n",
    "print(type(z))"
   ]
  },
  {
   "cell_type": "code",
   "execution_count": null,
   "id": "d7032f6e-84db-44a6-8756-af32db51de44",
   "metadata": {},
   "outputs": [],
   "source": [
    "x = 35e3\n",
    "y = 12E4\n",
    "z = -87.7e100\n",
    "\n",
    "print(type(x))\n",
    "print(type(y))\n",
    "print(type(z))"
   ]
  },
  {
   "cell_type": "code",
   "execution_count": null,
   "id": "1b45b82c-93b1-4d90-9cee-7d9573ddea1d",
   "metadata": {},
   "outputs": [],
   "source": [
    "x = 3+5j\n",
    "y = 5j\n",
    "z = -5j\n",
    "\n",
    "print(type(x))\n",
    "print(type(y))\n",
    "print(type(z))"
   ]
  },
  {
   "cell_type": "code",
   "execution_count": null,
   "id": "1b1bfa4d-8141-41fb-8ea4-eabf3b3c0e5b",
   "metadata": {},
   "outputs": [],
   "source": [
    "x = 1    # int\n",
    "y = 2.8  # float\n",
    "z = 1j   # complex\n",
    "\n",
    "#convert from int to float:\n",
    "a = float(x)\n",
    "\n",
    "#convert from float to int:\n",
    "b = int(y)\n",
    "\n",
    "#convert from int to complex:\n",
    "c = complex(x)\n",
    "\n",
    "print(a)\n",
    "print(b)\n",
    "print(c)\n",
    "\n",
    "print(type(a))\n",
    "print(type(b))\n",
    "print(type(c))"
   ]
  },
  {
   "cell_type": "code",
   "execution_count": null,
   "id": "9351b7c1-5398-4466-8d50-aed9673ff1c2",
   "metadata": {},
   "outputs": [],
   "source": [
    "import random\n",
    "\n",
    "print(random.randrange(1, 10))"
   ]
  },
  {
   "cell_type": "code",
   "execution_count": null,
   "id": "896a4b52-0597-4aa4-9efb-e1341c0d6c0c",
   "metadata": {},
   "outputs": [],
   "source": [
    "Exercise"
   ]
  },
  {
   "cell_type": "code",
   "execution_count": 3,
   "id": "9b3f8c15-1b0b-4510-b9f3-ad82df86fc4f",
   "metadata": {},
   "outputs": [],
   "source": [
    "#Which is NOT a legal numeric data type in Python:\n",
    "#Long"
   ]
  },
  {
   "cell_type": "code",
   "execution_count": null,
   "id": "d49b7233-21d1-4720-ba1e-39c8d0b32ed9",
   "metadata": {},
   "outputs": [],
   "source": [
    "#Insert the correct syntax to convert x into a floating point number.\n",
    "x = 5\n",
    "x = float(x)"
   ]
  },
  {
   "cell_type": "code",
   "execution_count": null,
   "id": "2dd40e92-9571-4a2c-96f4-275cad8287d5",
   "metadata": {},
   "outputs": [],
   "source": [
    "#Insert the correct syntax to convert x into a integer.\n",
    "x = 5.5\n",
    "x = int(x)"
   ]
  },
  {
   "cell_type": "code",
   "execution_count": null,
   "id": "7352c50c-d051-470c-8d66-9172db33e226",
   "metadata": {},
   "outputs": [],
   "source": [
    "#Insert the correct syntax to convert x into a complex number.\n",
    "x = 5\n",
    "x = complex(x)"
   ]
  },
  {
   "cell_type": "markdown",
   "id": "f1f82b3b-a5f4-4124-82d8-12b9b4e9ed9f",
   "metadata": {},
   "source": []
  },
  {
   "cell_type": "markdown",
   "id": "9ab57636-f13e-445d-9aa1-fb6f11ad91be",
   "metadata": {},
   "source": [
    "Casting"
   ]
  },
  {
   "cell_type": "markdown",
   "id": "2700cdc7-6b48-4bc0-a9f7-f6e819688a0f",
   "metadata": {},
   "source": []
  },
  {
   "cell_type": "markdown",
   "id": "b2991839-ad3c-4e39-a18e-c7c9415a156d",
   "metadata": {},
   "source": [
    "Example"
   ]
  },
  {
   "cell_type": "code",
   "execution_count": null,
   "id": "e1680548-3f34-4921-864a-cccc6e7e7a09",
   "metadata": {},
   "outputs": [],
   "source": [
    "x = int(1)   # x will be 1\n",
    "y = int(2.8) # y will be 2\n",
    "z = int(\"3\") # z will be 3"
   ]
  },
  {
   "cell_type": "code",
   "execution_count": null,
   "id": "ed0e9180-0637-4dac-b4a1-d1ba73803b0d",
   "metadata": {},
   "outputs": [],
   "source": [
    "x = str(\"s1\") # x will be 's1'\n",
    "y = str(2)    # y will be '2'\n",
    "z = str(3.0)  # z will be '3.0'"
   ]
  },
  {
   "cell_type": "markdown",
   "id": "3345658d-dfa6-426b-ae62-7c0ccd363ce1",
   "metadata": {},
   "source": [
    "Exercise"
   ]
  },
  {
   "cell_type": "code",
   "execution_count": null,
   "id": "1fe0a78f-e75a-45f3-9352-f14aa6d7e517",
   "metadata": {},
   "outputs": [],
   "source": [
    "#What will be the result of the following code:\n",
    "#print(int(35.88))\n",
    "#35"
   ]
  },
  {
   "cell_type": "code",
   "execution_count": null,
   "id": "51b6673b-744e-481c-955f-9452a88de49b",
   "metadata": {},
   "outputs": [],
   "source": [
    "#What will be the result of the following code:\n",
    "#print(float(35))\n",
    "#35.0"
   ]
  },
  {
   "cell_type": "code",
   "execution_count": null,
   "id": "d493477b-019a-4460-945d-5d28480052f8",
   "metadata": {},
   "outputs": [],
   "source": [
    "#What will be the result of the following code:\n",
    "#print(str(35.82))\n",
    "#35.82"
   ]
  },
  {
   "cell_type": "markdown",
   "id": "5714e403-e6b3-4d32-a1fb-3cde4f35c99d",
   "metadata": {},
   "source": []
  },
  {
   "cell_type": "markdown",
   "id": "2f5379c7-964a-4946-af0c-ffa0a7346d1c",
   "metadata": {},
   "source": [
    "Strings"
   ]
  },
  {
   "cell_type": "markdown",
   "id": "73407aec-2b5f-4d21-a41b-30efc321a23f",
   "metadata": {},
   "source": []
  },
  {
   "cell_type": "markdown",
   "id": "af8ed6dc-3be1-4331-9141-3388692de51c",
   "metadata": {},
   "source": [
    "Python Strings"
   ]
  },
  {
   "cell_type": "markdown",
   "id": "5bc84285-5660-401b-8872-40c395c7659a",
   "metadata": {},
   "source": []
  },
  {
   "cell_type": "markdown",
   "id": "d9695be0-c935-4425-9706-447ed29b647c",
   "metadata": {},
   "source": [
    "Exercise"
   ]
  },
  {
   "cell_type": "code",
   "execution_count": null,
   "id": "c3761e07-b9b1-443d-816d-e68087ed4a23",
   "metadata": {},
   "outputs": [],
   "source": [
    "print(\"Hello\")\n",
    "print('Hello')"
   ]
  },
  {
   "cell_type": "code",
   "execution_count": null,
   "id": "c96088f2-b706-46ad-a2e4-1f84c198ed37",
   "metadata": {},
   "outputs": [],
   "source": [
    "print(\"It's alright\")\n",
    "print(\"He is called 'Johnny'\")\n",
    "print('He is called \"Johnny\"')"
   ]
  },
  {
   "cell_type": "code",
   "execution_count": null,
   "id": "eafac52a-7879-4209-805b-095317a9a2d4",
   "metadata": {},
   "outputs": [],
   "source": [
    "a = \"Hello\"\n",
    "print(a)"
   ]
  },
  {
   "cell_type": "code",
   "execution_count": null,
   "id": "6ac7b01b-a2ac-4804-96ce-289c6581db76",
   "metadata": {},
   "outputs": [],
   "source": [
    "a = \"\"\"Lorem ipsum dolor sit amet,\n",
    "consectetur adipiscing elit,\n",
    "sed do eiusmod tempor incididunt\n",
    "ut labore et dolore magna aliqua.\"\"\"\n",
    "print(a)"
   ]
  },
  {
   "cell_type": "code",
   "execution_count": null,
   "id": "9ba4d05c-c8ef-4fbd-b967-5a598f2257d0",
   "metadata": {},
   "outputs": [],
   "source": [
    "a = '''Lorem ipsum dolor sit amet,\n",
    "consectetur adipiscing elit,\n",
    "sed do eiusmod tempor incididunt\n",
    "ut labore et dolore magna aliqua.'''\n",
    "print(a)"
   ]
  },
  {
   "cell_type": "code",
   "execution_count": null,
   "id": "d89bca71-e9ef-4851-8b33-b0ee85bb54b5",
   "metadata": {},
   "outputs": [],
   "source": [
    "a = \"Hello, World!\"\n",
    "print(a[1])"
   ]
  },
  {
   "cell_type": "code",
   "execution_count": null,
   "id": "dc274b81-4edf-4168-9937-ccea09d8145b",
   "metadata": {},
   "outputs": [],
   "source": [
    "for x in \"banana\":\n",
    "  print(x)"
   ]
  },
  {
   "cell_type": "code",
   "execution_count": null,
   "id": "aa8535d1-6ba3-449f-8cd0-a1364a3c7c2a",
   "metadata": {},
   "outputs": [],
   "source": [
    "a = \"Hello, World!\"\n",
    "print(len(a))"
   ]
  },
  {
   "cell_type": "code",
   "execution_count": null,
   "id": "3acc97e3-1470-445b-9ae8-6630851bdccb",
   "metadata": {},
   "outputs": [],
   "source": [
    "txt = \"The best things in life are free!\"\n",
    "print(\"free\" in txt)"
   ]
  },
  {
   "cell_type": "code",
   "execution_count": null,
   "id": "43cf3794-bad5-4af9-bb03-cf7b3f380c55",
   "metadata": {},
   "outputs": [],
   "source": [
    "txt = \"The best things in life are free!\"\n",
    "if \"free\" in txt:\n",
    "  print(\"Yes, 'free' is present.\")"
   ]
  },
  {
   "cell_type": "code",
   "execution_count": null,
   "id": "9c5041e0-411a-4fae-8c6f-f4f26d2714e0",
   "metadata": {},
   "outputs": [],
   "source": [
    "txt = \"The best things in life are free!\"\n",
    "print(\"expensive\" not in txt)"
   ]
  },
  {
   "cell_type": "code",
   "execution_count": null,
   "id": "5658b2a0-82bc-4c6f-8172-3235236f2cce",
   "metadata": {},
   "outputs": [],
   "source": [
    "txt = \"The best things in life are free!\"\n",
    "if \"expensive\" not in txt:\n",
    "  print(\"No, 'expensive' is NOT present.\")"
   ]
  },
  {
   "cell_type": "markdown",
   "id": "37ebef13-240b-4c8a-a020-7eed9e52779d",
   "metadata": {},
   "source": [
    "Exercise"
   ]
  },
  {
   "cell_type": "code",
   "execution_count": null,
   "id": "15a5c3c9-1fb2-4d54-abef-514614dab745",
   "metadata": {},
   "outputs": [],
   "source": [
    "#What will be the result of the following code:\n",
    "x = 'Welcome'\n",
    "print(x[3])\n",
    "#c"
   ]
  },
  {
   "cell_type": "code",
   "execution_count": null,
   "id": "9bd17b2c-bf22-47a8-a435-73b51effa510",
   "metadata": {},
   "outputs": [],
   "source": [
    "#Use the len function to print the length of the string.\n",
    "x = \"Hello World\"\n",
    "print(len(x))\n"
   ]
  },
  {
   "cell_type": "code",
   "execution_count": null,
   "id": "22475079-ab1b-43a0-a145-9c3e1f762998",
   "metadata": {},
   "outputs": [],
   "source": [
    "$Get the first character of the string txt.\n",
    "txt = \"Hello World\"\n",
    "x = txt[0]\n"
   ]
  },
  {
   "cell_type": "code",
   "execution_count": null,
   "id": "3ed44eb7-2a6b-40aa-ae2a-fccbb234ef27",
   "metadata": {},
   "outputs": [],
   "source": [
    "#Insert the correct keyword to check if the word 'free' is present in the text:\n",
    "txt = 'The best things in life are free!'\n",
    "if 'free' in txt:\n",
    "  print('Yes, free is present in the text.')"
   ]
  },
  {
   "cell_type": "code",
   "execution_count": null,
   "id": "136c8d8d-e3ce-429e-b27c-a33eb8c64cc1",
   "metadata": {},
   "outputs": [],
   "source": []
  },
  {
   "cell_type": "code",
   "execution_count": null,
   "id": "9b61758c-54a6-4186-b83f-896445d8da34",
   "metadata": {},
   "outputs": [],
   "source": [
    "Slicing Strings"
   ]
  },
  {
   "cell_type": "code",
   "execution_count": null,
   "id": "fd9371af-559d-4be2-b9bc-3acab70ac972",
   "metadata": {},
   "outputs": [],
   "source": [
    "Example"
   ]
  },
  {
   "cell_type": "code",
   "execution_count": null,
   "id": "3b58fcbc-21a1-4af5-8dcb-8881989e00d5",
   "metadata": {},
   "outputs": [],
   "source": [
    "b = \"Hello, World!\"\n",
    "print(b[2:5])"
   ]
  },
  {
   "cell_type": "code",
   "execution_count": null,
   "id": "9ad89fa5-f8ec-4144-8bda-fcf351d2309b",
   "metadata": {},
   "outputs": [],
   "source": [
    "b = \"Hello, World!\"\n",
    "print(b[2:])"
   ]
  },
  {
   "cell_type": "code",
   "execution_count": null,
   "id": "e61caa75-829d-464d-9d28-e5a7263cc2b9",
   "metadata": {},
   "outputs": [],
   "source": [
    "b = \"Hello, World!\"\n",
    "print(b[-5:-2])"
   ]
  },
  {
   "cell_type": "code",
   "execution_count": null,
   "id": "03edb011-ae91-40dc-89df-8b6f51ec4462",
   "metadata": {},
   "outputs": [],
   "source": [
    "Exercise"
   ]
  },
  {
   "cell_type": "code",
   "execution_count": null,
   "id": "0aa2463b-64be-4849-b615-4fdbd8a4964c",
   "metadata": {},
   "outputs": [],
   "source": [
    "#What will be the result of the following code\n",
    "x = 'Welcome'\n",
    "print(x[3:5])\n",
    "#co"
   ]
  },
  {
   "cell_type": "code",
   "execution_count": null,
   "id": "ff283f0f-42d0-4180-a2f1-3460c1107ec9",
   "metadata": {},
   "outputs": [],
   "source": [
    "#Get the characters from index 2 to index 4 (llo)\n",
    "txt = \"Hello World\"\n",
    "x = txt[2:5]\n"
   ]
  },
  {
   "cell_type": "code",
   "execution_count": null,
   "id": "82bc2ac9-bb61-4ccd-b425-183f2304c647",
   "metadata": {},
   "outputs": [],
   "source": [
    "What will be the result of the following code:\n",
    "x = 'Welcome'\n",
    "print(x[3:])\n",
    "#come"
   ]
  },
  {
   "cell_type": "markdown",
   "id": "a4fcb117-bc93-4bf8-9632-bb76f65078f4",
   "metadata": {},
   "source": []
  },
  {
   "cell_type": "markdown",
   "id": "7b58f133-9a26-429c-ab23-e1ac14ee18e3",
   "metadata": {},
   "source": [
    "Modify Strings"
   ]
  },
  {
   "cell_type": "markdown",
   "id": "e90dea56-ee09-48a2-b347-9c7982e72ef9",
   "metadata": {},
   "source": []
  },
  {
   "cell_type": "code",
   "execution_count": null,
   "id": "e882247c-e4cb-486d-8abb-220a176c3f95",
   "metadata": {},
   "outputs": [],
   "source": [
    "Example"
   ]
  },
  {
   "cell_type": "code",
   "execution_count": null,
   "id": "52e6f648-38a4-4f1c-8906-867a8badaa4e",
   "metadata": {},
   "outputs": [],
   "source": [
    "a = \"Hello, World!\"\n",
    "print(a.upper())"
   ]
  },
  {
   "cell_type": "code",
   "execution_count": null,
   "id": "7fe11218-b1bb-403e-9e40-96c5aed137c9",
   "metadata": {},
   "outputs": [],
   "source": [
    "a = \"Hello, World!\"\n",
    "print(a.lower())"
   ]
  },
  {
   "cell_type": "code",
   "execution_count": null,
   "id": "361419a3-4405-400c-955a-04b6cc2efe88",
   "metadata": {},
   "outputs": [],
   "source": [
    "a = \" Hello, World! \"\n",
    "print(a.strip()) # returns \"Hello, World!\""
   ]
  },
  {
   "cell_type": "code",
   "execution_count": null,
   "id": "32edd424-815c-40d9-a81b-97d9b3e8fe99",
   "metadata": {},
   "outputs": [],
   "source": [
    "a = \"Hello, World!\"\n",
    "print(a.replace(\"H\", \"J\"))"
   ]
  },
  {
   "cell_type": "code",
   "execution_count": null,
   "id": "60c89939-dc05-4882-ac22-39d465dadcde",
   "metadata": {},
   "outputs": [],
   "source": [
    "a = \"Hello, World!\"\n",
    "print(a.split(\",\")) # returns ['Hello', ' World!']"
   ]
  },
  {
   "cell_type": "code",
   "execution_count": null,
   "id": "c217a9a5-ec12-49ba-9550-d83d11d0f1f9",
   "metadata": {},
   "outputs": [],
   "source": []
  },
  {
   "cell_type": "code",
   "execution_count": null,
   "id": "886af206-2c16-43df-a1e9-85ad4d09f6ac",
   "metadata": {},
   "outputs": [],
   "source": [
    "String Concatenation"
   ]
  },
  {
   "cell_type": "code",
   "execution_count": null,
   "id": "de48d3c3-7ab3-4378-8b0a-7f42fce5d204",
   "metadata": {},
   "outputs": [],
   "source": []
  },
  {
   "cell_type": "code",
   "execution_count": null,
   "id": "daac8779-4ee1-417e-9457-0e5d48a93ba7",
   "metadata": {},
   "outputs": [],
   "source": [
    "Example"
   ]
  },
  {
   "cell_type": "code",
   "execution_count": null,
   "id": "42c9e712-79ec-467f-bdd3-a77e38abd298",
   "metadata": {},
   "outputs": [],
   "source": [
    "a = \"Hello\"\n",
    "b = \"World\"\n",
    "c = a + b\n",
    "print(c)"
   ]
  },
  {
   "cell_type": "code",
   "execution_count": null,
   "id": "e9b125a5-6f54-43f7-83b1-1d1b4e53309f",
   "metadata": {},
   "outputs": [],
   "source": [
    "a = \"Hello\"\n",
    "b = \"World\"\n",
    "c = a + \" \" + b\n",
    "print(c)"
   ]
  },
  {
   "cell_type": "code",
   "execution_count": null,
   "id": "e1e93082-cf24-460a-8483-9cad375412fd",
   "metadata": {},
   "outputs": [],
   "source": []
  },
  {
   "cell_type": "code",
   "execution_count": null,
   "id": "3b12c0ea-743d-499e-b8b5-3656705d102b",
   "metadata": {},
   "outputs": [],
   "source": [
    "Format Strings"
   ]
  },
  {
   "cell_type": "code",
   "execution_count": null,
   "id": "cddfbff5-9ecd-4b04-9122-4f50e9195383",
   "metadata": {},
   "outputs": [],
   "source": []
  },
  {
   "cell_type": "code",
   "execution_count": null,
   "id": "9bcdec35-c7ff-44ee-ad64-26f9299d46be",
   "metadata": {},
   "outputs": [],
   "source": [
    "Bad Example"
   ]
  },
  {
   "cell_type": "code",
   "execution_count": null,
   "id": "370eab46-fa96-4a99-9c03-39e6ffd8859f",
   "metadata": {},
   "outputs": [],
   "source": [
    "age = 36\n",
    "txt = \"My name is John, I am \" + age\n",
    "print(txt)"
   ]
  },
  {
   "cell_type": "code",
   "execution_count": null,
   "id": "2e2c11a1-529d-42a5-8977-5e1e5ed6eb92",
   "metadata": {},
   "outputs": [],
   "source": [
    "Example"
   ]
  },
  {
   "cell_type": "code",
   "execution_count": null,
   "id": "33a85314-090b-4412-abf3-51dfd799ea41",
   "metadata": {},
   "outputs": [],
   "source": [
    "age = 36\n",
    "txt = f\"My name is John, I am {age}\"\n",
    "print(txt)"
   ]
  },
  {
   "cell_type": "code",
   "execution_count": null,
   "id": "a34707b6-3e27-481d-8c7c-2352fd73a98a",
   "metadata": {},
   "outputs": [],
   "source": [
    "price = 59\n",
    "txt = f\"The price is {price} dollars\"\n",
    "print(txt)"
   ]
  },
  {
   "cell_type": "code",
   "execution_count": null,
   "id": "f0e9b7ef-f87b-48ac-9fcb-2d78ebd75715",
   "metadata": {},
   "outputs": [],
   "source": [
    "price = 59\n",
    "txt = f\"The price is {price:.2f} dollars\"\n",
    "print(txt)"
   ]
  },
  {
   "cell_type": "code",
   "execution_count": null,
   "id": "9e78ee2c-6ad6-4a7f-b39d-ad1d803bea38",
   "metadata": {},
   "outputs": [],
   "source": [
    "txt = f\"The price is {20 * 59} dollars\"\n",
    "print(txt)"
   ]
  },
  {
   "cell_type": "code",
   "execution_count": null,
   "id": "8d1109da-503d-494a-adc4-15e754230e6d",
   "metadata": {},
   "outputs": [],
   "source": []
  },
  {
   "cell_type": "code",
   "execution_count": null,
   "id": "6e47b7dd-77c1-4379-a339-ceafd07e7808",
   "metadata": {},
   "outputs": [],
   "source": [
    "Escape Characters"
   ]
  },
  {
   "cell_type": "code",
   "execution_count": null,
   "id": "ce0e89f4-79a6-4fd3-afa9-4d259642dfe5",
   "metadata": {},
   "outputs": [],
   "source": []
  },
  {
   "cell_type": "code",
   "execution_count": null,
   "id": "91854f18-0242-4506-853a-d5da3b5f433d",
   "metadata": {},
   "outputs": [],
   "source": [
    "Bad Example"
   ]
  },
  {
   "cell_type": "code",
   "execution_count": null,
   "id": "3054b89d-1f7c-4f98-b7b1-11d5b893268c",
   "metadata": {},
   "outputs": [],
   "source": [
    "txt = \"We are the so-called \"Vikings\" from the north.\""
   ]
  },
  {
   "cell_type": "code",
   "execution_count": null,
   "id": "fb9749bb-11da-4901-bb29-b41535dc9984",
   "metadata": {},
   "outputs": [],
   "source": [
    "Example"
   ]
  },
  {
   "cell_type": "code",
   "execution_count": null,
   "id": "4c4380f3-eeff-43dd-b643-726e0d9956ce",
   "metadata": {},
   "outputs": [],
   "source": [
    "txt = \"We are the so-called \\\"Vikings\\\" from the north.\""
   ]
  }
 ],
 "metadata": {
  "kernelspec": {
   "display_name": "Python [conda env:base] *",
   "language": "python",
   "name": "conda-base-py"
  },
  "language_info": {
   "codemirror_mode": {
    "name": "ipython",
    "version": 3
   },
   "file_extension": ".py",
   "mimetype": "text/x-python",
   "name": "python",
   "nbconvert_exporter": "python",
   "pygments_lexer": "ipython3",
   "version": "3.12.7"
  }
 },
 "nbformat": 4,
 "nbformat_minor": 5
}
